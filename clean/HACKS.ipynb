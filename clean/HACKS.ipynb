{
 "cells": [
  {
   "cell_type": "code",
   "execution_count": null,
   "id": "cc6ec70e-334d-44f8-83e5-b8ae226015e9",
   "metadata": {},
   "outputs": [],
   "source": [
    "### As seen in week 2, interp.plot_top_losses(k) will only show the top 1 image\n",
    "    # Hamel's using fastai version 2.5.4 (which for some reason we can't get), and his works fine\n",
    "    # Our version 2.5.3 might be the issue, too lazy to find a version that works, just use this hack below\n",
    "\n",
    "# FROM https://forums.fast.ai/t/plot-top-losses-problem/92015/12\n",
    "def plot_top_losses_fix(interp, k, largest=True, **kwargs):\n",
    "        losses,idx = interp.top_losses(k, largest)\n",
    "        if not isinstance(interp.inputs, tuple): interp.inputs = (interp.inputs,)\n",
    "        if isinstance(interp.inputs[0], Tensor): inps = tuple(o[idx] for o in interp.inputs)\n",
    "        else: inps = interp.dl.create_batch(interp.dl.before_batch([tuple(o[i] for o in interp.inputs) for i in idx]))\n",
    "        b = inps + tuple(o[idx] for o in (interp.targs if is_listy(interp.targs) else (interp.targs,)))\n",
    "        x,y,its = interp.dl._pre_show_batch(b, max_n=k)\n",
    "        b_out = inps + tuple(o[idx] for o in (interp.decoded if is_listy(interp.decoded) else (interp.decoded,)))\n",
    "        x1,y1,outs = interp.dl._pre_show_batch(b_out, max_n=k)\n",
    "        if its is not None:\n",
    "            #plot_top_losses(x, y, its, outs.itemgot(slice(len(inps), None)), L(self.preds).itemgot(idx), losses,  **kwargs)\n",
    "            plot_top_losses(x, y, its, outs.itemgot(slice(len(inps), None)), interp.preds[idx], losses,  **kwargs)\n",
    "        #TODO: figure out if this is needed\n",
    "        #its None means that a batch knows how to show itself as a whole, so we pass x, x1\n",
    "        #else: show_results(x, x1, its, ctxs=ctxs, max_n=max_n, **kwargs)"
   ]
  }
 ],
 "metadata": {
  "environment": {
   "kernel": "python3",
   "name": "pytorch-gpu.1-10.m90",
   "type": "gcloud",
   "uri": "gcr.io/deeplearning-platform-release/pytorch-gpu.1-10:m90"
  },
  "kernelspec": {
   "display_name": "Python 3",
   "language": "python",
   "name": "python3"
  },
  "language_info": {
   "codemirror_mode": {
    "name": "ipython",
    "version": 3
   },
   "file_extension": ".py",
   "mimetype": "text/x-python",
   "name": "python",
   "nbconvert_exporter": "python",
   "pygments_lexer": "ipython3",
   "version": "3.7.12"
  }
 },
 "nbformat": 4,
 "nbformat_minor": 5
}
