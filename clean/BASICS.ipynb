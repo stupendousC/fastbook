{
 "cells": [
  {
   "cell_type": "code",
   "execution_count": 2,
   "id": "a36265e9-f480-4f47-ba23-6ba656266979",
   "metadata": {
    "collapsed": true,
    "jupyter": {
     "outputs_hidden": true
    },
    "tags": []
   },
   "outputs": [
    {
     "name": "stderr",
     "output_type": "stream",
     "text": [
      "ERROR:root:No traceback has been produced, nothing to debug.\n"
     ]
    }
   ],
   "source": [
    "%debug\n",
    "# if error is thrown runnign thsi opens up a debugger env't"
   ]
  },
  {
   "cell_type": "code",
   "execution_count": null,
   "id": "f7f81282-a8b2-453d-9367-1e9d8c620a9e",
   "metadata": {},
   "outputs": [],
   "source": [
    "# doc(something) <-- to show basic signatures\n",
    "# something.something??  <-- to show source code"
   ]
  }
 ],
 "metadata": {
  "environment": {
   "kernel": "python3",
   "name": "pytorch-gpu.1-10.m90",
   "type": "gcloud",
   "uri": "gcr.io/deeplearning-platform-release/pytorch-gpu.1-10:m90"
  },
  "kernelspec": {
   "display_name": "Python 3",
   "language": "python",
   "name": "python3"
  },
  "language_info": {
   "codemirror_mode": {
    "name": "ipython",
    "version": 3
   },
   "file_extension": ".py",
   "mimetype": "text/x-python",
   "name": "python",
   "nbconvert_exporter": "python",
   "pygments_lexer": "ipython3",
   "version": "3.7.12"
  }
 },
 "nbformat": 4,
 "nbformat_minor": 5
}
