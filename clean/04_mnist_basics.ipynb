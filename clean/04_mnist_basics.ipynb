{
 "cells": [
  {
   "cell_type": "code",
   "execution_count": 3,
   "metadata": {},
   "outputs": [],
   "source": [
    "#hide\n",
    "!pip install -Uqq fastbook\n",
    "import fastbook\n",
    "fastbook.setup_book()"
   ]
  },
  {
   "cell_type": "code",
   "execution_count": 4,
   "metadata": {},
   "outputs": [],
   "source": [
    "#hide\n",
    "from fastai.vision.all import *\n",
    "from fastbook import *\n",
    "\n",
    "matplotlib.rc('image', cmap='Greys')"
   ]
  },
  {
   "cell_type": "markdown",
   "metadata": {},
   "source": [
    "# Under the Hood: Training a Digit Classifier"
   ]
  },
  {
   "cell_type": "code",
   "execution_count": null,
   "metadata": {},
   "outputs": [],
   "source": [
    "# BROADCASTING = a technique to use arrays & tensors expressively\n",
    "    # basically \"pads\" a lesser-ranked tensor to match another tensor it needs to do math with\n",
    "# SGD = Stochastic Gradient Descent, the mechnaism for learning by updating weights automatically :-D\n"
   ]
  },
  {
   "cell_type": "markdown",
   "metadata": {},
   "source": [
    "## Pixels: The Foundations of Computer Vision"
   ]
  },
  {
   "cell_type": "markdown",
   "metadata": {},
   "source": [
    "## Sidebar: Tenacity and Deep Learning"
   ]
  },
  {
   "cell_type": "markdown",
   "metadata": {},
   "source": [
    "## End sidebar"
   ]
  },
  {
   "cell_type": "code",
   "execution_count": 23,
   "metadata": {
    "tags": []
   },
   "outputs": [],
   "source": [
    "# MNIST is a dataset in computer vision, it contains images of handwriten digits.\n",
    "# Here we're making a model that can tell if a digit is a 3 OR 7\n",
    "    # the 3 & 7 images are in MNIST_SAMPLE\n",
    "\n",
    "path = untar_data(URLs.MNIST_SAMPLE)"
   ]
  },
  {
   "cell_type": "code",
   "execution_count": 24,
   "metadata": {
    "tags": []
   },
   "outputs": [
    {
     "name": "stdout",
     "output_type": "stream",
     "text": [
      "/home/jupyter/.fastai/data/mnist_sample\n",
      "<class 'pathlib.PosixPath'>\n"
     ]
    },
    {
     "data": {
      "text/html": [
       "<h4 id=\"fastai/data/mnist_sample\" class=\"doc_header\"><code>fastai/data/mnist_sample</code><a href=\"\" class=\"source_link\" style=\"float:right\">[source]</a></h4><p>Path subclass for non-Windows systems.</p>\n",
       "<p>On a POSIX system, instantiating a Path should return this object.</p>\n",
       "<style>\n",
       "    table { border-collapse: collapse; border:thin solid #dddddd; margin: 25px 0px; ; }\n",
       "    table tr:first-child { background-color: #FFF}\n",
       "    table thead th { background-color: #eee; color: #000; text-align: center;}\n",
       "    tr, th, td { border: 1px solid #ccc; border-width: 1px 0 0 1px; border-collapse: collapse;\n",
       "    padding: 5px; }\n",
       "    tr:nth-child(even) {background: #eee;}</style>"
      ]
     },
     "metadata": {},
     "output_type": "display_data"
    }
   ],
   "source": [
    "#hide\n",
    "Path.BASE_PATH = path\n",
    "print(path)\n",
    "print(type(path))\n",
    "\n",
    "# can also do stuff like...\n",
    "# path.ls??  # for source code\n",
    "doc(path)    # for docs\n"
   ]
  },
  {
   "cell_type": "code",
   "execution_count": 25,
   "metadata": {},
   "outputs": [
    {
     "data": {
      "text/plain": [
       "(#3) [Path('valid'),Path('train'),Path('labels.csv')]"
      ]
     },
     "execution_count": 25,
     "metadata": {},
     "output_type": "execute_result"
    }
   ],
   "source": [
    "# see there are 3 folders under this path\n",
    "path.ls()"
   ]
  },
  {
   "cell_type": "code",
   "execution_count": 28,
   "metadata": {},
   "outputs": [
    {
     "data": {
      "text/plain": [
       "(#2) [Path('train/3'),Path('train/7')]"
      ]
     },
     "execution_count": 28,
     "metadata": {},
     "output_type": "execute_result"
    }
   ],
   "source": [
    "# and 2 folders under train/\n",
    "(path/'train').ls()"
   ]
  },
  {
   "cell_type": "code",
   "execution_count": 29,
   "metadata": {},
   "outputs": [
    {
     "data": {
      "text/plain": [
       "(#6131) [Path('train/3/10.png'),Path('train/3/10000.png'),Path('train/3/10011.png'),Path('train/3/10031.png'),Path('train/3/10034.png'),Path('train/3/10042.png'),Path('train/3/10052.png'),Path('train/3/1007.png'),Path('train/3/10074.png'),Path('train/3/10091.png')...]"
      ]
     },
     "execution_count": 29,
     "metadata": {},
     "output_type": "execute_result"
    }
   ],
   "source": [
    "threes = (path/'train'/'3').ls().sorted()\n",
    "sevens = (path/'train'/'7').ls().sorted()\n",
    "threes"
   ]
  },
  {
   "cell_type": "code",
   "execution_count": 30,
   "metadata": {},
   "outputs": [
    {
     "data": {
      "image/png": "[encoded data removed]",
      "text/plain": [
       "<PIL.PngImagePlugin.PngImageFile image mode=L size=28x28 at 0x7F0ACAD32110>"
      ]
     },
     "execution_count": 30,
     "metadata": {},
     "output_type": "execute_result"
    }
   ],
   "source": [
    "# Use Image class from PIL/PythonImagingLibrary to show a file under a path\n",
    "\n",
    "im3_path = threes[1]\n",
    "im3 = Image.open(im3_path)\n",
    "im3"
   ]
  },
  {
   "cell_type": "code",
   "execution_count": 31,
   "metadata": {},
   "outputs": [
    {
     "data": {
      "text/plain": [
       "array([[  0,   0,   0,   0,   0,   0],\n",
       "       [  0,   0,   0,   0,   0,  29],\n",
       "       [  0,   0,   0,  48, 166, 224],\n",
       "       [  0,  93, 244, 249, 253, 187],\n",
       "       [  0, 107, 253, 253, 230,  48],\n",
       "       [  0,   3,  20,  20,  15,   0]], dtype=uint8)"
      ]
     },
     "execution_count": 31,
     "metadata": {},
     "output_type": "execute_result"
    }
   ],
   "source": [
    "# To see the numbers that make up this image,\n",
    "# ... we need to convert it to a NumPy array\n",
    "# array(openedImage)[rowRange, colRange], where range format is inc:exc\n",
    "    # the example below gives rows from index4 to index9, and columns from 4-9.  \n",
    "    # With row/column 0/0 being the top left hand corner.\n",
    "\n",
    "array(im3)[4:10,4:10]\n",
    "    # dtype says they're 8bit unsigned int"
   ]
  },
  {
   "cell_type": "code",
   "execution_count": 10,
   "metadata": {},
   "outputs": [
    {
     "data": {
      "text/plain": [
       "tensor([[  0,   0,   0,   0,   0,   0],\n",
       "        [  0,   0,   0,   0,   0,  29],\n",
       "        [  0,   0,   0,  48, 166, 224],\n",
       "        [  0,  93, 244, 249, 253, 187],\n",
       "        [  0, 107, 253, 253, 230,  48],\n",
       "        [  0,   3,  20,  20,  15,   0]], dtype=torch.uint8)"
      ]
     },
     "execution_count": 10,
     "metadata": {},
     "output_type": "execute_result"
    }
   ],
   "source": [
    "# ... Or convert it to a PyTorch tensor\n",
    "    # basically a Pytorch version of a NumPy array, behaviors almost identically\n",
    "    # !!! the diff is PyTorch tensor can be computed on GPU, and has more functionalities\n",
    "tensor(im3)[4:10,4:10]"
   ]
  },
  {
   "cell_type": "code",
   "execution_count": 10,
   "metadata": {
    "collapsed": true,
    "jupyter": {
     "outputs_hidden": true
    },
    "tags": []
   },
   "outputs": [
    {
     "data": {
      "text/html": [
       "<style type=\"text/css\">\n",
       "#T_87b78_row0_col0, #T_87b78_row0_col1, #T_87b78_row0_col2, #T_87b78_row0_col3, #T_87b78_row0_col4, #T_87b78_row0_col5, #T_87b78_row1_col0, #T_87b78_row1_col1, #T_87b78_row1_col2, #T_87b78_row1_col3, #T_87b78_row1_col4, #T_87b78_row2_col0, #T_87b78_row2_col1, #T_87b78_row2_col2, #T_87b78_row3_col0, #T_87b78_row4_col0, #T_87b78_row5_col0, #T_87b78_row5_col5 {\n",
       "  font-size: 6pt;\n",
       "  background-color: #ffffff;\n",
       "  color: #000000;\n",
       "}\n",
       "#T_87b78_row1_col5 {\n",
       "  font-size: 6pt;\n",
       "  background-color: #efefef;\n",
       "  color: #000000;\n",
       "}\n",
       "#T_87b78_row2_col3 {\n",
       "  font-size: 6pt;\n",
       "  background-color: #e4e4e4;\n",
       "  color: #000000;\n",
       "}\n",
       "#T_87b78_row2_col4 {\n",
       "  font-size: 6pt;\n",
       "  background-color: #6b6b6b;\n",
       "  color: #f1f1f1;\n",
       "}\n",
       "#T_87b78_row2_col5, #T_87b78_row3_col4, #T_87b78_row4_col1, #T_87b78_row4_col2, #T_87b78_row4_col3 {\n",
       "  font-size: 6pt;\n",
       "  background-color: #000000;\n",
       "  color: #f1f1f1;\n",
       "}\n",
       "#T_87b78_row3_col1 {\n",
       "  font-size: 6pt;\n",
       "  background-color: #272727;\n",
       "  color: #f1f1f1;\n",
       "}\n",
       "#T_87b78_row3_col2 {\n",
       "  font-size: 6pt;\n",
       "  background-color: #0a0a0a;\n",
       "  color: #f1f1f1;\n",
       "}\n",
       "#T_87b78_row3_col3 {\n",
       "  font-size: 6pt;\n",
       "  background-color: #050505;\n",
       "  color: #f1f1f1;\n",
       "}\n",
       "#T_87b78_row3_col5 {\n",
       "  font-size: 6pt;\n",
       "  background-color: #333333;\n",
       "  color: #f1f1f1;\n",
       "}\n",
       "#T_87b78_row4_col4 {\n",
       "  font-size: 6pt;\n",
       "  background-color: #1b1b1b;\n",
       "  color: #f1f1f1;\n",
       "}\n",
       "#T_87b78_row4_col5 {\n",
       "  font-size: 6pt;\n",
       "  background-color: #e0e0e0;\n",
       "  color: #000000;\n",
       "}\n",
       "#T_87b78_row5_col1 {\n",
       "  font-size: 6pt;\n",
       "  background-color: #fcfcfc;\n",
       "  color: #000000;\n",
       "}\n",
       "#T_87b78_row5_col2, #T_87b78_row5_col3 {\n",
       "  font-size: 6pt;\n",
       "  background-color: #f6f6f6;\n",
       "  color: #000000;\n",
       "}\n",
       "#T_87b78_row5_col4 {\n",
       "  font-size: 6pt;\n",
       "  background-color: #f8f8f8;\n",
       "  color: #000000;\n",
       "}\n",
       "</style>\n",
       "<table id=\"T_87b78_\">\n",
       "  <thead>\n",
       "    <tr>\n",
       "      <th class=\"blank level0\" >&nbsp;</th>\n",
       "      <th class=\"col_heading level0 col0\" >0</th>\n",
       "      <th class=\"col_heading level0 col1\" >1</th>\n",
       "      <th class=\"col_heading level0 col2\" >2</th>\n",
       "      <th class=\"col_heading level0 col3\" >3</th>\n",
       "      <th class=\"col_heading level0 col4\" >4</th>\n",
       "      <th class=\"col_heading level0 col5\" >5</th>\n",
       "    </tr>\n",
       "  </thead>\n",
       "  <tbody>\n",
       "    <tr>\n",
       "      <th id=\"T_87b78_level0_row0\" class=\"row_heading level0 row0\" >0</th>\n",
       "      <td id=\"T_87b78_row0_col0\" class=\"data row0 col0\" >0</td>\n",
       "      <td id=\"T_87b78_row0_col1\" class=\"data row0 col1\" >0</td>\n",
       "      <td id=\"T_87b78_row0_col2\" class=\"data row0 col2\" >0</td>\n",
       "      <td id=\"T_87b78_row0_col3\" class=\"data row0 col3\" >0</td>\n",
       "      <td id=\"T_87b78_row0_col4\" class=\"data row0 col4\" >0</td>\n",
       "      <td id=\"T_87b78_row0_col5\" class=\"data row0 col5\" >0</td>\n",
       "    </tr>\n",
       "    <tr>\n",
       "      <th id=\"T_87b78_level0_row1\" class=\"row_heading level0 row1\" >1</th>\n",
       "      <td id=\"T_87b78_row1_col0\" class=\"data row1 col0\" >0</td>\n",
       "      <td id=\"T_87b78_row1_col1\" class=\"data row1 col1\" >0</td>\n",
       "      <td id=\"T_87b78_row1_col2\" class=\"data row1 col2\" >0</td>\n",
       "      <td id=\"T_87b78_row1_col3\" class=\"data row1 col3\" >0</td>\n",
       "      <td id=\"T_87b78_row1_col4\" class=\"data row1 col4\" >0</td>\n",
       "      <td id=\"T_87b78_row1_col5\" class=\"data row1 col5\" >29</td>\n",
       "    </tr>\n",
       "    <tr>\n",
       "      <th id=\"T_87b78_level0_row2\" class=\"row_heading level0 row2\" >2</th>\n",
       "      <td id=\"T_87b78_row2_col0\" class=\"data row2 col0\" >0</td>\n",
       "      <td id=\"T_87b78_row2_col1\" class=\"data row2 col1\" >0</td>\n",
       "      <td id=\"T_87b78_row2_col2\" class=\"data row2 col2\" >0</td>\n",
       "      <td id=\"T_87b78_row2_col3\" class=\"data row2 col3\" >48</td>\n",
       "      <td id=\"T_87b78_row2_col4\" class=\"data row2 col4\" >166</td>\n",
       "      <td id=\"T_87b78_row2_col5\" class=\"data row2 col5\" >224</td>\n",
       "    </tr>\n",
       "    <tr>\n",
       "      <th id=\"T_87b78_level0_row3\" class=\"row_heading level0 row3\" >3</th>\n",
       "      <td id=\"T_87b78_row3_col0\" class=\"data row3 col0\" >0</td>\n",
       "      <td id=\"T_87b78_row3_col1\" class=\"data row3 col1\" >93</td>\n",
       "      <td id=\"T_87b78_row3_col2\" class=\"data row3 col2\" >244</td>\n",
       "      <td id=\"T_87b78_row3_col3\" class=\"data row3 col3\" >249</td>\n",
       "      <td id=\"T_87b78_row3_col4\" class=\"data row3 col4\" >253</td>\n",
       "      <td id=\"T_87b78_row3_col5\" class=\"data row3 col5\" >187</td>\n",
       "    </tr>\n",
       "    <tr>\n",
       "      <th id=\"T_87b78_level0_row4\" class=\"row_heading level0 row4\" >4</th>\n",
       "      <td id=\"T_87b78_row4_col0\" class=\"data row4 col0\" >0</td>\n",
       "      <td id=\"T_87b78_row4_col1\" class=\"data row4 col1\" >107</td>\n",
       "      <td id=\"T_87b78_row4_col2\" class=\"data row4 col2\" >253</td>\n",
       "      <td id=\"T_87b78_row4_col3\" class=\"data row4 col3\" >253</td>\n",
       "      <td id=\"T_87b78_row4_col4\" class=\"data row4 col4\" >230</td>\n",
       "      <td id=\"T_87b78_row4_col5\" class=\"data row4 col5\" >48</td>\n",
       "    </tr>\n",
       "    <tr>\n",
       "      <th id=\"T_87b78_level0_row5\" class=\"row_heading level0 row5\" >5</th>\n",
       "      <td id=\"T_87b78_row5_col0\" class=\"data row5 col0\" >0</td>\n",
       "      <td id=\"T_87b78_row5_col1\" class=\"data row5 col1\" >3</td>\n",
       "      <td id=\"T_87b78_row5_col2\" class=\"data row5 col2\" >20</td>\n",
       "      <td id=\"T_87b78_row5_col3\" class=\"data row5 col3\" >20</td>\n",
       "      <td id=\"T_87b78_row5_col4\" class=\"data row5 col4\" >15</td>\n",
       "      <td id=\"T_87b78_row5_col5\" class=\"data row5 col5\" >0</td>\n",
       "    </tr>\n",
       "  </tbody>\n",
       "</table>\n"
      ],
      "text/plain": [
       "<pandas.io.formats.style.Styler at 0x7f77b3fef110>"
      ]
     },
     "execution_count": 10,
     "metadata": {},
     "output_type": "execute_result"
    }
   ],
   "source": [
    "# change them back to color... 0=white, 255=black\n",
    "# using a Panda DataFrame\n",
    "\n",
    "im3_t = tensor(im3)\n",
    "df = pd.DataFrame(im3_t[4:10,4:10])\n",
    "df.style.set_properties(**{'font-size':'6pt'}).background_gradient('Greys')"
   ]
  },
  {
   "cell_type": "code",
   "execution_count": 11,
   "metadata": {
    "collapsed": true,
    "jupyter": {
     "outputs_hidden": true
    },
    "tags": []
   },
   "outputs": [
    {
     "data": {
      "text/html": [
       "<style type=\"text/css\">\n",
       "#T_43d5f_row0_col0, #T_43d5f_row0_col1, #T_43d5f_row0_col2, #T_43d5f_row0_col3, #T_43d5f_row0_col4, #T_43d5f_row0_col5, #T_43d5f_row0_col6, #T_43d5f_row0_col7, #T_43d5f_row0_col8, #T_43d5f_row0_col9, #T_43d5f_row0_col10, #T_43d5f_row0_col11, #T_43d5f_row0_col12, #T_43d5f_row0_col13, #T_43d5f_row0_col14, #T_43d5f_row0_col15, #T_43d5f_row0_col16, #T_43d5f_row0_col17, #T_43d5f_row1_col0, #T_43d5f_row1_col1, #T_43d5f_row1_col2, #T_43d5f_row1_col3, #T_43d5f_row1_col4, #T_43d5f_row1_col15, #T_43d5f_row1_col16, #T_43d5f_row1_col17, #T_43d5f_row2_col0, #T_43d5f_row2_col1, #T_43d5f_row2_col2, #T_43d5f_row2_col15, #T_43d5f_row2_col16, #T_43d5f_row2_col17, #T_43d5f_row3_col0, #T_43d5f_row3_col15, #T_43d5f_row3_col16, #T_43d5f_row3_col17, #T_43d5f_row4_col0, #T_43d5f_row4_col6, #T_43d5f_row4_col7, #T_43d5f_row4_col8, #T_43d5f_row4_col9, #T_43d5f_row4_col10, #T_43d5f_row4_col15, #T_43d5f_row4_col16, #T_43d5f_row4_col17, #T_43d5f_row5_col0, #T_43d5f_row5_col5, #T_43d5f_row5_col6, #T_43d5f_row5_col7, #T_43d5f_row5_col8, #T_43d5f_row5_col9, #T_43d5f_row5_col15, #T_43d5f_row5_col16, #T_43d5f_row5_col17, #T_43d5f_row6_col0, #T_43d5f_row6_col1, #T_43d5f_row6_col2, #T_43d5f_row6_col3, #T_43d5f_row6_col4, #T_43d5f_row6_col5, #T_43d5f_row6_col6, #T_43d5f_row6_col7, #T_43d5f_row6_col8, #T_43d5f_row6_col9, #T_43d5f_row6_col14, #T_43d5f_row6_col15, #T_43d5f_row6_col16, #T_43d5f_row6_col17, #T_43d5f_row7_col0, #T_43d5f_row7_col1, #T_43d5f_row7_col2, #T_43d5f_row7_col3, #T_43d5f_row7_col4, #T_43d5f_row7_col5, #T_43d5f_row7_col6, #T_43d5f_row7_col13, #T_43d5f_row7_col14, #T_43d5f_row7_col15, #T_43d5f_row7_col16, #T_43d5f_row7_col17, #T_43d5f_row8_col0, #T_43d5f_row8_col1, #T_43d5f_row8_col2, #T_43d5f_row8_col3, #T_43d5f_row8_col4, #T_43d5f_row8_col13, #T_43d5f_row8_col14, #T_43d5f_row8_col15, #T_43d5f_row8_col16, #T_43d5f_row8_col17, #T_43d5f_row9_col0, #T_43d5f_row9_col1, #T_43d5f_row9_col2, #T_43d5f_row9_col3, #T_43d5f_row9_col4, #T_43d5f_row9_col16, #T_43d5f_row9_col17, #T_43d5f_row10_col0, #T_43d5f_row10_col1, #T_43d5f_row10_col2, #T_43d5f_row10_col3, #T_43d5f_row10_col4, #T_43d5f_row10_col5, #T_43d5f_row10_col6, #T_43d5f_row10_col17 {\n",
       "  font-size: 6pt;\n",
       "  background-color: #ffffff;\n",
       "  color: #000000;\n",
       "}\n",
       "#T_43d5f_row1_col5 {\n",
       "  font-size: 6pt;\n",
       "  background-color: #efefef;\n",
       "  color: #000000;\n",
       "}\n",
       "#T_43d5f_row1_col6, #T_43d5f_row1_col13 {\n",
       "  font-size: 6pt;\n",
       "  background-color: #7c7c7c;\n",
       "  color: #f1f1f1;\n",
       "}\n",
       "#T_43d5f_row1_col7 {\n",
       "  font-size: 6pt;\n",
       "  background-color: #4a4a4a;\n",
       "  color: #f1f1f1;\n",
       "}\n",
       "#T_43d5f_row1_col8, #T_43d5f_row1_col9, #T_43d5f_row1_col10, #T_43d5f_row2_col5, #T_43d5f_row2_col6, #T_43d5f_row2_col7, #T_43d5f_row2_col11, #T_43d5f_row2_col12, #T_43d5f_row2_col13, #T_43d5f_row3_col4, #T_43d5f_row3_col12, #T_43d5f_row3_col13, #T_43d5f_row4_col1, #T_43d5f_row4_col2, #T_43d5f_row4_col3, #T_43d5f_row4_col12, #T_43d5f_row4_col13, #T_43d5f_row5_col12, #T_43d5f_row6_col11, #T_43d5f_row9_col11, #T_43d5f_row10_col11, #T_43d5f_row10_col12, #T_43d5f_row10_col13, #T_43d5f_row10_col14, #T_43d5f_row10_col15, #T_43d5f_row10_col16 {\n",
       "  font-size: 6pt;\n",
       "  background-color: #000000;\n",
       "  color: #f1f1f1;\n",
       "}\n",
       "#T_43d5f_row1_col11 {\n",
       "  font-size: 6pt;\n",
       "  background-color: #606060;\n",
       "  color: #f1f1f1;\n",
       "}\n",
       "#T_43d5f_row1_col12 {\n",
       "  font-size: 6pt;\n",
       "  background-color: #4d4d4d;\n",
       "  color: #f1f1f1;\n",
       "}\n",
       "#T_43d5f_row1_col14 {\n",
       "  font-size: 6pt;\n",
       "  background-color: #bbbbbb;\n",
       "  color: #000000;\n",
       "}\n",
       "#T_43d5f_row2_col3 {\n",
       "  font-size: 6pt;\n",
       "  background-color: #e4e4e4;\n",
       "  color: #000000;\n",
       "}\n",
       "#T_43d5f_row2_col4, #T_43d5f_row8_col6 {\n",
       "  font-size: 6pt;\n",
       "  background-color: #6b6b6b;\n",
       "  color: #f1f1f1;\n",
       "}\n",
       "#T_43d5f_row2_col8, #T_43d5f_row2_col14, #T_43d5f_row3_col14 {\n",
       "  font-size: 6pt;\n",
       "  background-color: #171717;\n",
       "  color: #f1f1f1;\n",
       "}\n",
       "#T_43d5f_row2_col9, #T_43d5f_row3_col11 {\n",
       "  font-size: 6pt;\n",
       "  background-color: #4b4b4b;\n",
       "  color: #f1f1f1;\n",
       "}\n",
       "#T_43d5f_row2_col10, #T_43d5f_row7_col10, #T_43d5f_row8_col8, #T_43d5f_row8_col10, #T_43d5f_row9_col8, #T_43d5f_row9_col10 {\n",
       "  font-size: 6pt;\n",
       "  background-color: #010101;\n",
       "  color: #f1f1f1;\n",
       "}\n",
       "#T_43d5f_row3_col1 {\n",
       "  font-size: 6pt;\n",
       "  background-color: #272727;\n",
       "  color: #f1f1f1;\n",
       "}\n",
       "#T_43d5f_row3_col2 {\n",
       "  font-size: 6pt;\n",
       "  background-color: #0a0a0a;\n",
       "  color: #f1f1f1;\n",
       "}\n",
       "#T_43d5f_row3_col3 {\n",
       "  font-size: 6pt;\n",
       "  background-color: #050505;\n",
       "  color: #f1f1f1;\n",
       "}\n",
       "#T_43d5f_row3_col5 {\n",
       "  font-size: 6pt;\n",
       "  background-color: #333333;\n",
       "  color: #f1f1f1;\n",
       "}\n",
       "#T_43d5f_row3_col6 {\n",
       "  font-size: 6pt;\n",
       "  background-color: #e6e6e6;\n",
       "  color: #000000;\n",
       "}\n",
       "#T_43d5f_row3_col7, #T_43d5f_row3_col10 {\n",
       "  font-size: 6pt;\n",
       "  background-color: #fafafa;\n",
       "  color: #000000;\n",
       "}\n",
       "#T_43d5f_row3_col8 {\n",
       "  font-size: 6pt;\n",
       "  background-color: #fbfbfb;\n",
       "  color: #000000;\n",
       "}\n",
       "#T_43d5f_row3_col9 {\n",
       "  font-size: 6pt;\n",
       "  background-color: #fdfdfd;\n",
       "  color: #000000;\n",
       "}\n",
       "#T_43d5f_row4_col4 {\n",
       "  font-size: 6pt;\n",
       "  background-color: #1b1b1b;\n",
       "  color: #f1f1f1;\n",
       "}\n",
       "#T_43d5f_row4_col5 {\n",
       "  font-size: 6pt;\n",
       "  background-color: #e0e0e0;\n",
       "  color: #000000;\n",
       "}\n",
       "#T_43d5f_row4_col11 {\n",
       "  font-size: 6pt;\n",
       "  background-color: #4e4e4e;\n",
       "  color: #f1f1f1;\n",
       "}\n",
       "#T_43d5f_row4_col14 {\n",
       "  font-size: 6pt;\n",
       "  background-color: #767676;\n",
       "  color: #f1f1f1;\n",
       "}\n",
       "#T_43d5f_row5_col1 {\n",
       "  font-size: 6pt;\n",
       "  background-color: #fcfcfc;\n",
       "  color: #000000;\n",
       "}\n",
       "#T_43d5f_row5_col2, #T_43d5f_row5_col3 {\n",
       "  font-size: 6pt;\n",
       "  background-color: #f6f6f6;\n",
       "  color: #000000;\n",
       "}\n",
       "#T_43d5f_row5_col4, #T_43d5f_row7_col7 {\n",
       "  font-size: 6pt;\n",
       "  background-color: #f8f8f8;\n",
       "  color: #000000;\n",
       "}\n",
       "#T_43d5f_row5_col10, #T_43d5f_row10_col7 {\n",
       "  font-size: 6pt;\n",
       "  background-color: #e8e8e8;\n",
       "  color: #000000;\n",
       "}\n",
       "#T_43d5f_row5_col11 {\n",
       "  font-size: 6pt;\n",
       "  background-color: #222222;\n",
       "  color: #f1f1f1;\n",
       "}\n",
       "#T_43d5f_row5_col13, #T_43d5f_row6_col12 {\n",
       "  font-size: 6pt;\n",
       "  background-color: #090909;\n",
       "  color: #f1f1f1;\n",
       "}\n",
       "#T_43d5f_row5_col14 {\n",
       "  font-size: 6pt;\n",
       "  background-color: #d0d0d0;\n",
       "  color: #000000;\n",
       "}\n",
       "#T_43d5f_row6_col10, #T_43d5f_row7_col11, #T_43d5f_row9_col6 {\n",
       "  font-size: 6pt;\n",
       "  background-color: #060606;\n",
       "  color: #f1f1f1;\n",
       "}\n",
       "#T_43d5f_row6_col13 {\n",
       "  font-size: 6pt;\n",
       "  background-color: #979797;\n",
       "  color: #f1f1f1;\n",
       "}\n",
       "#T_43d5f_row7_col8 {\n",
       "  font-size: 6pt;\n",
       "  background-color: #b6b6b6;\n",
       "  color: #000000;\n",
       "}\n",
       "#T_43d5f_row7_col9 {\n",
       "  font-size: 6pt;\n",
       "  background-color: #252525;\n",
       "  color: #f1f1f1;\n",
       "}\n",
       "#T_43d5f_row7_col12 {\n",
       "  font-size: 6pt;\n",
       "  background-color: #999999;\n",
       "  color: #f1f1f1;\n",
       "}\n",
       "#T_43d5f_row8_col5 {\n",
       "  font-size: 6pt;\n",
       "  background-color: #f9f9f9;\n",
       "  color: #000000;\n",
       "}\n",
       "#T_43d5f_row8_col7 {\n",
       "  font-size: 6pt;\n",
       "  background-color: #101010;\n",
       "  color: #f1f1f1;\n",
       "}\n",
       "#T_43d5f_row8_col9, #T_43d5f_row9_col9 {\n",
       "  font-size: 6pt;\n",
       "  background-color: #020202;\n",
       "  color: #f1f1f1;\n",
       "}\n",
       "#T_43d5f_row8_col11 {\n",
       "  font-size: 6pt;\n",
       "  background-color: #545454;\n",
       "  color: #f1f1f1;\n",
       "}\n",
       "#T_43d5f_row8_col12 {\n",
       "  font-size: 6pt;\n",
       "  background-color: #f1f1f1;\n",
       "  color: #000000;\n",
       "}\n",
       "#T_43d5f_row9_col5 {\n",
       "  font-size: 6pt;\n",
       "  background-color: #f7f7f7;\n",
       "  color: #000000;\n",
       "}\n",
       "#T_43d5f_row9_col7 {\n",
       "  font-size: 6pt;\n",
       "  background-color: #030303;\n",
       "  color: #f1f1f1;\n",
       "}\n",
       "#T_43d5f_row9_col12 {\n",
       "  font-size: 6pt;\n",
       "  background-color: #181818;\n",
       "  color: #f1f1f1;\n",
       "}\n",
       "#T_43d5f_row9_col13 {\n",
       "  font-size: 6pt;\n",
       "  background-color: #303030;\n",
       "  color: #f1f1f1;\n",
       "}\n",
       "#T_43d5f_row9_col14 {\n",
       "  font-size: 6pt;\n",
       "  background-color: #a9a9a9;\n",
       "  color: #f1f1f1;\n",
       "}\n",
       "#T_43d5f_row9_col15 {\n",
       "  font-size: 6pt;\n",
       "  background-color: #fefefe;\n",
       "  color: #000000;\n",
       "}\n",
       "#T_43d5f_row10_col8, #T_43d5f_row10_col9 {\n",
       "  font-size: 6pt;\n",
       "  background-color: #bababa;\n",
       "  color: #000000;\n",
       "}\n",
       "#T_43d5f_row10_col10 {\n",
       "  font-size: 6pt;\n",
       "  background-color: #393939;\n",
       "  color: #f1f1f1;\n",
       "}\n",
       "</style>\n",
       "<table id=\"T_43d5f_\">\n",
       "  <thead>\n",
       "    <tr>\n",
       "      <th class=\"blank level0\" >&nbsp;</th>\n",
       "      <th class=\"col_heading level0 col0\" >0</th>\n",
       "      <th class=\"col_heading level0 col1\" >1</th>\n",
       "      <th class=\"col_heading level0 col2\" >2</th>\n",
       "      <th class=\"col_heading level0 col3\" >3</th>\n",
       "      <th class=\"col_heading level0 col4\" >4</th>\n",
       "      <th class=\"col_heading level0 col5\" >5</th>\n",
       "      <th class=\"col_heading level0 col6\" >6</th>\n",
       "      <th class=\"col_heading level0 col7\" >7</th>\n",
       "      <th class=\"col_heading level0 col8\" >8</th>\n",
       "      <th class=\"col_heading level0 col9\" >9</th>\n",
       "      <th class=\"col_heading level0 col10\" >10</th>\n",
       "      <th class=\"col_heading level0 col11\" >11</th>\n",
       "      <th class=\"col_heading level0 col12\" >12</th>\n",
       "      <th class=\"col_heading level0 col13\" >13</th>\n",
       "      <th class=\"col_heading level0 col14\" >14</th>\n",
       "      <th class=\"col_heading level0 col15\" >15</th>\n",
       "      <th class=\"col_heading level0 col16\" >16</th>\n",
       "      <th class=\"col_heading level0 col17\" >17</th>\n",
       "    </tr>\n",
       "  </thead>\n",
       "  <tbody>\n",
       "    <tr>\n",
       "      <th id=\"T_43d5f_level0_row0\" class=\"row_heading level0 row0\" >0</th>\n",
       "      <td id=\"T_43d5f_row0_col0\" class=\"data row0 col0\" >0</td>\n",
       "      <td id=\"T_43d5f_row0_col1\" class=\"data row0 col1\" >0</td>\n",
       "      <td id=\"T_43d5f_row0_col2\" class=\"data row0 col2\" >0</td>\n",
       "      <td id=\"T_43d5f_row0_col3\" class=\"data row0 col3\" >0</td>\n",
       "      <td id=\"T_43d5f_row0_col4\" class=\"data row0 col4\" >0</td>\n",
       "      <td id=\"T_43d5f_row0_col5\" class=\"data row0 col5\" >0</td>\n",
       "      <td id=\"T_43d5f_row0_col6\" class=\"data row0 col6\" >0</td>\n",
       "      <td id=\"T_43d5f_row0_col7\" class=\"data row0 col7\" >0</td>\n",
       "      <td id=\"T_43d5f_row0_col8\" class=\"data row0 col8\" >0</td>\n",
       "      <td id=\"T_43d5f_row0_col9\" class=\"data row0 col9\" >0</td>\n",
       "      <td id=\"T_43d5f_row0_col10\" class=\"data row0 col10\" >0</td>\n",
       "      <td id=\"T_43d5f_row0_col11\" class=\"data row0 col11\" >0</td>\n",
       "      <td id=\"T_43d5f_row0_col12\" class=\"data row0 col12\" >0</td>\n",
       "      <td id=\"T_43d5f_row0_col13\" class=\"data row0 col13\" >0</td>\n",
       "      <td id=\"T_43d5f_row0_col14\" class=\"data row0 col14\" >0</td>\n",
       "      <td id=\"T_43d5f_row0_col15\" class=\"data row0 col15\" >0</td>\n",
       "      <td id=\"T_43d5f_row0_col16\" class=\"data row0 col16\" >0</td>\n",
       "      <td id=\"T_43d5f_row0_col17\" class=\"data row0 col17\" >0</td>\n",
       "    </tr>\n",
       "    <tr>\n",
       "      <th id=\"T_43d5f_level0_row1\" class=\"row_heading level0 row1\" >1</th>\n",
       "      <td id=\"T_43d5f_row1_col0\" class=\"data row1 col0\" >0</td>\n",
       "      <td id=\"T_43d5f_row1_col1\" class=\"data row1 col1\" >0</td>\n",
       "      <td id=\"T_43d5f_row1_col2\" class=\"data row1 col2\" >0</td>\n",
       "      <td id=\"T_43d5f_row1_col3\" class=\"data row1 col3\" >0</td>\n",
       "      <td id=\"T_43d5f_row1_col4\" class=\"data row1 col4\" >0</td>\n",
       "      <td id=\"T_43d5f_row1_col5\" class=\"data row1 col5\" >29</td>\n",
       "      <td id=\"T_43d5f_row1_col6\" class=\"data row1 col6\" >150</td>\n",
       "      <td id=\"T_43d5f_row1_col7\" class=\"data row1 col7\" >195</td>\n",
       "      <td id=\"T_43d5f_row1_col8\" class=\"data row1 col8\" >254</td>\n",
       "      <td id=\"T_43d5f_row1_col9\" class=\"data row1 col9\" >255</td>\n",
       "      <td id=\"T_43d5f_row1_col10\" class=\"data row1 col10\" >254</td>\n",
       "      <td id=\"T_43d5f_row1_col11\" class=\"data row1 col11\" >176</td>\n",
       "      <td id=\"T_43d5f_row1_col12\" class=\"data row1 col12\" >193</td>\n",
       "      <td id=\"T_43d5f_row1_col13\" class=\"data row1 col13\" >150</td>\n",
       "      <td id=\"T_43d5f_row1_col14\" class=\"data row1 col14\" >96</td>\n",
       "      <td id=\"T_43d5f_row1_col15\" class=\"data row1 col15\" >0</td>\n",
       "      <td id=\"T_43d5f_row1_col16\" class=\"data row1 col16\" >0</td>\n",
       "      <td id=\"T_43d5f_row1_col17\" class=\"data row1 col17\" >0</td>\n",
       "    </tr>\n",
       "    <tr>\n",
       "      <th id=\"T_43d5f_level0_row2\" class=\"row_heading level0 row2\" >2</th>\n",
       "      <td id=\"T_43d5f_row2_col0\" class=\"data row2 col0\" >0</td>\n",
       "      <td id=\"T_43d5f_row2_col1\" class=\"data row2 col1\" >0</td>\n",
       "      <td id=\"T_43d5f_row2_col2\" class=\"data row2 col2\" >0</td>\n",
       "      <td id=\"T_43d5f_row2_col3\" class=\"data row2 col3\" >48</td>\n",
       "      <td id=\"T_43d5f_row2_col4\" class=\"data row2 col4\" >166</td>\n",
       "      <td id=\"T_43d5f_row2_col5\" class=\"data row2 col5\" >224</td>\n",
       "      <td id=\"T_43d5f_row2_col6\" class=\"data row2 col6\" >253</td>\n",
       "      <td id=\"T_43d5f_row2_col7\" class=\"data row2 col7\" >253</td>\n",
       "      <td id=\"T_43d5f_row2_col8\" class=\"data row2 col8\" >234</td>\n",
       "      <td id=\"T_43d5f_row2_col9\" class=\"data row2 col9\" >196</td>\n",
       "      <td id=\"T_43d5f_row2_col10\" class=\"data row2 col10\" >253</td>\n",
       "      <td id=\"T_43d5f_row2_col11\" class=\"data row2 col11\" >253</td>\n",
       "      <td id=\"T_43d5f_row2_col12\" class=\"data row2 col12\" >253</td>\n",
       "      <td id=\"T_43d5f_row2_col13\" class=\"data row2 col13\" >253</td>\n",
       "      <td id=\"T_43d5f_row2_col14\" class=\"data row2 col14\" >233</td>\n",
       "      <td id=\"T_43d5f_row2_col15\" class=\"data row2 col15\" >0</td>\n",
       "      <td id=\"T_43d5f_row2_col16\" class=\"data row2 col16\" >0</td>\n",
       "      <td id=\"T_43d5f_row2_col17\" class=\"data row2 col17\" >0</td>\n",
       "    </tr>\n",
       "    <tr>\n",
       "      <th id=\"T_43d5f_level0_row3\" class=\"row_heading level0 row3\" >3</th>\n",
       "      <td id=\"T_43d5f_row3_col0\" class=\"data row3 col0\" >0</td>\n",
       "      <td id=\"T_43d5f_row3_col1\" class=\"data row3 col1\" >93</td>\n",
       "      <td id=\"T_43d5f_row3_col2\" class=\"data row3 col2\" >244</td>\n",
       "      <td id=\"T_43d5f_row3_col3\" class=\"data row3 col3\" >249</td>\n",
       "      <td id=\"T_43d5f_row3_col4\" class=\"data row3 col4\" >253</td>\n",
       "      <td id=\"T_43d5f_row3_col5\" class=\"data row3 col5\" >187</td>\n",
       "      <td id=\"T_43d5f_row3_col6\" class=\"data row3 col6\" >46</td>\n",
       "      <td id=\"T_43d5f_row3_col7\" class=\"data row3 col7\" >10</td>\n",
       "      <td id=\"T_43d5f_row3_col8\" class=\"data row3 col8\" >8</td>\n",
       "      <td id=\"T_43d5f_row3_col9\" class=\"data row3 col9\" >4</td>\n",
       "      <td id=\"T_43d5f_row3_col10\" class=\"data row3 col10\" >10</td>\n",
       "      <td id=\"T_43d5f_row3_col11\" class=\"data row3 col11\" >194</td>\n",
       "      <td id=\"T_43d5f_row3_col12\" class=\"data row3 col12\" >253</td>\n",
       "      <td id=\"T_43d5f_row3_col13\" class=\"data row3 col13\" >253</td>\n",
       "      <td id=\"T_43d5f_row3_col14\" class=\"data row3 col14\" >233</td>\n",
       "      <td id=\"T_43d5f_row3_col15\" class=\"data row3 col15\" >0</td>\n",
       "      <td id=\"T_43d5f_row3_col16\" class=\"data row3 col16\" >0</td>\n",
       "      <td id=\"T_43d5f_row3_col17\" class=\"data row3 col17\" >0</td>\n",
       "    </tr>\n",
       "    <tr>\n",
       "      <th id=\"T_43d5f_level0_row4\" class=\"row_heading level0 row4\" >4</th>\n",
       "      <td id=\"T_43d5f_row4_col0\" class=\"data row4 col0\" >0</td>\n",
       "      <td id=\"T_43d5f_row4_col1\" class=\"data row4 col1\" >107</td>\n",
       "      <td id=\"T_43d5f_row4_col2\" class=\"data row4 col2\" >253</td>\n",
       "      <td id=\"T_43d5f_row4_col3\" class=\"data row4 col3\" >253</td>\n",
       "      <td id=\"T_43d5f_row4_col4\" class=\"data row4 col4\" >230</td>\n",
       "      <td id=\"T_43d5f_row4_col5\" class=\"data row4 col5\" >48</td>\n",
       "      <td id=\"T_43d5f_row4_col6\" class=\"data row4 col6\" >0</td>\n",
       "      <td id=\"T_43d5f_row4_col7\" class=\"data row4 col7\" >0</td>\n",
       "      <td id=\"T_43d5f_row4_col8\" class=\"data row4 col8\" >0</td>\n",
       "      <td id=\"T_43d5f_row4_col9\" class=\"data row4 col9\" >0</td>\n",
       "      <td id=\"T_43d5f_row4_col10\" class=\"data row4 col10\" >0</td>\n",
       "      <td id=\"T_43d5f_row4_col11\" class=\"data row4 col11\" >192</td>\n",
       "      <td id=\"T_43d5f_row4_col12\" class=\"data row4 col12\" >253</td>\n",
       "      <td id=\"T_43d5f_row4_col13\" class=\"data row4 col13\" >253</td>\n",
       "      <td id=\"T_43d5f_row4_col14\" class=\"data row4 col14\" >156</td>\n",
       "      <td id=\"T_43d5f_row4_col15\" class=\"data row4 col15\" >0</td>\n",
       "      <td id=\"T_43d5f_row4_col16\" class=\"data row4 col16\" >0</td>\n",
       "      <td id=\"T_43d5f_row4_col17\" class=\"data row4 col17\" >0</td>\n",
       "    </tr>\n",
       "    <tr>\n",
       "      <th id=\"T_43d5f_level0_row5\" class=\"row_heading level0 row5\" >5</th>\n",
       "      <td id=\"T_43d5f_row5_col0\" class=\"data row5 col0\" >0</td>\n",
       "      <td id=\"T_43d5f_row5_col1\" class=\"data row5 col1\" >3</td>\n",
       "      <td id=\"T_43d5f_row5_col2\" class=\"data row5 col2\" >20</td>\n",
       "      <td id=\"T_43d5f_row5_col3\" class=\"data row5 col3\" >20</td>\n",
       "      <td id=\"T_43d5f_row5_col4\" class=\"data row5 col4\" >15</td>\n",
       "      <td id=\"T_43d5f_row5_col5\" class=\"data row5 col5\" >0</td>\n",
       "      <td id=\"T_43d5f_row5_col6\" class=\"data row5 col6\" >0</td>\n",
       "      <td id=\"T_43d5f_row5_col7\" class=\"data row5 col7\" >0</td>\n",
       "      <td id=\"T_43d5f_row5_col8\" class=\"data row5 col8\" >0</td>\n",
       "      <td id=\"T_43d5f_row5_col9\" class=\"data row5 col9\" >0</td>\n",
       "      <td id=\"T_43d5f_row5_col10\" class=\"data row5 col10\" >43</td>\n",
       "      <td id=\"T_43d5f_row5_col11\" class=\"data row5 col11\" >224</td>\n",
       "      <td id=\"T_43d5f_row5_col12\" class=\"data row5 col12\" >253</td>\n",
       "      <td id=\"T_43d5f_row5_col13\" class=\"data row5 col13\" >245</td>\n",
       "      <td id=\"T_43d5f_row5_col14\" class=\"data row5 col14\" >74</td>\n",
       "      <td id=\"T_43d5f_row5_col15\" class=\"data row5 col15\" >0</td>\n",
       "      <td id=\"T_43d5f_row5_col16\" class=\"data row5 col16\" >0</td>\n",
       "      <td id=\"T_43d5f_row5_col17\" class=\"data row5 col17\" >0</td>\n",
       "    </tr>\n",
       "    <tr>\n",
       "      <th id=\"T_43d5f_level0_row6\" class=\"row_heading level0 row6\" >6</th>\n",
       "      <td id=\"T_43d5f_row6_col0\" class=\"data row6 col0\" >0</td>\n",
       "      <td id=\"T_43d5f_row6_col1\" class=\"data row6 col1\" >0</td>\n",
       "      <td id=\"T_43d5f_row6_col2\" class=\"data row6 col2\" >0</td>\n",
       "      <td id=\"T_43d5f_row6_col3\" class=\"data row6 col3\" >0</td>\n",
       "      <td id=\"T_43d5f_row6_col4\" class=\"data row6 col4\" >0</td>\n",
       "      <td id=\"T_43d5f_row6_col5\" class=\"data row6 col5\" >0</td>\n",
       "      <td id=\"T_43d5f_row6_col6\" class=\"data row6 col6\" >0</td>\n",
       "      <td id=\"T_43d5f_row6_col7\" class=\"data row6 col7\" >0</td>\n",
       "      <td id=\"T_43d5f_row6_col8\" class=\"data row6 col8\" >0</td>\n",
       "      <td id=\"T_43d5f_row6_col9\" class=\"data row6 col9\" >0</td>\n",
       "      <td id=\"T_43d5f_row6_col10\" class=\"data row6 col10\" >249</td>\n",
       "      <td id=\"T_43d5f_row6_col11\" class=\"data row6 col11\" >253</td>\n",
       "      <td id=\"T_43d5f_row6_col12\" class=\"data row6 col12\" >245</td>\n",
       "      <td id=\"T_43d5f_row6_col13\" class=\"data row6 col13\" >126</td>\n",
       "      <td id=\"T_43d5f_row6_col14\" class=\"data row6 col14\" >0</td>\n",
       "      <td id=\"T_43d5f_row6_col15\" class=\"data row6 col15\" >0</td>\n",
       "      <td id=\"T_43d5f_row6_col16\" class=\"data row6 col16\" >0</td>\n",
       "      <td id=\"T_43d5f_row6_col17\" class=\"data row6 col17\" >0</td>\n",
       "    </tr>\n",
       "    <tr>\n",
       "      <th id=\"T_43d5f_level0_row7\" class=\"row_heading level0 row7\" >7</th>\n",
       "      <td id=\"T_43d5f_row7_col0\" class=\"data row7 col0\" >0</td>\n",
       "      <td id=\"T_43d5f_row7_col1\" class=\"data row7 col1\" >0</td>\n",
       "      <td id=\"T_43d5f_row7_col2\" class=\"data row7 col2\" >0</td>\n",
       "      <td id=\"T_43d5f_row7_col3\" class=\"data row7 col3\" >0</td>\n",
       "      <td id=\"T_43d5f_row7_col4\" class=\"data row7 col4\" >0</td>\n",
       "      <td id=\"T_43d5f_row7_col5\" class=\"data row7 col5\" >0</td>\n",
       "      <td id=\"T_43d5f_row7_col6\" class=\"data row7 col6\" >0</td>\n",
       "      <td id=\"T_43d5f_row7_col7\" class=\"data row7 col7\" >14</td>\n",
       "      <td id=\"T_43d5f_row7_col8\" class=\"data row7 col8\" >101</td>\n",
       "      <td id=\"T_43d5f_row7_col9\" class=\"data row7 col9\" >223</td>\n",
       "      <td id=\"T_43d5f_row7_col10\" class=\"data row7 col10\" >253</td>\n",
       "      <td id=\"T_43d5f_row7_col11\" class=\"data row7 col11\" >248</td>\n",
       "      <td id=\"T_43d5f_row7_col12\" class=\"data row7 col12\" >124</td>\n",
       "      <td id=\"T_43d5f_row7_col13\" class=\"data row7 col13\" >0</td>\n",
       "      <td id=\"T_43d5f_row7_col14\" class=\"data row7 col14\" >0</td>\n",
       "      <td id=\"T_43d5f_row7_col15\" class=\"data row7 col15\" >0</td>\n",
       "      <td id=\"T_43d5f_row7_col16\" class=\"data row7 col16\" >0</td>\n",
       "      <td id=\"T_43d5f_row7_col17\" class=\"data row7 col17\" >0</td>\n",
       "    </tr>\n",
       "    <tr>\n",
       "      <th id=\"T_43d5f_level0_row8\" class=\"row_heading level0 row8\" >8</th>\n",
       "      <td id=\"T_43d5f_row8_col0\" class=\"data row8 col0\" >0</td>\n",
       "      <td id=\"T_43d5f_row8_col1\" class=\"data row8 col1\" >0</td>\n",
       "      <td id=\"T_43d5f_row8_col2\" class=\"data row8 col2\" >0</td>\n",
       "      <td id=\"T_43d5f_row8_col3\" class=\"data row8 col3\" >0</td>\n",
       "      <td id=\"T_43d5f_row8_col4\" class=\"data row8 col4\" >0</td>\n",
       "      <td id=\"T_43d5f_row8_col5\" class=\"data row8 col5\" >11</td>\n",
       "      <td id=\"T_43d5f_row8_col6\" class=\"data row8 col6\" >166</td>\n",
       "      <td id=\"T_43d5f_row8_col7\" class=\"data row8 col7\" >239</td>\n",
       "      <td id=\"T_43d5f_row8_col8\" class=\"data row8 col8\" >253</td>\n",
       "      <td id=\"T_43d5f_row8_col9\" class=\"data row8 col9\" >253</td>\n",
       "      <td id=\"T_43d5f_row8_col10\" class=\"data row8 col10\" >253</td>\n",
       "      <td id=\"T_43d5f_row8_col11\" class=\"data row8 col11\" >187</td>\n",
       "      <td id=\"T_43d5f_row8_col12\" class=\"data row8 col12\" >30</td>\n",
       "      <td id=\"T_43d5f_row8_col13\" class=\"data row8 col13\" >0</td>\n",
       "      <td id=\"T_43d5f_row8_col14\" class=\"data row8 col14\" >0</td>\n",
       "      <td id=\"T_43d5f_row8_col15\" class=\"data row8 col15\" >0</td>\n",
       "      <td id=\"T_43d5f_row8_col16\" class=\"data row8 col16\" >0</td>\n",
       "      <td id=\"T_43d5f_row8_col17\" class=\"data row8 col17\" >0</td>\n",
       "    </tr>\n",
       "    <tr>\n",
       "      <th id=\"T_43d5f_level0_row9\" class=\"row_heading level0 row9\" >9</th>\n",
       "      <td id=\"T_43d5f_row9_col0\" class=\"data row9 col0\" >0</td>\n",
       "      <td id=\"T_43d5f_row9_col1\" class=\"data row9 col1\" >0</td>\n",
       "      <td id=\"T_43d5f_row9_col2\" class=\"data row9 col2\" >0</td>\n",
       "      <td id=\"T_43d5f_row9_col3\" class=\"data row9 col3\" >0</td>\n",
       "      <td id=\"T_43d5f_row9_col4\" class=\"data row9 col4\" >0</td>\n",
       "      <td id=\"T_43d5f_row9_col5\" class=\"data row9 col5\" >16</td>\n",
       "      <td id=\"T_43d5f_row9_col6\" class=\"data row9 col6\" >248</td>\n",
       "      <td id=\"T_43d5f_row9_col7\" class=\"data row9 col7\" >250</td>\n",
       "      <td id=\"T_43d5f_row9_col8\" class=\"data row9 col8\" >253</td>\n",
       "      <td id=\"T_43d5f_row9_col9\" class=\"data row9 col9\" >253</td>\n",
       "      <td id=\"T_43d5f_row9_col10\" class=\"data row9 col10\" >253</td>\n",
       "      <td id=\"T_43d5f_row9_col11\" class=\"data row9 col11\" >253</td>\n",
       "      <td id=\"T_43d5f_row9_col12\" class=\"data row9 col12\" >232</td>\n",
       "      <td id=\"T_43d5f_row9_col13\" class=\"data row9 col13\" >213</td>\n",
       "      <td id=\"T_43d5f_row9_col14\" class=\"data row9 col14\" >111</td>\n",
       "      <td id=\"T_43d5f_row9_col15\" class=\"data row9 col15\" >2</td>\n",
       "      <td id=\"T_43d5f_row9_col16\" class=\"data row9 col16\" >0</td>\n",
       "      <td id=\"T_43d5f_row9_col17\" class=\"data row9 col17\" >0</td>\n",
       "    </tr>\n",
       "    <tr>\n",
       "      <th id=\"T_43d5f_level0_row10\" class=\"row_heading level0 row10\" >10</th>\n",
       "      <td id=\"T_43d5f_row10_col0\" class=\"data row10 col0\" >0</td>\n",
       "      <td id=\"T_43d5f_row10_col1\" class=\"data row10 col1\" >0</td>\n",
       "      <td id=\"T_43d5f_row10_col2\" class=\"data row10 col2\" >0</td>\n",
       "      <td id=\"T_43d5f_row10_col3\" class=\"data row10 col3\" >0</td>\n",
       "      <td id=\"T_43d5f_row10_col4\" class=\"data row10 col4\" >0</td>\n",
       "      <td id=\"T_43d5f_row10_col5\" class=\"data row10 col5\" >0</td>\n",
       "      <td id=\"T_43d5f_row10_col6\" class=\"data row10 col6\" >0</td>\n",
       "      <td id=\"T_43d5f_row10_col7\" class=\"data row10 col7\" >43</td>\n",
       "      <td id=\"T_43d5f_row10_col8\" class=\"data row10 col8\" >98</td>\n",
       "      <td id=\"T_43d5f_row10_col9\" class=\"data row10 col9\" >98</td>\n",
       "      <td id=\"T_43d5f_row10_col10\" class=\"data row10 col10\" >208</td>\n",
       "      <td id=\"T_43d5f_row10_col11\" class=\"data row10 col11\" >253</td>\n",
       "      <td id=\"T_43d5f_row10_col12\" class=\"data row10 col12\" >253</td>\n",
       "      <td id=\"T_43d5f_row10_col13\" class=\"data row10 col13\" >253</td>\n",
       "      <td id=\"T_43d5f_row10_col14\" class=\"data row10 col14\" >253</td>\n",
       "      <td id=\"T_43d5f_row10_col15\" class=\"data row10 col15\" >187</td>\n",
       "      <td id=\"T_43d5f_row10_col16\" class=\"data row10 col16\" >22</td>\n",
       "      <td id=\"T_43d5f_row10_col17\" class=\"data row10 col17\" >0</td>\n",
       "    </tr>\n",
       "  </tbody>\n",
       "</table>\n"
      ],
      "text/plain": [
       "<pandas.io.formats.style.Styler at 0x7f77b3e00b10>"
      ]
     },
     "execution_count": 11,
     "metadata": {},
     "output_type": "execute_result"
    }
   ],
   "source": [
    "\n",
    "im3_tBigger = tensor(im3)\n",
    "dfBigger = pd.DataFrame(im3_tBigger[4:15,4:22])\n",
    "dfBigger.style.set_properties(**{'font-size':'6pt'}).background_gradient('Greys')"
   ]
  },
  {
   "cell_type": "markdown",
   "metadata": {},
   "source": [
    "## First Try: Pixel Similarity"
   ]
  },
  {
   "cell_type": "code",
   "execution_count": null,
   "metadata": {},
   "outputs": [],
   "source": [
    "So, here is a first idea: \n",
    "    how about we find the average pixel value for every pixel of the 3s, \n",
    "    then do the same for the 7s. \n",
    "This will give us two group averages, defining what we might call the \"ideal\" 3 and 7. \n",
    "Then, to classify an image as one digit or the other, we see which of these two ideal digits the image is most similar to. \n",
    "This certainly seems like it should be better than nothing, so it will make a good baseline.\n",
    "\n",
    "Baseline === A simple model which you are confident should perform reasonably well. \n",
    "    It should be very simple to implement, \n",
    "    and very easy to test, so that you can then test each of your improved ideas, \n",
    "    and make sure they are always better than your baseline. \n",
    "Without starting with a sensible baseline, it is very difficult to know whether your super-fancy models are actually any good. \n",
    "\n",
    "One good approach to creating a baseline is doing what we have done here: \n",
    "    think of a simple, easy-to-implement model. \n",
    "Another good approach is to find other people that have solved similar problems to yours, \n",
    "    and download and run their code on your dataset. \n",
    "\n",
    "Ideally, try both of these!"
   ]
  },
  {
   "cell_type": "code",
   "execution_count": 32,
   "metadata": {
    "collapsed": true,
    "jupyter": {
     "outputs_hidden": true
    },
    "tags": []
   },
   "outputs": [
    {
     "name": "stdout",
     "output_type": "stream",
     "text": [
      "6131 images of 3 are now tensors,\n",
      "6265 images of 7 are now tensors\n",
      "check out one right now!\n"
     ]
    },
    {
     "data": {
      "text/plain": [
       "tensor([[  0,   0,   0,   0,   0,   0,   0,   0,   0,   0,   0,   0,   0,   0,   0,   0,   0,   0,   0,   0,   0,   0,   0,   0,   0,   0,   0,   0],\n",
       "        [  0,   0,   0,   0,   0,   0,   0,   0,   0,   0,   0,   0,   0,   0,   0,   0,   0,   0,   0,   0,   0,   0,   0,   0,   0,   0,   0,   0],\n",
       "        [  0,   0,   0,   0,   0,   0,   0,   0,   0,   0,   0,   0,   0,   0,   0,   0,   0,   0,   0,   0,   0,   0,   0,   0,   0,   0,   0,   0],\n",
       "        [  0,   0,   0,   0,   0,   0,   0,   0,   0,   0,   0,   0,   0,   0,   0,   0,   0,   0,   0,   0,   0,   0,   0,   0,   0,   0,   0,   0],\n",
       "        [  0,   0,   0,   0,   0,   0,   0,   0,   0,   0,   0,   0,   0,   0,   0,   0,   0,   0,   0,   0,   0,   0,   0,   0,   0,   0,   0,   0],\n",
       "        [  0,   0,   0,   0,   0,   0,   0,   0,   0,  29, 150, 195, 254, 255, 254, 176, 193, 150,  96,   0,   0,   0,   0,   0,   0,   0,   0,   0],\n",
       "        [  0,   0,   0,   0,   0,   0,   0,  48, 166, 224, 253, 253, 234, 196, 253, 253, 253, 253, 233,   0,   0,   0,   0,   0,   0,   0,   0,   0],\n",
       "        [  0,   0,   0,   0,   0,  93, 244, 249, 253, 187,  46,  10,   8,   4,  10, 194, 253, 253, 233,   0,   0,   0,   0,   0,   0,   0,   0,   0],\n",
       "        [  0,   0,   0,   0,   0, 107, 253, 253, 230,  48,   0,   0,   0,   0,   0, 192, 253, 253, 156,   0,   0,   0,   0,   0,   0,   0,   0,   0],\n",
       "        [  0,   0,   0,   0,   0,   3,  20,  20,  15,   0,   0,   0,   0,   0,  43, 224, 253, 245,  74,   0,   0,   0,   0,   0,   0,   0,   0,   0],\n",
       "        [  0,   0,   0,   0,   0,   0,   0,   0,   0,   0,   0,   0,   0,   0, 249, 253, 245, 126,   0,   0,   0,   0,   0,   0,   0,   0,   0,   0],\n",
       "        [  0,   0,   0,   0,   0,   0,   0,   0,   0,   0,   0,  14, 101, 223, 253, 248, 124,   0,   0,   0,   0,   0,   0,   0,   0,   0,   0,   0],\n",
       "        [  0,   0,   0,   0,   0,   0,   0,   0,   0,  11, 166, 239, 253, 253, 253, 187,  30,   0,   0,   0,   0,   0,   0,   0,   0,   0,   0,   0],\n",
       "        [  0,   0,   0,   0,   0,   0,   0,   0,   0,  16, 248, 250, 253, 253, 253, 253, 232, 213, 111,   2,   0,   0,   0,   0,   0,   0,   0,   0],\n",
       "        [  0,   0,   0,   0,   0,   0,   0,   0,   0,   0,   0,  43,  98,  98, 208, 253, 253, 253, 253, 187,  22,   0,   0,   0,   0,   0,   0,   0],\n",
       "        [  0,   0,   0,   0,   0,   0,   0,   0,   0,   0,   0,   0,   0,   0,   9,  51, 119, 253, 253, 253,  76,   0,   0,   0,   0,   0,   0,   0],\n",
       "        [  0,   0,   0,   0,   0,   0,   0,   0,   0,   0,   0,   0,   0,   0,   0,   0,   1, 183, 253, 253, 139,   0,   0,   0,   0,   0,   0,   0],\n",
       "        [  0,   0,   0,   0,   0,   0,   0,   0,   0,   0,   0,   0,   0,   0,   0,   0,   0, 182, 253, 253, 104,   0,   0,   0,   0,   0,   0,   0],\n",
       "        [  0,   0,   0,   0,   0,   0,   0,   0,   0,   0,   0,   0,   0,   0,   0,   0,  85, 249, 253, 253,  36,   0,   0,   0,   0,   0,   0,   0],\n",
       "        [  0,   0,   0,   0,   0,   0,   0,   0,   0,   0,   0,   0,   0,   0,   0,  60, 214, 253, 253, 173,  11,   0,   0,   0,   0,   0,   0,   0],\n",
       "        [  0,   0,   0,   0,   0,   0,   0,   0,   0,   0,   0,   0,   0,   0,  98, 247, 253, 253, 226,   9,   0,   0,   0,   0,   0,   0,   0,   0],\n",
       "        [  0,   0,   0,   0,   0,   0,   0,   0,   0,   0,   0,   0,  42, 150, 252, 253, 253, 233,  53,   0,   0,   0,   0,   0,   0,   0,   0,   0],\n",
       "        [  0,   0,   0,   0,   0,   0,  42, 115,  42,  60, 115, 159, 240, 253, 253, 250, 175,  25,   0,   0,   0,   0,   0,   0,   0,   0,   0,   0],\n",
       "        [  0,   0,   0,   0,   0,   0, 187, 253, 253, 253, 253, 253, 253, 253, 197,  86,   0,   0,   0,   0,   0,   0,   0,   0,   0,   0,   0,   0],\n",
       "        [  0,   0,   0,   0,   0,   0, 103, 253, 253, 253, 253, 253, 232,  67,   1,   0,   0,   0,   0,   0,   0,   0,   0,   0,   0,   0,   0,   0],\n",
       "        [  0,   0,   0,   0,   0,   0,   0,   0,   0,   0,   0,   0,   0,   0,   0,   0,   0,   0,   0,   0,   0,   0,   0,   0,   0,   0,   0,   0],\n",
       "        [  0,   0,   0,   0,   0,   0,   0,   0,   0,   0,   0,   0,   0,   0,   0,   0,   0,   0,   0,   0,   0,   0,   0,   0,   0,   0,   0,   0],\n",
       "        [  0,   0,   0,   0,   0,   0,   0,   0,   0,   0,   0,   0,   0,   0,   0,   0,   0,   0,   0,   0,   0,   0,   0,   0,   0,   0,   0,   0]], dtype=torch.uint8)"
      ]
     },
     "execution_count": 32,
     "metadata": {},
     "output_type": "execute_result"
    }
   ],
   "source": [
    "# tensor(imageObj) to translate into tensors!\n",
    "seven_tensors = [tensor(Image.open(img)) for img in sevens]\n",
    "three_tensors = [tensor(Image.open(img)) for img in threes]\n",
    "print(f\"{len(three_tensors)} images of 3 are now tensors,\\n{len(seven_tensors)} images of 7 are now tensors\")\n",
    "print(\"check out one right now!\")\n",
    "three_tensors[1]"
   ]
  },
  {
   "cell_type": "code",
   "execution_count": 26,
   "metadata": {
    "collapsed": true,
    "jupyter": {
     "outputs_hidden": true
    },
    "tags": []
   },
   "outputs": [
    {
     "data": {
      "image/png": "[encoded data removed]",
      "text/plain": [
       "<Figure size 72x72 with 1 Axes>"
      ]
     },
     "metadata": {
      "needs_background": "light"
     },
     "output_type": "display_data"
    }
   ],
   "source": [
    "# show_image(tensorObj) to translate back into image!\n",
    "\n",
    "show_image(three_tensors[1]);"
   ]
  },
  {
   "cell_type": "code",
   "execution_count": 34,
   "metadata": {},
   "outputs": [
    {
     "data": {
      "text/plain": [
       "torch.Size([6131, 28, 28])"
      ]
     },
     "execution_count": 34,
     "metadata": {},
     "output_type": "execute_result"
    }
   ],
   "source": [
    "# Now we want to stack all these numbers on top of each other, and later we'll average it\n",
    "    # ok... that's why we want tensors to have the same size\n",
    "\n",
    "# Here we're STACKING allt he imgs into a single 3D tensor, aka \"rank-3 tensor\"    \n",
    "    # Since we'll be doing math on it later, let's cast it to float()\n",
    "    # we want float pixel values to be between 0 and 1, so we need to divide the color by 255\n",
    "stacked_sevens = torch.stack(seven_tensors).float()/255\n",
    "stacked_threes = torch.stack(three_tensors).float()/255\n",
    "\n",
    "# the SHAPE tells u the length of each axis, \n",
    "    # this tells us we have 6131 images, each of size 28x28pixels\n",
    "stacked_threes.shape"
   ]
  },
  {
   "cell_type": "code",
   "execution_count": 14,
   "metadata": {},
   "outputs": [
    {
     "name": "stdout",
     "output_type": "stream",
     "text": [
      "RANK = 3  \t<-- via len(tensorObj.shape)\n",
      "RANK = 3  \t<-- via tensorObj.ndim\n"
     ]
    }
   ],
   "source": [
    "# the RANK is the length of a tensor's SHAPE.   \n",
    "    # remember earlier, we're stacking all our images into a 3D tensor, aka rank-3 tensor\n",
    "print(f\"RANK = {len(stacked_threes.shape)}  \\t<-- via len(tensorObj.shape)\")\n",
    "print(f\"RANK = {stacked_threes.ndim}  \\t<-- via tensorObj.ndim\")"
   ]
  },
  {
   "cell_type": "code",
   "execution_count": null,
   "metadata": {},
   "outputs": [],
   "source": [
    "!!! DIMENSION is sometimes used in 2 ways\n",
    "    size of an AXIS\n",
    "    size of a RANK (or, number of AXES)\n",
    "Best to just use Rank & Axis & Length instead of DIMENSION"
   ]
  },
  {
   "cell_type": "code",
   "execution_count": 35,
   "metadata": {},
   "outputs": [
    {
     "data": {
      "image/png": "[encoded data removed]",
      "text/plain": [
       "<Figure size 72x72 with 1 Axes>"
      ]
     },
     "metadata": {
      "needs_background": "light"
     },
     "output_type": "display_data"
    }
   ],
   "source": [
    "# Let's look at the IDEAL 3!\n",
    "mean3 = stacked_threes.mean(0)\n",
    "show_image(mean3);"
   ]
  },
  {
   "cell_type": "code",
   "execution_count": 16,
   "metadata": {},
   "outputs": [
    {
     "data": {
      "image/png": "[encoded data removed]",
      "text/plain": [
       "<Figure size 72x72 with 1 Axes>"
      ]
     },
     "metadata": {
      "needs_background": "light"
     },
     "output_type": "display_data"
    }
   ],
   "source": [
    "# Look at the IDEAL 7!\n",
    "mean7 = stacked_sevens.mean(0)\n",
    "show_image(mean7);"
   ]
  },
  {
   "cell_type": "code",
   "execution_count": null,
   "metadata": {},
   "outputs": [],
   "source": [
    "!!! waaaait... but if someone rotates a test data, then this would not work..."
   ]
  },
  {
   "cell_type": "code",
   "execution_count": 36,
   "metadata": {},
   "outputs": [
    {
     "data": {
      "image/png": "[encoded data removed]",
      "text/plain": [
       "<Figure size 72x72 with 1 Axes>"
      ]
     },
     "metadata": {
      "needs_background": "light"
     },
     "output_type": "display_data"
    }
   ],
   "source": [
    "### Now we want to see how one of our training piece measures up against this AVERAGE/IDEAL 3   \n",
    "    # we want to measure its DISTANCE from our ideal\n",
    "\n",
    "# take a random 3\n",
    "a_3 = stacked_threes[1]\n",
    "show_image(a_3);"
   ]
  },
  {
   "cell_type": "code",
   "execution_count": 18,
   "metadata": {},
   "outputs": [
    {
     "data": {
      "text/plain": [
       "(tensor(0.1114), tensor(0.2021))"
      ]
     },
     "execution_count": 18,
     "metadata": {},
     "output_type": "execute_result"
    }
   ],
   "source": [
    "# print(a_3)  <- will print a giant tensor of numberes\n",
    "# print()\n",
    "# print(mean3)\n",
    "\n",
    "\n",
    "dist_3_abs = (a_3 - mean3).abs().mean()\n",
    "    # using abs() to so +/-'s don't wash each other out\n",
    "    # MEAN ABSOLUTE DIFFERENCE, aka L1 NORM\n",
    "dist_3_sqr = ((a_3 - mean3)**2).mean().sqrt()\n",
    "    # ROOT MEAN SQUARED ERROR (RMSE), aka L2 NORM\n",
    "    \n",
    "dist_3_abs,dist_3_sqr"
   ]
  },
  {
   "cell_type": "code",
   "execution_count": 19,
   "metadata": {},
   "outputs": [
    {
     "data": {
      "text/plain": [
       "(tensor(0.1586), tensor(0.3021))"
      ]
     },
     "execution_count": 19,
     "metadata": {},
     "output_type": "execute_result"
    }
   ],
   "source": [
    "# ok, how does our random 3 measure against the ideal/mean 7?\n",
    "    # yesssss... this one is farther away, so we're more sure our random 3 is a 3 than we are it's a 7\n",
    "\n",
    "dist_7_abs = (a_3 - mean7).abs().mean()\n",
    "    # MEAN ABSOLUTE DIFFERENCE, aka L1 NORM\n",
    "dist_7_sqr = ((a_3 - mean7)**2).mean().sqrt()\n",
    "    # ROOT MEAN SQUARED ERROR (RMSE), aka L2 NORM\n",
    "    \n",
    "dist_7_abs,dist_7_sqr"
   ]
  },
  {
   "cell_type": "code",
   "execution_count": 20,
   "metadata": {},
   "outputs": [
    {
     "name": "stdout",
     "output_type": "stream",
     "text": [
      "tensor(0.1114)\n",
      "tensor(0.2021)\n",
      "tensor(0.1586)\n",
      "tensor(0.3021)\n"
     ]
    }
   ],
   "source": [
    "# LOSS FUNCTIONS\n",
    "    # via torch.nn.functional, which is commonly imported as F\n",
    "    \n",
    "# rewriting the dist_3_abs & dist_3_sqr above...\n",
    "print(F.l1_loss(a_3.float(), mean3))\n",
    "print(F.mse_loss(a_3, mean3).sqrt())\n",
    "\n",
    "# rewriting the dist_7_abs & dist_7_sqr above...\n",
    "print(F.l1_loss(a_3.float(),mean7))\n",
    "print(F.mse_loss(a_3,mean7).sqrt())"
   ]
  },
  {
   "cell_type": "code",
   "execution_count": null,
   "metadata": {},
   "outputs": [],
   "source": [
    "MEAN ABSOLUTE DIFFERENCE (L1 NORM) vs ROOT MEAN SQUARED ERROR (RMSE)(L2 NORM)\n",
    "    L2 NORM is supposed to penalize bigger mistakes more heavily,\n",
    "    but more lenient with small mistakes\n",
    "\n",
    "L1_NORM = (tensor1 - tensor2).abs().mean()\n",
    "L2_NORM = [(tensor1 - tensor2)**2].mean().sqrt()"
   ]
  },
  {
   "cell_type": "markdown",
   "metadata": {},
   "source": [
    "### NumPy Arrays and PyTorch Tensors"
   ]
  },
  {
   "cell_type": "code",
   "execution_count": null,
   "metadata": {},
   "outputs": [],
   "source": [
    "# WHY NumPy arrays or PyTorch tensors? \n",
    "#     computes way faster bc they're in C\n",
    "\n",
    "# PyTorch tensors cannot be jagged, it's always a regular shaped multidimensional rect structure.\n",
    "# PyTorch tensors also can't use just any type, it has to be a single basic numeric type for all comps.\n",
    "\n",
    "    "
   ]
  },
  {
   "cell_type": "code",
   "execution_count": 45,
   "metadata": {},
   "outputs": [],
   "source": [
    "data = [[1,2,3],[4,5,6]]\n",
    "arr = array (data)\n",
    "tns = tensor(data)"
   ]
  },
  {
   "cell_type": "code",
   "execution_count": 46,
   "metadata": {},
   "outputs": [
    {
     "data": {
      "text/plain": [
       "array([[1, 2, 3],\n",
       "       [4, 5, 6]])"
      ]
     },
     "execution_count": 46,
     "metadata": {},
     "output_type": "execute_result"
    }
   ],
   "source": [
    "arr  # numpy"
   ]
  },
  {
   "cell_type": "code",
   "execution_count": 47,
   "metadata": {},
   "outputs": [
    {
     "data": {
      "text/plain": [
       "tensor([[1, 2, 3],\n",
       "        [4, 5, 6]])"
      ]
     },
     "execution_count": 47,
     "metadata": {},
     "output_type": "execute_result"
    }
   ],
   "source": [
    "tns  # pytorch"
   ]
  },
  {
   "cell_type": "code",
   "execution_count": 48,
   "metadata": {},
   "outputs": [
    {
     "data": {
      "text/plain": [
       "tensor([4, 5, 6])"
      ]
     },
     "execution_count": 48,
     "metadata": {},
     "output_type": "execute_result"
    }
   ],
   "source": [
    "tns[1]"
   ]
  },
  {
   "cell_type": "code",
   "execution_count": 49,
   "metadata": {},
   "outputs": [
    {
     "data": {
      "text/plain": [
       "tensor([2, 5])"
      ]
     },
     "execution_count": 49,
     "metadata": {},
     "output_type": "execute_result"
    }
   ],
   "source": [
    "tns[:,1]"
   ]
  },
  {
   "cell_type": "code",
   "execution_count": 50,
   "metadata": {},
   "outputs": [
    {
     "data": {
      "text/plain": [
       "tensor([5, 6])"
      ]
     },
     "execution_count": 50,
     "metadata": {},
     "output_type": "execute_result"
    }
   ],
   "source": [
    "tns[1,1:3]"
   ]
  },
  {
   "cell_type": "code",
   "execution_count": 51,
   "metadata": {},
   "outputs": [
    {
     "data": {
      "text/plain": [
       "tensor([[2, 3, 4],\n",
       "        [5, 6, 7]])"
      ]
     },
     "execution_count": 51,
     "metadata": {},
     "output_type": "execute_result"
    }
   ],
   "source": [
    "tns+1"
   ]
  },
  {
   "cell_type": "code",
   "execution_count": 52,
   "metadata": {},
   "outputs": [
    {
     "data": {
      "text/plain": [
       "'torch.LongTensor'"
      ]
     },
     "execution_count": 52,
     "metadata": {},
     "output_type": "execute_result"
    }
   ],
   "source": [
    "tns.type()"
   ]
  },
  {
   "cell_type": "code",
   "execution_count": 53,
   "metadata": {},
   "outputs": [
    {
     "data": {
      "text/plain": [
       "tensor([[1.5000, 3.0000, 4.5000],\n",
       "        [6.0000, 7.5000, 9.0000]])"
      ]
     },
     "execution_count": 53,
     "metadata": {},
     "output_type": "execute_result"
    }
   ],
   "source": [
    "tns*1.5"
   ]
  },
  {
   "cell_type": "markdown",
   "metadata": {},
   "source": [
    "## Computing Metrics Using Broadcasting"
   ]
  },
  {
   "cell_type": "code",
   "execution_count": null,
   "metadata": {},
   "outputs": [],
   "source": [
    "L1_NORM & L2_NORM above are great and all, but not very understandable.\n",
    "    ^ These loss fcns describe how well the model works with our TRAINING SET\n",
    "So we normally use ACCURACY as the metric for classification models.\n",
    "\n",
    "This metric is calc'd over a VALIDATION SET.\n",
    "\n",
    "So now we'll grab the validation set from the valid/ folder"
   ]
  },
  {
   "cell_type": "code",
   "execution_count": 21,
   "metadata": {},
   "outputs": [
    {
     "data": {
      "text/plain": [
       "(torch.Size([1010, 28, 28]), torch.Size([1028, 28, 28]))"
      ]
     },
     "execution_count": 21,
     "metadata": {},
     "output_type": "execute_result"
    }
   ],
   "source": [
    "valid_3_tens = torch.stack([tensor(Image.open(o)) \n",
    "                            for o in (path/'valid'/'3').ls()])\n",
    "valid_3_tens = valid_3_tens.float()/255\n",
    "\n",
    "valid_7_tens = torch.stack([tensor(Image.open(o)) \n",
    "                            for o in (path/'valid'/'7').ls()])\n",
    "valid_7_tens = valid_7_tens.float()/255\n",
    "\n",
    "\n",
    "# check shapes as u go.  Here we see we have a 3-rank tensor, with 3 axes of 1000+ images, 28 pixels x 28 pixels\n",
    "valid_3_tens.shape,valid_7_tens.shape"
   ]
  },
  {
   "cell_type": "code",
   "execution_count": 22,
   "metadata": {},
   "outputs": [
    {
     "data": {
      "text/plain": [
       "tensor(0.1114)"
      ]
     },
     "execution_count": 22,
     "metadata": {},
     "output_type": "execute_result"
    }
   ],
   "source": [
    "# calc the mean absolute error thusly:\n",
    "def mnist_distance(a,b): return (a-b).abs().mean((-1,-2))\n",
    "    # what is this (-1, -2) in mean above???\n",
    "        # it's a range of axes. Last & 2nd-to-last element, basically the pixels.\n",
    "        # we averaged the intensity of all the pixels in an image.\n",
    "    # this is meant to be somewhat similar to how we wrote L1_NORM above\n",
    "mnist_distance(a_3, mean3)"
   ]
  },
  {
   "cell_type": "code",
   "execution_count": 23,
   "metadata": {},
   "outputs": [
    {
     "name": "stdout",
     "output_type": "stream",
     "text": [
      "single tensor a_3 vs full set valid_3_tens\n",
      "\tRANK = 2 <-- tensor of single image with 28x28 pixels\n",
      "\tRANK = 3 <-- 3D (rank3) tensor with 1000+imgs of 28x28 pixels\n",
      "\tRANK of mean3 = 2 <-- tensor of single IDEAL image with 28x28 pixels\n"
     ]
    },
    {
     "data": {
      "text/plain": [
       "(tensor([0.1202, 0.1417, 0.1763,  ..., 0.1292, 0.1318, 0.1603]),\n",
       " torch.Size([1010]))"
      ]
     },
     "execution_count": 23,
     "metadata": {},
     "output_type": "execute_result"
    }
   ],
   "source": [
    "# To calc a metric for overall ACCURACY, we need the distance to ideal 3 for EVERY image in the VALIDATION SET\n",
    "# but we don't need to loop it, just pass in the entire tensor set\n",
    "    # huh... it actually didn't throw an error\n",
    "    # PyTorch magic in (a-b),\n",
    "        # When it tries to subtract between 2 tensors of diff RANKS, will use BROADCASTING!!!\n",
    "        # It AUTO EXPANDS the tensor w/ the samller rank to the same size as the one with the larger rank!!!\n",
    "        # So this BROADCASTING happens to mean3 when it's up against valid_3_tens!!!\n",
    "            # Basically, it's like there's 1000+ ideal images to subtract against each tensor in valid_3_tens!!!\n",
    "        \n",
    "print(\"single tensor a_3 vs full set valid_3_tens\")\n",
    "print(f\"\\tRANK = {len(a_3.shape)} <-- tensor of single image with 28x28 pixels\")\n",
    "print(f\"\\tRANK = {len(valid_3_tens.shape)} <-- 3D (rank3) tensor with 1000+imgs of 28x28 pixels\")\n",
    "print(f\"\\tRANK of mean3 = {len(mean3.shape)} <-- tensor of single IDEAL image with 28x28 pixels\")\n",
    "\n",
    "valid_3_dist = mnist_distance(valid_3_tens, mean3)\n",
    "valid_3_dist, valid_3_dist.shape"
   ]
  },
  {
   "cell_type": "code",
   "execution_count": 24,
   "metadata": {
    "tags": []
   },
   "outputs": [
    {
     "data": {
      "text/plain": [
       "tensor([2, 3, 4])"
      ]
     },
     "execution_count": 24,
     "metadata": {},
     "output_type": "execute_result"
    }
   ],
   "source": [
    "# oh snap!  BROADCASTING turns the 2nd element into [1,1,1]\n",
    "tensor([1,2,3]) + tensor(1)\n"
   ]
  },
  {
   "cell_type": "code",
   "execution_count": 25,
   "metadata": {},
   "outputs": [
    {
     "name": "stdout",
     "output_type": "stream",
     "text": [
      "torch.Size([1010, 28, 28])\n",
      "torch.Size([28, 28])\n"
     ]
    },
    {
     "data": {
      "text/plain": [
       "torch.Size([1010, 28, 28])"
      ]
     },
     "execution_count": 25,
     "metadata": {},
     "output_type": "execute_result"
    }
   ],
   "source": [
    "print(valid_3_tens.shape)\n",
    "print(mean3.shape)\n",
    "\n",
    "# We are calculating the difference between our \"ideal 3\" and each of the 1000+  in the validation set, \n",
    "    # for each of 28×28 images, resulting in the shape [1010,28,28].\n",
    "(valid_3_tens-mean3).shape\n",
    "\n",
    "### PyTorch doesn't ACTUALLY copy mean3 1000x, it just pretends it were a tensor of that shape.\n",
    "# It does the whole calc in C (or in CUDA if you're using a GPU), which up to 1Mx faster."
   ]
  },
  {
   "cell_type": "code",
   "execution_count": 26,
   "metadata": {},
   "outputs": [],
   "source": [
    "### THIS IS THE PREDICTION!!!! X is 3 if it's closer to mean3 than it is to mean7\n",
    "def is_3(x): return mnist_distance(x,mean3) < mnist_distance(x,mean7)"
   ]
  },
  {
   "cell_type": "code",
   "execution_count": 23,
   "metadata": {},
   "outputs": [
    {
     "data": {
      "text/plain": [
       "(tensor(True), tensor(1.))"
      ]
     },
     "execution_count": 23,
     "metadata": {},
     "output_type": "execute_result"
    }
   ],
   "source": [
    "# Prediction just a_3 taken from our training set\n",
    "is_3(a_3), is_3(a_3).float()"
   ]
  },
  {
   "cell_type": "code",
   "execution_count": 27,
   "metadata": {},
   "outputs": [
    {
     "data": {
      "text/plain": [
       "tensor([ True,  True,  True,  ...,  True,  True, False])"
      ]
     },
     "execution_count": 27,
     "metadata": {},
     "output_type": "execute_result"
    }
   ],
   "source": [
    "# Prediction on the entire validation set\n",
    "is_3(valid_3_tens)"
   ]
  },
  {
   "cell_type": "code",
   "execution_count": 28,
   "metadata": {},
   "outputs": [
    {
     "data": {
      "text/plain": [
       "(tensor(0.9168), tensor(0.9854), tensor(0.9511))"
      ]
     },
     "execution_count": 28,
     "metadata": {},
     "output_type": "execute_result"
    }
   ],
   "source": [
    "# Now we can calculate the accuracy for each of the 3s and 7s \n",
    "# by taking the average of that function for all 3s and its inverse for all 7s:\n",
    "\n",
    "accuracy_3s =      is_3(valid_3_tens).float() .mean()\n",
    "accuracy_7s = (1 - is_3(valid_7_tens).float()).mean()\n",
    "\n",
    "accuracy_3s,accuracy_7s,(accuracy_3s+accuracy_7s)/2"
   ]
  },
  {
   "cell_type": "markdown",
   "metadata": {},
   "source": [
    "## Stochastic Gradient Descent (SGD)"
   ]
  },
  {
   "cell_type": "code",
   "execution_count": null,
   "metadata": {},
   "outputs": [],
   "source": [
    "Now use GSD to auto figure out the best weights for our model!\n",
    "... but HOW?!\n",
    "\n",
    "Instead of trying to find the similarity between an image and an \"ideal image,\" \n",
    "we could instead look at each individual pixel \n",
    "and come up with a set of weights for each one, \n",
    "such that the highest weights are associated with those pixels most likely to be black for a particular category\n",
    "\n",
    "For instance, pixels toward the bottom right \n",
    "    are not very likely to be activated for a 7, so they should have a low weight for a 7, \n",
    "    but they are likely to be activated for an 8, so they should have a high weight for an 8. \n",
    "    \n",
    "    \n",
    "########## STEPS: ##########\n",
    "    1. Initialize the weights\n",
    "            usu random\n",
    "    2. For each img, use these weights to PREDICT whether it's a 3 or 7\n",
    "    3. Based on these predictions, calc LOSS (how good the model is)\n",
    "            loss fcn returns small number if model is good, large number if bad\n",
    "    4. Calc he GRADIENT, which measures for each weight, how changing that weight can change loss\n",
    "    5. STEP (change) all the weights based on that calc\n",
    "            incr or decr a bit, in the direction of low loss.\n",
    "            can be slow if we do baby steps, but with GRADIENT calc we can take bigger steps.\n",
    "    6. Go back to step 2, repeat.\n",
    "    7. Iter til u stop the training process (once it's good enough or used up all epochs)"
   ]
  },
  {
   "cell_type": "code",
   "execution_count": 73,
   "metadata": {},
   "outputs": [
    {
     "data": {
      "image/svg+xml": [
       "<?xml version=\"1.0\" encoding=\"UTF-8\" standalone=\"no\"?>\n",
       "<!DOCTYPE svg PUBLIC \"-//W3C//DTD SVG 1.1//EN\"\n",
       " \"http://www.w3.org/Graphics/SVG/1.1/DTD/svg11.dtd\">\n",
       "<!-- Generated by graphviz version 2.40.1 (20161225.0304)\n",
       " -->\n",
       "<!-- Title: G Pages: 1 -->\n",
       "<svg width=\"591pt\" height=\"78pt\"\n",
       " viewBox=\"0.00 0.00 591.49 78.00\" xmlns=\"http://www.w3.org/2000/svg\" xmlns:xlink=\"http://www.w3.org/1999/xlink\">\n",
       "<g id=\"graph0\" class=\"graph\" transform=\"scale(1 1) rotate(0) translate(4 74)\">\n",
       "<title>G</title>\n",
       "<polygon fill=\"#ffffff\" stroke=\"transparent\" points=\"-4,4 -4,-74 587.4867,-74 587.4867,4 -4,4\"/>\n",
       "<!-- init -->\n",
       "<g id=\"node1\" class=\"node\">\n",
       "<title>init</title>\n",
       "<ellipse fill=\"none\" stroke=\"#000000\" cx=\"27\" cy=\"-18\" rx=\"27\" ry=\"18\"/>\n",
       "<text text-anchor=\"middle\" x=\"27\" y=\"-14.3\" font-family=\"Times,serif\" font-size=\"14.00\" fill=\"#000000\">init</text>\n",
       "</g>\n",
       "<!-- predict -->\n",
       "<g id=\"node2\" class=\"node\">\n",
       "<title>predict</title>\n",
       "<ellipse fill=\"none\" stroke=\"#000000\" cx=\"126.0969\" cy=\"-18\" rx=\"35.194\" ry=\"18\"/>\n",
       "<text text-anchor=\"middle\" x=\"126.0969\" y=\"-14.3\" font-family=\"Times,serif\" font-size=\"14.00\" fill=\"#000000\">predict</text>\n",
       "</g>\n",
       "<!-- init&#45;&gt;predict -->\n",
       "<g id=\"edge1\" class=\"edge\">\n",
       "<title>init&#45;&gt;predict</title>\n",
       "<path fill=\"none\" stroke=\"#000000\" d=\"M54.0787,-18C62.3227,-18 71.6196,-18 80.7269,-18\"/>\n",
       "<polygon fill=\"#000000\" stroke=\"#000000\" points=\"80.8626,-21.5001 90.8626,-18 80.8625,-14.5001 80.8626,-21.5001\"/>\n",
       "</g>\n",
       "<!-- loss -->\n",
       "<g id=\"node3\" class=\"node\">\n",
       "<title>loss</title>\n",
       "<ellipse fill=\"none\" stroke=\"#000000\" cx=\"225.1938\" cy=\"-52\" rx=\"27\" ry=\"18\"/>\n",
       "<text text-anchor=\"middle\" x=\"225.1938\" y=\"-48.3\" font-family=\"Times,serif\" font-size=\"14.00\" fill=\"#000000\">loss</text>\n",
       "</g>\n",
       "<!-- predict&#45;&gt;loss -->\n",
       "<g id=\"edge2\" class=\"edge\">\n",
       "<title>predict&#45;&gt;loss</title>\n",
       "<path fill=\"none\" stroke=\"#000000\" d=\"M155.2932,-28.0172C166.6224,-31.9043 179.6698,-36.3808 191.4018,-40.406\"/>\n",
       "<polygon fill=\"#000000\" stroke=\"#000000\" points=\"190.2859,-43.7234 200.8806,-43.6582 192.5577,-37.1023 190.2859,-43.7234\"/>\n",
       "</g>\n",
       "<!-- gradient -->\n",
       "<g id=\"node4\" class=\"node\">\n",
       "<title>gradient</title>\n",
       "<ellipse fill=\"none\" stroke=\"#000000\" cx=\"361.8403\" cy=\"-52\" rx=\"39.7935\" ry=\"18\"/>\n",
       "<text text-anchor=\"middle\" x=\"361.8403\" y=\"-48.3\" font-family=\"Times,serif\" font-size=\"14.00\" fill=\"#000000\">gradient</text>\n",
       "</g>\n",
       "<!-- loss&#45;&gt;gradient -->\n",
       "<g id=\"edge3\" class=\"edge\">\n",
       "<title>loss&#45;&gt;gradient</title>\n",
       "<path fill=\"none\" stroke=\"#000000\" d=\"M252.5178,-52C269.4967,-52 291.836,-52 311.8929,-52\"/>\n",
       "<polygon fill=\"#000000\" stroke=\"#000000\" points=\"312.1329,-55.5001 322.1329,-52 312.1328,-48.5001 312.1329,-55.5001\"/>\n",
       "</g>\n",
       "<!-- step -->\n",
       "<g id=\"node5\" class=\"node\">\n",
       "<title>step</title>\n",
       "<ellipse fill=\"none\" stroke=\"#000000\" cx=\"465.4867\" cy=\"-18\" rx=\"27\" ry=\"18\"/>\n",
       "<text text-anchor=\"middle\" x=\"465.4867\" y=\"-14.3\" font-family=\"Times,serif\" font-size=\"14.00\" fill=\"#000000\">step</text>\n",
       "</g>\n",
       "<!-- gradient&#45;&gt;step -->\n",
       "<g id=\"edge4\" class=\"edge\">\n",
       "<title>gradient&#45;&gt;step</title>\n",
       "<path fill=\"none\" stroke=\"#000000\" d=\"M394.0665,-41.4286C405.9515,-37.5298 419.4492,-33.1021 431.4862,-29.1535\"/>\n",
       "<polygon fill=\"#000000\" stroke=\"#000000\" points=\"432.7754,-32.4142 441.1862,-25.9715 430.5935,-25.7629 432.7754,-32.4142\"/>\n",
       "</g>\n",
       "<!-- step&#45;&gt;predict -->\n",
       "<g id=\"edge6\" class=\"edge\">\n",
       "<title>step&#45;&gt;predict</title>\n",
       "<path fill=\"none\" stroke=\"#000000\" d=\"M438.4132,-18C380.3272,-18 243.2155,-18 171.5401,-18\"/>\n",
       "<polygon fill=\"#000000\" stroke=\"#000000\" points=\"171.4571,-14.5001 161.4571,-18 171.4571,-21.5001 171.4571,-14.5001\"/>\n",
       "<text text-anchor=\"middle\" x=\"287.1938\" y=\"-21.8\" font-family=\"Times,serif\" font-size=\"14.00\" fill=\"#000000\">repeat</text>\n",
       "</g>\n",
       "<!-- stop -->\n",
       "<g id=\"node6\" class=\"node\">\n",
       "<title>stop</title>\n",
       "<ellipse fill=\"none\" stroke=\"#000000\" cx=\"556.4867\" cy=\"-18\" rx=\"27\" ry=\"18\"/>\n",
       "<text text-anchor=\"middle\" x=\"556.4867\" y=\"-14.3\" font-family=\"Times,serif\" font-size=\"14.00\" fill=\"#000000\">stop</text>\n",
       "</g>\n",
       "<!-- step&#45;&gt;stop -->\n",
       "<g id=\"edge5\" class=\"edge\">\n",
       "<title>step&#45;&gt;stop</title>\n",
       "<path fill=\"none\" stroke=\"#000000\" d=\"M492.7897,-18C501.068,-18 510.3085,-18 519.1272,-18\"/>\n",
       "<polygon fill=\"#000000\" stroke=\"#000000\" points=\"519.203,-21.5001 529.203,-18 519.203,-14.5001 519.203,-21.5001\"/>\n",
       "</g>\n",
       "</g>\n",
       "</svg>\n"
      ],
      "text/plain": [
       "<graphviz.sources.Source at 0x7efda3dbfa90>"
      ]
     },
     "execution_count": 73,
     "metadata": {},
     "output_type": "execute_result"
    }
   ],
   "source": [
    "gv('''\n",
    "init->predict->loss->gradient->step->stop\n",
    "step->predict[label=repeat]\n",
    "''')"
   ]
  },
  {
   "cell_type": "code",
   "execution_count": 74,
   "metadata": {},
   "outputs": [],
   "source": [
    "def f(x): return x**2"
   ]
  },
  {
   "cell_type": "code",
   "execution_count": 76,
   "metadata": {},
   "outputs": [
    {
     "data": {
      "image/png": "[encoded data removed]",
      "text/plain": [
       "<Figure size 432x288 with 1 Axes>"
      ]
     },
     "metadata": {
      "needs_background": "light"
     },
     "output_type": "display_data"
    }
   ],
   "source": [
    "plot_function(f, 'x', 'y = x**2')"
   ]
  },
  {
   "cell_type": "code",
   "execution_count": 77,
   "metadata": {},
   "outputs": [
    {
     "data": {
      "image/png": "[encoded data removed]",
      "text/plain": [
       "<Figure size 432x288 with 1 Axes>"
      ]
     },
     "metadata": {
      "needs_background": "light"
     },
     "output_type": "display_data"
    }
   ],
   "source": [
    "plot_function(f, 'x', 'y = x**2')\n",
    "plt.scatter(-1.5, f(-1.5), color='red');"
   ]
  },
  {
   "cell_type": "code",
   "execution_count": null,
   "metadata": {},
   "outputs": [],
   "source": [
    "If we +/- our param by a bit (the ADJUSTMENT), this is the slope at a particular point.\n",
    "We can get to the lowest point of the curve by chg the x/weight, and see what y/result we get.\n",
    "Based on the slope (loss), adjust how much to change x/weight next time.\n",
    "Do this until we eventually get to the lowest point on the curve\n",
    "    [0,0] where the slope=0 loss is minimum, yay\n",
    "\n",
    "The further away from [0,0] we are, the steeper the slope, so the more we need to change x/weight\n",
    "    Starting at the randomized red dot where the init weight is -1.5\n",
    "    I guess this is what happesn....\n",
    "        We want a flatter slope, so pretend we decr x to -2.5\n",
    "        That gives us a worse/steeper slope/loss, so we incr x instead, to -0.5\n",
    "        That gives us a nice flater slope, can we do better?\n",
    "        Try incr to 0.5\n",
    "        Slope is same, but diff direction, so double back to x=0\n",
    "        yay, foudn it.\n",
    "    But... how do we know how much to adjust? See \"STEPPING WITH LEARNING RATE\" below\n",
    "    \n",
    "Calculus derivatives tells us how fast the slope changes: \n",
    "    slope = (y2-y1)/(x2-x1)\n",
    "    \n",
    "Our actual fcn has LOTS Of adjustable weights, \n",
    "    so we will get back LOTS of derivatives, 1 for each weight.\n"
   ]
  },
  {
   "cell_type": "markdown",
   "metadata": {},
   "source": [
    "### Calculating Gradients"
   ]
  },
  {
   "cell_type": "code",
   "execution_count": 81,
   "metadata": {},
   "outputs": [],
   "source": [
    "# PyTorch will calc derivs for us, yay\n",
    "    # .requires_grad() says we want to calc gradients wrt that weight variable at that value.\n",
    "\n",
    "xt = tensor(3.).requires_grad_()"
   ]
  },
  {
   "cell_type": "code",
   "execution_count": 82,
   "metadata": {},
   "outputs": [
    {
     "data": {
      "text/plain": [
       "tensor(9., grad_fn=<PowBackward0>)"
      ]
     },
     "execution_count": 82,
     "metadata": {},
     "output_type": "execute_result"
    }
   ],
   "source": [
    "# Now we calculate our function with that value. \n",
    "    # Notice how PyTorch prints not just the value calculated, \n",
    "    # but also a note that it has a gradient function it'll be using to calculate our gradients when needed\n",
    "yt = f(xt)\n",
    "    # remember earlier we defined f(arg1) to return arg1**2\n",
    "    # so here we are telling it to pass in tensor(3) to be squared\n",
    "yt"
   ]
  },
  {
   "cell_type": "code",
   "execution_count": 83,
   "metadata": {},
   "outputs": [],
   "source": [
    "# functionValue.backward() tells it to CALC GRADIENTS for us\n",
    "    # BACKPROPAGATION, name given to the process of calc deriv of each layer\n",
    "    # aka \"backward pass\" of the network, vs \"forward pass\" where the activations are calc'd\n",
    "    # ^ what?!\n",
    "\n",
    "yt.backward()"
   ]
  },
  {
   "cell_type": "code",
   "execution_count": 84,
   "metadata": {},
   "outputs": [
    {
     "data": {
      "text/plain": [
       "tensor(6.)"
      ]
     },
     "execution_count": 84,
     "metadata": {},
     "output_type": "execute_result"
    }
   ],
   "source": [
    "# paramTensor.grad to view gradients\n",
    "    # y = x^2 has derivative of 2x, therefore since we passed in tensor(3), we get deriv of tensor(6)\n",
    "xt.grad"
   ]
  },
  {
   "cell_type": "code",
   "execution_count": 85,
   "metadata": {},
   "outputs": [
    {
     "data": {
      "text/plain": [
       "tensor([ 3.,  4., 10.], requires_grad=True)"
      ]
     },
     "execution_count": 85,
     "metadata": {},
     "output_type": "execute_result"
    }
   ],
   "source": [
    "# now try a bigger tensor as the x/weight/params\n",
    "\n",
    "xt = tensor([3.,4.,10.]).requires_grad_()\n",
    "xt"
   ]
  },
  {
   "cell_type": "code",
   "execution_count": 86,
   "metadata": {},
   "outputs": [
    {
     "data": {
      "text/plain": [
       "tensor(125., grad_fn=<SumBackward0>)"
      ]
     },
     "execution_count": 86,
     "metadata": {},
     "output_type": "execute_result"
    }
   ],
   "source": [
    "# with a diff fcn\n",
    "\n",
    "def f(x): return (x**2).sum()\n",
    "\n",
    "yt = f(xt)\n",
    "yt"
   ]
  },
  {
   "cell_type": "code",
   "execution_count": 87,
   "metadata": {},
   "outputs": [
    {
     "data": {
      "text/plain": [
       "tensor([ 6.,  8., 20.])"
      ]
     },
     "execution_count": 87,
     "metadata": {},
     "output_type": "execute_result"
    }
   ],
   "source": [
    "# valueFromFcn.backward() to CALC GRADIENT/derivative        # slope is still 2x\n",
    "# params.grad to show it\n",
    "yt.backward()\n",
    "xt.grad"
   ]
  },
  {
   "cell_type": "markdown",
   "metadata": {},
   "source": [
    "### Stepping With a Learning Rate"
   ]
  },
  {
   "cell_type": "code",
   "execution_count": null,
   "metadata": {},
   "outputs": [],
   "source": [
    "Basically multiply the gradient by some small number called LEARNING RATE (LR)\n",
    "    LR is usu between 0.001 and 0.1\n",
    "    Ppl try a few diff LRs to see which gives the best model (also covered in LEARNING RATE FINDER later)\n",
    "\n",
    "LRs that are too low are baby steps, and training can take forever\n",
    "LRs that are too high is worse, causes doubling back on directions due to overshoot.\n",
    "See pictures in non-clean version, but its' pretty dang obvious from the parabola graph above in cell 78.\n",
    "    "
   ]
  },
  {
   "cell_type": "markdown",
   "metadata": {},
   "source": [
    "### An End-to-End SGD Example"
   ]
  },
  {
   "cell_type": "code",
   "execution_count": 139,
   "metadata": {},
   "outputs": [
    {
     "data": {
      "text/plain": [
       "tensor([ 0.,  1.,  2.,  3.,  4.,  5.,  6.,  7.,  8.,  9., 10., 11., 12., 13., 14., 15., 16., 17., 18., 19.])"
      ]
     },
     "execution_count": 139,
     "metadata": {},
     "output_type": "execute_result"
    }
   ],
   "source": [
    "# pretend these are the speeds measured of a roller coaster q20sec\n",
    "time = torch.arange(0,20).float(); time"
   ]
  },
  {
   "cell_type": "code",
   "execution_count": 140,
   "metadata": {},
   "outputs": [
    {
     "data": {
      "image/png": "[encoded data removed]",
      "text/plain": [
       "<Figure size 432x288 with 1 Axes>"
      ]
     },
     "metadata": {
      "needs_background": "light"
     },
     "output_type": "display_data"
    }
   ],
   "source": [
    "# ignore this line below, it's just generating ~random graph points\n",
    "speed = torch.randn(20)*3 + 0.75*(time-9.5)**2 + 1\n",
    "plt.scatter(time,speed);"
   ]
  },
  {
   "cell_type": "code",
   "execution_count": 141,
   "metadata": {},
   "outputs": [],
   "source": [
    "# f() is our PREDICTION, for describing what the real blue speed data we see above\n",
    "# a/b/c are params that corresp to what kind of quadratic shape we're trying.  \n",
    "    # a for quadratic, b for linear, c for constant\n",
    "def f(t, params):\n",
    "    a,b,c = params\n",
    "    return a*(t**2) + (b*t) + c"
   ]
  },
  {
   "cell_type": "code",
   "execution_count": 142,
   "metadata": {},
   "outputs": [],
   "source": [
    "# we need to define first what we mean by \"best\"\n",
    "### so we use a LOSS FCN here.  \n",
    "    # lower = better\n",
    "    # SGD will adjust weights towards lower LOSS FCN values, to minimize loss.\n",
    "    # For continuous data, it's common to use MEAN SQUARED ERROR\n",
    "\n",
    "def mse(preds, targets): return ((preds-targets)**2).mean().sqrt()"
   ]
  },
  {
   "cell_type": "markdown",
   "metadata": {},
   "source": [
    "#### Step 1: Initialize the parameters"
   ]
  },
  {
   "cell_type": "code",
   "execution_count": 143,
   "metadata": {},
   "outputs": [
    {
     "name": "stdout",
     "output_type": "stream",
     "text": [
      "Our first randomized params tensor([ 0.4000, -1.2039, -0.4198], requires_grad=True)\n"
     ]
    }
   ],
   "source": [
    "# remmeber to take on .requires_grad() to tag it for GRADIENT calc!\n",
    "params = torch.randn(3).requires_grad_()\n",
    "print(f\"Our first randomized params {params}\")"
   ]
  },
  {
   "cell_type": "code",
   "execution_count": 144,
   "metadata": {},
   "outputs": [],
   "source": [
    "#hide\n",
    "orig_params = params.clone()"
   ]
  },
  {
   "cell_type": "markdown",
   "metadata": {},
   "source": [
    "#### Step 2: Calculate the predictions"
   ]
  },
  {
   "cell_type": "code",
   "execution_count": 145,
   "metadata": {},
   "outputs": [],
   "source": [
    "# Run our params through our prediction model f()\n",
    "preds = f(time, params)"
   ]
  },
  {
   "cell_type": "code",
   "execution_count": 146,
   "metadata": {},
   "outputs": [],
   "source": [
    "def show_preds(preds, ax=None):\n",
    "    if ax is None: ax=plt.subplots()[1]\n",
    "    ax.scatter(time, speed)\n",
    "    ax.scatter(time, to_np(preds), color='red')\n",
    "    ax.set_ylim(-300,100)"
   ]
  },
  {
   "cell_type": "code",
   "execution_count": 147,
   "metadata": {},
   "outputs": [
    {
     "data": {
      "image/png": "[encoded data removed]",
      "text/plain": [
       "<Figure size 432x288 with 1 Axes>"
      ]
     },
     "metadata": {
      "needs_background": "light"
     },
     "output_type": "display_data"
    }
   ],
   "source": [
    "# red plot is my initial \"prediction\" using the randomized a/b/c params\n",
    "# blue plot is the real-life speed data that I'm trying to approx w/ my model\n",
    "show_preds(preds)"
   ]
  },
  {
   "cell_type": "markdown",
   "metadata": {},
   "source": [
    "#### Step 3: Calculate the loss"
   ]
  },
  {
   "cell_type": "code",
   "execution_count": 148,
   "metadata": {},
   "outputs": [
    {
     "name": "stdout",
     "output_type": "stream",
     "text": [
      "INITIAL TRIAL: loss = 40.331939697265625\n"
     ]
    }
   ],
   "source": [
    "# Look at the MSE of red-v-blue delta-Y for each x\n",
    "loss = mse(preds, speed)\n",
    "print(f\"INITIAL TRIAL: loss = {loss}\")"
   ]
  },
  {
   "cell_type": "markdown",
   "metadata": {},
   "source": [
    "#### Step 4: Calculate the gradients"
   ]
  },
  {
   "cell_type": "code",
   "execution_count": 149,
   "metadata": {},
   "outputs": [
    {
     "name": "stdout",
     "output_type": "stream",
     "text": [
      "What is the slope/derivative? We want close to 0\n"
     ]
    },
    {
     "data": {
      "text/plain": [
       "tensor([128.1733,   8.0188,   0.2868])"
      ]
     },
     "execution_count": 149,
     "metadata": {},
     "output_type": "execute_result"
    }
   ],
   "source": [
    "### lossVal.backward() <-- TO CALC GRADIENT/deriv\n",
    "### params.grad        <-- to GIVE results\n",
    "loss.backward()\n",
    "print(\"What is the slope/derivative? We want close to 0\")\n",
    "params.grad\n"
   ]
  },
  {
   "cell_type": "code",
   "execution_count": 152,
   "metadata": {
    "collapsed": true,
    "jupyter": {
     "outputs_hidden": true
    },
    "tags": []
   },
   "outputs": [
    {
     "data": {
      "text/plain": [
       "tensor([1.2817e-03, 8.0188e-05, 2.8682e-06])"
      ]
     },
     "execution_count": 152,
     "metadata": {},
     "output_type": "execute_result"
    }
   ],
   "source": [
    "# FOR Step 5, we can ADJUST the weight! via LEARNING RATE\n",
    "chgToNewParams = params.grad * 1e-5\n",
    "chgToNewParams"
   ]
  },
  {
   "cell_type": "code",
   "execution_count": 151,
   "metadata": {
    "collapsed": true,
    "jupyter": {
     "outputs_hidden": true
    },
    "tags": []
   },
   "outputs": [
    {
     "data": {
      "text/plain": [
       "tensor([ 0.4000, -1.2039, -0.4198], requires_grad=True)"
      ]
     },
     "execution_count": 151,
     "metadata": {},
     "output_type": "execute_result"
    }
   ],
   "source": [
    "# we haven't actually changed the params yet\n",
    "params"
   ]
  },
  {
   "cell_type": "markdown",
   "metadata": {},
   "source": [
    "#### Step 5: Step the weights. "
   ]
  },
  {
   "cell_type": "code",
   "execution_count": 156,
   "metadata": {},
   "outputs": [],
   "source": [
    "# update the parameters based on the calc'd gradient\n",
    "lr = 1e-5\n",
    "\n",
    "# NOTE that we're decreasing params.DATA, not params itself\n",
    "params.data -= lr * params.grad.data\n",
    "\n",
    "# ALSO, now that params is updated ot new value, we need to wipe the gradient results in params.grad\n",
    "params.grad = None"
   ]
  },
  {
   "cell_type": "code",
   "execution_count": 157,
   "metadata": {},
   "outputs": [
    {
     "name": "stdout",
     "output_type": "stream",
     "text": [
      "loss = 39.84030532836914  <-- is it lower this time?\n",
      "How does params.grad look? is the tensor a lower derivative now?\n"
     ]
    },
    {
     "data": {
      "text/plain": [
       "tensor([127.0341,   7.9431,   0.2784])"
      ]
     },
     "execution_count": 157,
     "metadata": {},
     "output_type": "execute_result"
    }
   ],
   "source": [
    "# what's the new prediction & resulting loss value?\n",
    "preds = f(time,params)\n",
    "loss = mse(preds, speed)\n",
    "print(f\"loss = {loss}  <-- is it lower this time?\")\n",
    "\n",
    "print(\"How does params.grad look? is the tensor a lower derivative now?\")\n",
    "loss.backward()\n",
    "params.grad\n",
    "\n",
    "\n",
    "# To calculate the gradients...\n",
    "# we call backward on the loss value. \n",
    "  # But this loss was itself calculated by loss fcn of mse(), \n",
    "    # which took preds as an input, \n",
    "      # which was calc'd using starter prediction of f(), taking as an input params, \n",
    "        # which was the object on which we originally called .required_grads_ on, to track these weight/params\n",
    "          # which is the original call that now allows us to call backward on loss value"
   ]
  },
  {
   "cell_type": "code",
   "execution_count": null,
   "metadata": {},
   "outputs": [],
   "source": [
    "##### The loss & params.grad should be lower this time, since we're making baby steps (0.00001)\n",
    "# towards a lower slope.  \n",
    "# Unless we went the wrong direction, idk how we decided on DECR instead of INCR"
   ]
  },
  {
   "cell_type": "code",
   "execution_count": 158,
   "metadata": {},
   "outputs": [
    {
     "data": {
      "image/png": "[encoded data removed]",
      "text/plain": [
       "<Figure size 432x288 with 1 Axes>"
      ]
     },
     "metadata": {
      "needs_background": "light"
     },
     "output_type": "display_data"
    }
   ],
   "source": [
    "show_preds(preds)"
   ]
  },
  {
   "cell_type": "code",
   "execution_count": 165,
   "metadata": {},
   "outputs": [],
   "source": [
    "# Since we need to repeat STEP 5 a bunch of times, we need this:\n",
    "        # I added the 2nd param so I can adjust it myself\n",
    "def apply_step(params, lr=1e-5, prn=True):\n",
    "    # Make prediction w/ given params\n",
    "    preds = f(time, params)\n",
    "    # Calc loss fcn value from prediction\n",
    "    loss = mse(preds, speed)\n",
    "    # Calc GRADIENT on that loss fcn value\n",
    "    loss.backward()\n",
    "    # We could show params.grad and see how our slope/deriv is hopefully flatter now, but not gonna bother\n",
    "    # Adjust per Learning Rate\n",
    "    params.data -= lr * params.grad.data\n",
    "    # Wipe params.grad for next gradient calc\n",
    "    params.grad = None\n",
    "    if prn: \n",
    "        print(loss.item())\n",
    "        # show_preds(preds)  # graphs might not look all that diff from each other bc LR is so small\n",
    "    return preds"
   ]
  },
  {
   "cell_type": "markdown",
   "metadata": {},
   "source": [
    "#### Step 6: Repeat the process "
   ]
  },
  {
   "cell_type": "code",
   "execution_count": 166,
   "metadata": {},
   "outputs": [
    {
     "name": "stdout",
     "output_type": "stream",
     "text": [
      "38.72935104370117\n",
      "38.574607849121094\n",
      "38.420894622802734\n",
      "38.268211364746094\n",
      "38.1165657043457\n",
      "37.965965270996094\n",
      "37.816410064697266\n",
      "37.667903900146484\n",
      "37.52045822143555\n",
      "37.37407684326172\n"
     ]
    }
   ],
   "source": [
    "# see the loss is going down :-D\n",
    "# THIS IS 10 EPOCHS\n",
    "for i in range(10): apply_step(params)"
   ]
  },
  {
   "cell_type": "code",
   "execution_count": 167,
   "metadata": {},
   "outputs": [],
   "source": [
    "#hide\n",
    "params = orig_params.detach().requires_grad_()"
   ]
  },
  {
   "cell_type": "code",
   "execution_count": 168,
   "metadata": {},
   "outputs": [
    {
     "data": {
      "image/png": "[encoded data removed]",
      "text/plain": [
       "<Figure size 864x216 with 4 Axes>"
      ]
     },
     "metadata": {
      "needs_background": "light"
     },
     "output_type": "display_data"
    }
   ],
   "source": [
    "# ok, the loss is going down, let's also look at how prediction graphs changed through time\n",
    "_,axs = plt.subplots(1,4,figsize=(12,3))\n",
    "for ax in axs: show_preds(apply_step(params, False), ax)\n",
    "plt.tight_layout()"
   ]
  },
  {
   "cell_type": "code",
   "execution_count": 180,
   "metadata": {
    "collapsed": true,
    "jupyter": {
     "outputs_hidden": true
    },
    "tags": []
   },
   "outputs": [
    {
     "name": "stdout",
     "output_type": "stream",
     "text": [
      "26.02480125427246\n",
      "26.0246524810791\n",
      "26.024503707885742\n",
      "26.02436065673828\n",
      "26.024221420288086\n",
      "26.02408218383789\n",
      "26.023950576782227\n",
      "26.023815155029297\n",
      "26.023685455322266\n",
      "26.023561477661133\n",
      "26.023435592651367\n",
      "26.0233154296875\n",
      "26.023197174072266\n",
      "26.023082733154297\n",
      "26.022966384887695\n",
      "26.022855758666992\n",
      "26.022747039794922\n",
      "26.022640228271484\n",
      "26.02253532409668\n",
      "26.02243423461914\n",
      "26.02233123779297\n",
      "26.022235870361328\n",
      "26.022140502929688\n",
      "26.02204704284668\n",
      "26.021953582763672\n",
      "26.02186393737793\n",
      "26.021778106689453\n",
      "26.021690368652344\n",
      "26.021604537963867\n",
      "26.021522521972656\n",
      "26.021442413330078\n",
      "26.021360397338867\n",
      "26.021286010742188\n",
      "26.021209716796875\n",
      "26.021135330200195\n",
      "26.021060943603516\n",
      "26.0209903717041\n",
      "26.020919799804688\n",
      "26.020851135253906\n",
      "26.020784378051758\n",
      "26.020719528198242\n",
      "26.02065658569336\n",
      "26.020591735839844\n",
      "26.020530700683594\n",
      "26.020469665527344\n",
      "26.020410537719727\n",
      "26.02035140991211\n",
      "26.020296096801758\n",
      "26.020238876342773\n",
      "26.020187377929688\n"
     ]
    }
   ],
   "source": [
    "# What if I'm not happy yet and want 50 epochs??? with a more aggressive LR???\n",
    "\n",
    "for i in range(50): apply_step(params, lr*1000)"
   ]
  },
  {
   "cell_type": "code",
   "execution_count": 181,
   "metadata": {},
   "outputs": [
    {
     "data": {
      "image/png": "[encoded data removed]",
      "text/plain": [
       "<Figure size 864x216 with 4 Axes>"
      ]
     },
     "metadata": {
      "needs_background": "light"
     },
     "output_type": "display_data"
    }
   ],
   "source": [
    "# Have I gotten even closer?!\n",
    "_,axs = plt.subplots(1,4,figsize=(12,3))\n",
    "for ax in axs: show_preds(apply_step(params, False), ax)\n",
    "plt.tight_layout()"
   ]
  },
  {
   "cell_type": "markdown",
   "metadata": {},
   "source": [
    "#### Step 7: stop"
   ]
  },
  {
   "cell_type": "markdown",
   "metadata": {},
   "source": [
    "### Summarizing Gradient Descent"
   ]
  },
  {
   "cell_type": "code",
   "execution_count": 182,
   "metadata": {},
   "outputs": [
    {
     "data": {
      "image/svg+xml": [
       "<?xml version=\"1.0\" encoding=\"UTF-8\" standalone=\"no\"?>\n",
       "<!DOCTYPE svg PUBLIC \"-//W3C//DTD SVG 1.1//EN\"\n",
       " \"http://www.w3.org/Graphics/SVG/1.1/DTD/svg11.dtd\">\n",
       "<!-- Generated by graphviz version 2.40.1 (20161225.0304)\n",
       " -->\n",
       "<!-- Title: G Pages: 1 -->\n",
       "<svg width=\"591pt\" height=\"78pt\"\n",
       " viewBox=\"0.00 0.00 591.49 78.00\" xmlns=\"http://www.w3.org/2000/svg\" xmlns:xlink=\"http://www.w3.org/1999/xlink\">\n",
       "<g id=\"graph0\" class=\"graph\" transform=\"scale(1 1) rotate(0) translate(4 74)\">\n",
       "<title>G</title>\n",
       "<polygon fill=\"#ffffff\" stroke=\"transparent\" points=\"-4,4 -4,-74 587.4867,-74 587.4867,4 -4,4\"/>\n",
       "<!-- init -->\n",
       "<g id=\"node1\" class=\"node\">\n",
       "<title>init</title>\n",
       "<ellipse fill=\"none\" stroke=\"#000000\" cx=\"27\" cy=\"-18\" rx=\"27\" ry=\"18\"/>\n",
       "<text text-anchor=\"middle\" x=\"27\" y=\"-14.3\" font-family=\"Times,serif\" font-size=\"14.00\" fill=\"#000000\">init</text>\n",
       "</g>\n",
       "<!-- predict -->\n",
       "<g id=\"node2\" class=\"node\">\n",
       "<title>predict</title>\n",
       "<ellipse fill=\"none\" stroke=\"#000000\" cx=\"126.0969\" cy=\"-18\" rx=\"35.194\" ry=\"18\"/>\n",
       "<text text-anchor=\"middle\" x=\"126.0969\" y=\"-14.3\" font-family=\"Times,serif\" font-size=\"14.00\" fill=\"#000000\">predict</text>\n",
       "</g>\n",
       "<!-- init&#45;&gt;predict -->\n",
       "<g id=\"edge1\" class=\"edge\">\n",
       "<title>init&#45;&gt;predict</title>\n",
       "<path fill=\"none\" stroke=\"#000000\" d=\"M54.0787,-18C62.3227,-18 71.6196,-18 80.7269,-18\"/>\n",
       "<polygon fill=\"#000000\" stroke=\"#000000\" points=\"80.8626,-21.5001 90.8626,-18 80.8625,-14.5001 80.8626,-21.5001\"/>\n",
       "</g>\n",
       "<!-- loss -->\n",
       "<g id=\"node3\" class=\"node\">\n",
       "<title>loss</title>\n",
       "<ellipse fill=\"none\" stroke=\"#000000\" cx=\"225.1938\" cy=\"-52\" rx=\"27\" ry=\"18\"/>\n",
       "<text text-anchor=\"middle\" x=\"225.1938\" y=\"-48.3\" font-family=\"Times,serif\" font-size=\"14.00\" fill=\"#000000\">loss</text>\n",
       "</g>\n",
       "<!-- predict&#45;&gt;loss -->\n",
       "<g id=\"edge2\" class=\"edge\">\n",
       "<title>predict&#45;&gt;loss</title>\n",
       "<path fill=\"none\" stroke=\"#000000\" d=\"M155.2932,-28.0172C166.6224,-31.9043 179.6698,-36.3808 191.4018,-40.406\"/>\n",
       "<polygon fill=\"#000000\" stroke=\"#000000\" points=\"190.2859,-43.7234 200.8806,-43.6582 192.5577,-37.1023 190.2859,-43.7234\"/>\n",
       "</g>\n",
       "<!-- gradient -->\n",
       "<g id=\"node4\" class=\"node\">\n",
       "<title>gradient</title>\n",
       "<ellipse fill=\"none\" stroke=\"#000000\" cx=\"361.8403\" cy=\"-52\" rx=\"39.7935\" ry=\"18\"/>\n",
       "<text text-anchor=\"middle\" x=\"361.8403\" y=\"-48.3\" font-family=\"Times,serif\" font-size=\"14.00\" fill=\"#000000\">gradient</text>\n",
       "</g>\n",
       "<!-- loss&#45;&gt;gradient -->\n",
       "<g id=\"edge3\" class=\"edge\">\n",
       "<title>loss&#45;&gt;gradient</title>\n",
       "<path fill=\"none\" stroke=\"#000000\" d=\"M252.5178,-52C269.4967,-52 291.836,-52 311.8929,-52\"/>\n",
       "<polygon fill=\"#000000\" stroke=\"#000000\" points=\"312.1329,-55.5001 322.1329,-52 312.1328,-48.5001 312.1329,-55.5001\"/>\n",
       "</g>\n",
       "<!-- step -->\n",
       "<g id=\"node5\" class=\"node\">\n",
       "<title>step</title>\n",
       "<ellipse fill=\"none\" stroke=\"#000000\" cx=\"465.4867\" cy=\"-18\" rx=\"27\" ry=\"18\"/>\n",
       "<text text-anchor=\"middle\" x=\"465.4867\" y=\"-14.3\" font-family=\"Times,serif\" font-size=\"14.00\" fill=\"#000000\">step</text>\n",
       "</g>\n",
       "<!-- gradient&#45;&gt;step -->\n",
       "<g id=\"edge4\" class=\"edge\">\n",
       "<title>gradient&#45;&gt;step</title>\n",
       "<path fill=\"none\" stroke=\"#000000\" d=\"M394.0665,-41.4286C405.9515,-37.5298 419.4492,-33.1021 431.4862,-29.1535\"/>\n",
       "<polygon fill=\"#000000\" stroke=\"#000000\" points=\"432.7754,-32.4142 441.1862,-25.9715 430.5935,-25.7629 432.7754,-32.4142\"/>\n",
       "</g>\n",
       "<!-- step&#45;&gt;predict -->\n",
       "<g id=\"edge6\" class=\"edge\">\n",
       "<title>step&#45;&gt;predict</title>\n",
       "<path fill=\"none\" stroke=\"#000000\" d=\"M438.4132,-18C380.3272,-18 243.2155,-18 171.5401,-18\"/>\n",
       "<polygon fill=\"#000000\" stroke=\"#000000\" points=\"171.4571,-14.5001 161.4571,-18 171.4571,-21.5001 171.4571,-14.5001\"/>\n",
       "<text text-anchor=\"middle\" x=\"287.1938\" y=\"-21.8\" font-family=\"Times,serif\" font-size=\"14.00\" fill=\"#000000\">repeat</text>\n",
       "</g>\n",
       "<!-- stop -->\n",
       "<g id=\"node6\" class=\"node\">\n",
       "<title>stop</title>\n",
       "<ellipse fill=\"none\" stroke=\"#000000\" cx=\"556.4867\" cy=\"-18\" rx=\"27\" ry=\"18\"/>\n",
       "<text text-anchor=\"middle\" x=\"556.4867\" y=\"-14.3\" font-family=\"Times,serif\" font-size=\"14.00\" fill=\"#000000\">stop</text>\n",
       "</g>\n",
       "<!-- step&#45;&gt;stop -->\n",
       "<g id=\"edge5\" class=\"edge\">\n",
       "<title>step&#45;&gt;stop</title>\n",
       "<path fill=\"none\" stroke=\"#000000\" d=\"M492.7897,-18C501.068,-18 510.3085,-18 519.1272,-18\"/>\n",
       "<polygon fill=\"#000000\" stroke=\"#000000\" points=\"519.203,-21.5001 529.203,-18 519.203,-14.5001 519.203,-21.5001\"/>\n",
       "</g>\n",
       "</g>\n",
       "</svg>\n"
      ],
      "text/plain": [
       "<graphviz.sources.Source at 0x7efda0128810>"
      ]
     },
     "execution_count": 182,
     "metadata": {},
     "output_type": "execute_result"
    }
   ],
   "source": [
    "gv('''\n",
    "init->predict->loss->gradient->step->stop\n",
    "step->predict[label=repeat]\n",
    "''')"
   ]
  },
  {
   "cell_type": "code",
   "execution_count": null,
   "metadata": {},
   "outputs": [],
   "source": []
  },
  {
   "cell_type": "markdown",
   "metadata": {},
   "source": [
    "## The MNIST Loss Function"
   ]
  },
  {
   "cell_type": "code",
   "execution_count": null,
   "metadata": {},
   "outputs": [],
   "source": [
    "# We concatenate all our independent variables x/images into 1 single tensor\n",
    "# and change them from a list of matrices (a Rank-3 tensor) to a list of vectors (a Rank-2).\n",
    "#     Do this via .VIEW()\n",
    "#     which changes the shape fo a tensor w/o changing its contents\n",
    "#    .view() args tell it how large u want the dimensions to be\n",
    "#     param -1 means \"make this axis as big as necessary to fit all the data\"\n"
   ]
  },
  {
   "cell_type": "code",
   "execution_count": 29,
   "metadata": {},
   "outputs": [
    {
     "data": {
      "text/plain": [
       "torch.Size([12396, 784])"
      ]
     },
     "execution_count": 29,
     "metadata": {},
     "output_type": "execute_result"
    }
   ],
   "source": [
    "# OK don't really understand this torch.cat() thing... \n",
    "  # I guess we just line up all the images of 3s followed by all the images of 7s\n",
    "\n",
    "train_x = torch.cat([stacked_threes, stacked_sevens]).view(-1, 28*28)\n",
    "train_x.shape\n",
    "\n",
    "# Here we reshaped it into a matrix where each row is 1 image w/ all the rows & cols of image as a single vector\n",
    "# we have 12396 images total\n"
   ]
  },
  {
   "cell_type": "code",
   "execution_count": 41,
   "metadata": {},
   "outputs": [
    {
     "name": "stdout",
     "output_type": "stream",
     "text": [
      "tensor([1, 1, 1,  ..., 0, 0, 0])\n",
      "torch.Size([12396])\n",
      "what is train_y[0]? tensor([1]) \n",
      "\t<-- label of first image in train_x, which is a 3, therefore true/1\n",
      "what is train_y[-1]? tensor([0]) \n",
      "\t<-- label of last image in train_x, which is a 7, therefore false/0\n"
     ]
    },
    {
     "data": {
      "text/plain": [
       "torch.Size([12396, 1])"
      ]
     },
     "execution_count": 41,
     "metadata": {},
     "output_type": "execute_result"
    }
   ],
   "source": [
    "# Need y labels for each image x.  \n",
    "# Use '1' for Threes and '0' for Sevens\n",
    "    # bc our model is \"is_3\"\n",
    "\n",
    "train_y_just_labels = tensor([1]*len(threes) + [0]*len(sevens))\n",
    "print(train_y_just_labels)\n",
    "print(train_y_just_labels.shape)\n",
    "\n",
    "train_y = train_y_just_labels.unsqueeze(1)\n",
    "    # train_y_just_labels here is a vector,\n",
    "      # but we want a matrix of same shape as train_x so we pad it out w/ another column\n",
    "    # wassup w/ .unsqueeze()?\n",
    "    # without unsqueeze we'll get train_y.shape = torch.size([12396])\n",
    "    # if unsqueeze(0) then we get torch.Size([1, 12396])\n",
    "    # if unsqueeze(-1) then we get torch.Size([12396, 1])\n",
    "    # so I guess.... unsqueeze(indexWhereYouWantPadded)?\n",
    "\n",
    "print(f\"what is train_y[0]? {train_y[0]} \\n\\t<-- label of first image in train_x, which is a 3, therefore true/1\")\n",
    "print(f\"what is train_y[-1]? {train_y[-1]} \\n\\t<-- label of last image in train_x, which is a 7, therefore false/0\")\n",
    "    \n",
    "train_y.shape\n",
    "# we have 12396 labels total, and an extra column in train_y matrix so train_x and train_y match shapes\n",
    "\n",
    "\n",
    "# now these train_x & train_y are Rank2 tensors"
   ]
  },
  {
   "cell_type": "code",
   "execution_count": null,
   "metadata": {},
   "outputs": [],
   "source": [
    "# OK... so I'm guessing...\n",
    "#     train_x is all the x/images \n",
    "#     train_y is all the y/real labels \n",
    "#     And together each x correspond to each y, and that's what's going on w/ this zip, it pairs them up\n",
    "#     now we got all these (x,y) points\n",
    "#     we plot this xy graph\n",
    "# OUR MODEL needs to have the correct weights to correctly describe this xy graph,\n",
    "#     so that when we test it with some other new x, it can return the predicted y\n",
    "#         and if y close to 1 then we know we're looking at a Three\n",
    "#         if y close to 0 then we're looking at a Seven"
   ]
  },
  {
   "cell_type": "code",
   "execution_count": 43,
   "metadata": {},
   "outputs": [
    {
     "data": {
      "text/plain": [
       "(torch.Size([784]), torch.Size([1]), tensor([1]))"
      ]
     },
     "execution_count": 43,
     "metadata": {},
     "output_type": "execute_result"
    }
   ],
   "source": [
    "# a DATASET in PyTorch is req'd to return a tuple of (x,y) when indexed\n",
    "    # ok idk what's up with x.shape = 28*28 = 784, \n",
    "        # guess it's the white/black saturation level at each pixel\n",
    "    # y.shape is [1] bc it's just the label 0/F or 1/T for whether that image is a Three\n",
    "\n",
    "dset = list(zip(train_x,train_y))\n",
    "x,y = dset[0]\n",
    "x.shape,y.shape,y"
   ]
  },
  {
   "cell_type": "code",
   "execution_count": 38,
   "metadata": {
    "collapsed": true,
    "jupyter": {
     "outputs_hidden": true
    },
    "tags": []
   },
   "outputs": [
    {
     "name": "stdout",
     "output_type": "stream",
     "text": [
      "(tensor(1), tensor(7))\n",
      "x = 1\n",
      "y = 7\n",
      "torch.Size([]) torch.Size([])\n",
      "\n",
      "(tensor([1]), tensor([7]))\n",
      "x = tensor([1])\n",
      "y = tensor([7])\n",
      "torch.Size([1]) torch.Size([1])\n",
      "\n",
      "(tensor([ 1, 11]), tensor([ 7, 77]))\n",
      "xx = tensor([ 1, 11])\n",
      "yy = tensor([ 7, 77])\n"
     ]
    },
    {
     "data": {
      "text/plain": [
       "(torch.Size([2]), torch.Size([2]))"
      ]
     },
     "execution_count": 38,
     "metadata": {},
     "output_type": "execute_result"
    }
   ],
   "source": [
    "# just trying ot visualize what's going on\n",
    "x = [tensor(1),tensor(2),tensor(3)]\n",
    "y = [tensor(7),tensor(8),tensor(9)]\n",
    "fake_dataset = list(zip(x,y))\n",
    "x,y = fake_dataset[0]\n",
    "print(fake_dataset[0])\n",
    "print(f\"x = {x}\\ny = {y}\")\n",
    "print(x.shape, y.shape)\n",
    "print()\n",
    "x = [tensor([1]),tensor([2]),tensor([3])]\n",
    "y = [tensor([7]),tensor([8]),tensor([9])]\n",
    "fake_dataset = list(zip(x,y))\n",
    "x,y = fake_dataset[0]\n",
    "print(fake_dataset[0])\n",
    "print(f\"x = {x}\\ny = {y}\")\n",
    "print(x.shape, y.shape)\n",
    "print()\n",
    "xx = [tensor([1,11]),tensor([2,22]),tensor([3,33])]\n",
    "yy = [tensor([7,77]),tensor([8,88]),tensor([9,99])]\n",
    "fake_dataset = list(zip(xx,yy))\n",
    "xx,yy = fake_dataset[0]\n",
    "print(fake_dataset[0])\n",
    "print(f\"xx = {xx}\\nyy = {yy}\")\n",
    "xx.shape, yy.shape\n"
   ]
  },
  {
   "cell_type": "code",
   "execution_count": 45,
   "metadata": {},
   "outputs": [],
   "source": [
    "# make a DATASET for the validation set too\n",
    "    # after we train the model and get the weights we like,\n",
    "    # run each of these validation dataset values thru the model\n",
    "    # and see if the predictions match the answer key\n",
    "valid_x = torch.cat([valid_3_tens, valid_7_tens]).view(-1, 28*28)\n",
    "valid_y = tensor([1]*len(valid_3_tens) + [0]*len(valid_7_tens)).unsqueeze(1)\n",
    "valid_dset = list(zip(valid_x,valid_y))"
   ]
  },
  {
   "cell_type": "code",
   "execution_count": null,
   "metadata": {},
   "outputs": [],
   "source": [
    "    ########## STEPS: ##########\n",
    "    1. Initialize the weights\n",
    "            usu random\n",
    "    2. For each img, use these weights to PREDICT whether it's a 3 or 7\n",
    "    3. Based on these predictions, calc LOSS (how good the model is)\n",
    "            loss fcn returns small number if model is good, large number if bad\n",
    "    4. Calc he GRADIENT, which measures for each weight, how changing that weight can change loss\n",
    "    5. STEP (change) all the weights based on that calc\n",
    "            incr or decr a bit, in the direction of low loss.\n",
    "            can be slow if we do baby steps, but with GRADIENT calc we can take bigger steps.\n",
    "    6. Go back to step 2, repeat.\n",
    "    7. Iter til u stop the training process (once it's good enough or used up all epochs)"
   ]
  },
  {
   "cell_type": "code",
   "execution_count": 46,
   "metadata": {},
   "outputs": [],
   "source": [
    "### STEP 1 ### initialize random weights\n",
    "    # IDU wassup w/ the std here, i guess the size is how many diff pixels that's in each x/image\n",
    "def init_params(size, std=1.0): return (torch.randn(size)*std).requires_grad_()\n",
    "\n",
    "# requires_grad_() <-- the underscore at the end changes the tensor it's attached to"
   ]
  },
  {
   "cell_type": "code",
   "execution_count": 58,
   "metadata": {
    "tags": []
   },
   "outputs": [
    {
     "data": {
      "text/plain": [
       "torch.Size([784, 1])"
      ]
     },
     "execution_count": 58,
     "metadata": {},
     "output_type": "execute_result"
    }
   ],
   "source": [
    "weights = init_params((28*28,1))\n",
    "weights.shape"
   ]
  },
  {
   "cell_type": "code",
   "execution_count": 53,
   "metadata": {
    "tags": []
   },
   "outputs": [
    {
     "data": {
      "text/plain": [
       "tensor([0.9214], requires_grad=True)"
      ]
     },
     "execution_count": 53,
     "metadata": {},
     "output_type": "execute_result"
    }
   ],
   "source": [
    "# IDU... but apparently...\n",
    "# The function weights*pixels won't be flexible enough—it is always equal to 0 when the pixels are equal to 0 (i.e., its intercept is 0).\n",
    "# so initiialize it to a random number too\n",
    "\n",
    "bias = init_params(1)\n",
    "bias\n"
   ]
  },
  {
   "cell_type": "code",
   "execution_count": 56,
   "metadata": {},
   "outputs": [
    {
     "data": {
      "text/plain": [
       "tensor([-15.0444], grad_fn=<AddBackward0>)"
      ]
     },
     "execution_count": 56,
     "metadata": {},
     "output_type": "execute_result"
    }
   ],
   "source": [
    "# y = w(x) + b\n",
    "    # w = weights\n",
    "    # b = y-intercept, aka BIAS\n",
    "    # x = image, independent variable\n",
    "    # y = prediction, dependent variable\n",
    "    # together, the weights w & bias b make up the PARAMETERS\n",
    "\n",
    "# So the prediction for 1 image is...\n",
    "(train_x[0]*weights.T).sum() + bias"
   ]
  },
  {
   "cell_type": "code",
   "execution_count": 85,
   "metadata": {},
   "outputs": [],
   "source": [
    "# REMEMBER that we do NOT want to run python loops bc slow!\n",
    "# w*x for every row is done via MATRIX MULTIPLICATION <-- which is @ in python\n",
    "    # vaguely remember from undergrad, not gonna bother \n",
    "    # https://www.youtube.com/watch?v=kT4Mp9EdVqs"
   ]
  },
  {
   "cell_type": "code",
   "execution_count": 59,
   "metadata": {},
   "outputs": [
    {
     "data": {
      "text/plain": [
       "tensor([[ 2.5882],\n",
       "        [-2.1473],\n",
       "        [ 1.8853],\n",
       "        ...,\n",
       "        [-4.5317],\n",
       "        [ 1.4997],\n",
       "        [ 4.5954]], grad_fn=<AddBackward0>)"
      ]
     },
     "execution_count": 59,
     "metadata": {},
     "output_type": "execute_result"
    }
   ],
   "source": [
    "### SUPER IMPORTANT EQUATION ... batch@weights + bias ###\n",
    "    # the other one is the activation fcn, cov'd later\n",
    "\n",
    "def linear1(xb): return xb@weights + bias\n",
    "    # guess fcn is named this bc y=mx+b is linear\n",
    "    # but without plotting out the xy graph, how would we know if it isn't quadratic or somethign more?\n",
    "\n",
    "# Run our training dataset (train_x) thru this prediction model (linear1), using our curr initial weights\n",
    "preds = linear1(train_x)\n",
    "preds"
   ]
  },
  {
   "cell_type": "code",
   "execution_count": 60,
   "metadata": {},
   "outputs": [
    {
     "data": {
      "text/plain": [
       "tensor([[ True],\n",
       "        [False],\n",
       "        [ True],\n",
       "        ...,\n",
       "        [ True],\n",
       "        [False],\n",
       "        [False]])"
      ]
     },
     "execution_count": 60,
     "metadata": {},
     "output_type": "execute_result"
    }
   ],
   "source": [
    "# Let's check our ACCURACY. \n",
    "    # To decide if an output represents a 3 or a 7,\n",
    "    # we define 0 as the cutoff, if >0 then we're looking at a 3, \n",
    "    # so our accuracy for each item can be calculated (using broadcasting, so no loops!) \n",
    "corrects = (preds>0.0).float() == train_y\n",
    "corrects"
   ]
  },
  {
   "cell_type": "code",
   "execution_count": 64,
   "metadata": {},
   "outputs": [
    {
     "name": "stdout",
     "output_type": "stream",
     "text": [
      "tensor(0.6317)\n",
      "0.6317360401153564\n"
     ]
    }
   ],
   "source": [
    "# turn those T/F into 1/0s via float() and average it\n",
    "as_a_tensor = corrects.float().mean()\n",
    "as_a_scalar = corrects.float().mean().item()\n",
    "print(as_a_tensor)\n",
    "print(as_a_scalar)\n",
    "\n",
    "# since the linear1() predictive model ran with the weights being the initialized random numbers,\n",
    "# we can't expect the accuracy to be all that great.\n",
    "# But with each iteration/epoch where we change the weights towards a lower loss, \n",
    "# we should see this accuracy increase!"
   ]
  },
  {
   "cell_type": "code",
   "execution_count": 62,
   "metadata": {
    "collapsed": true,
    "jupyter": {
     "outputs_hidden": true
    },
    "tags": []
   },
   "outputs": [
    {
     "ename": "RuntimeError",
     "evalue": "a view of a leaf Variable that requires grad is being used in an in-place operation.",
     "output_type": "error",
     "traceback": [
      "\u001b[0;31m---------------------------------------------------------------------------\u001b[0m",
      "\u001b[0;31mRuntimeError\u001b[0m                              Traceback (most recent call last)",
      "\u001b[0;32m/tmp/ipykernel_9076/1354969681.py\u001b[0m in \u001b[0;36m<module>\u001b[0;34m\u001b[0m\n\u001b[1;32m      4\u001b[0m \u001b[0;31m### I DIDN'T DO NOTHING!!!! WHYYYYYYY!!!!\u001b[0m\u001b[0;34m\u001b[0m\u001b[0;34m\u001b[0m\u001b[0;34m\u001b[0m\u001b[0m\n\u001b[1;32m      5\u001b[0m \u001b[0;31m# UGH!!! RuntimeError: a view of a leaf Variable that requires grad is being used in an in-place operation.\u001b[0m\u001b[0;34m\u001b[0m\u001b[0;34m\u001b[0m\u001b[0;34m\u001b[0m\u001b[0m\n\u001b[0;32m----> 6\u001b[0;31m \u001b[0mweights\u001b[0m\u001b[0;34m[\u001b[0m\u001b[0;36m0\u001b[0m\u001b[0;34m]\u001b[0m \u001b[0;34m*=\u001b[0m \u001b[0;36m1.0001\u001b[0m\u001b[0;34m\u001b[0m\u001b[0;34m\u001b[0m\u001b[0m\n\u001b[0m",
      "\u001b[0;31mRuntimeError\u001b[0m: a view of a leaf Variable that requires grad is being used in an in-place operation."
     ]
    }
   ],
   "source": [
    "# ok i have no idea why we decided on a positive change instead of neg\n",
    "    # thought we're supposed to try both ways...\n",
    "\n",
    "### I DIDN'T DO NOTHING!!!! WHYYYYYYY!!!!\n",
    "# UGH!!! RuntimeError: a view of a leaf Variable that requires grad is being used in an in-place operation.\n",
    "weights[0] *= 1.0001"
   ]
  },
  {
   "cell_type": "code",
   "execution_count": 68,
   "metadata": {},
   "outputs": [
    {
     "data": {
      "text/plain": [
       "0.6317360401153564"
      ]
     },
     "execution_count": 68,
     "metadata": {},
     "output_type": "execute_result"
    }
   ],
   "source": [
    "# PRETEND that we successfully changed weights[0]\n",
    "# we run the training dataset thru the prediction model again, this time the weights changed\n",
    "# get new predictions\n",
    "preds = linear1(train_x)\n",
    "\n",
    "# Are these new predictions any better? \n",
    "    # bc the prev cell had RuntimeError, we'll get the same results bc we couldn't chg the weights\n",
    "    # u know what? if this is a continuous equation that we're trying to approx, then we should see an improvement\n",
    "    # BUT since this is a discrete bucket/categorization thing, y label is either 1 or 0.\n",
    "        # So any little changes in x is unlikely to change y\n",
    "        # So y_new - y_old is almost always 0 in this case\n",
    "        # and since slope = (deltaY)/(deltaX) = 0... gradient is 0 almost everywhere\n",
    "        # so even if we did successfully change the weights[0] by 0.1% above, we'll prob gett he same preds here anyway\n",
    "((preds>0.0).float() == train_y).float().mean().item()\n",
    "\n",
    "# ACCURACY is a fcn that is constant almost everywhere (except at the threshold), \n",
    "# so its derivative is nil almost everywhere (and infinity at threshold)\n",
    "# This then gives gradients that are 0 or infinite, whih are USELESS for updating the model\n"
   ]
  },
  {
   "cell_type": "code",
   "execution_count": null,
   "metadata": {},
   "outputs": [],
   "source": [
    "# Since ACCURACY is not practical here, we need a better loss fcn,\n",
    "# where tweaks in weights will result in different predictions.\n",
    "\n",
    "# NOW let's write a better loss fcn\n",
    "# the loss fcn reeives predictions from th emodel\n",
    "# let's say we have \"prds\" below, a Rank-1 tensor, of predictions on the 3-ness of some imgs\n",
    "# loss fcn meases the diff between the predicted values vs true/label/answerKey/target values\n",
    "# let's say \"trgts\" is that answer key, where it tells us the imgs are true,false,true on their 3-ness\n",
    "# the loss fcn will compare prds against trgts"
   ]
  },
  {
   "cell_type": "code",
   "execution_count": 73,
   "metadata": {},
   "outputs": [],
   "source": [
    "trgts  = tensor([1,0,1])\n",
    "prds   = tensor([0.9, 0.4, 0.2])"
   ]
  },
  {
   "cell_type": "code",
   "execution_count": 74,
   "metadata": {},
   "outputs": [],
   "source": [
    "def mnist_loss(predictions, targets):\n",
    "    return torch.where(targets==1, 1-predictions, predictions).mean()\n",
    "\n",
    "# torch.where(a,b,c)\n",
    "# this is the same as running... [b[i] if a[i] else c[i] for i in range(len(a))]\n",
    "# basically... for each element in targets, if a is true do b else do c\n",
    "\n",
    "# NOTE, mnist_loss as defined assumes the predcitions is always between 0 and 1\n",
    "# so need to make sure that this is true! (spoiler alert: sigmoid fcn below)"
   ]
  },
  {
   "cell_type": "code",
   "execution_count": 77,
   "metadata": {},
   "outputs": [
    {
     "data": {
      "text/plain": [
       "tensor([0.1000, 0.4000, 0.8000])"
      ]
     },
     "execution_count": 77,
     "metadata": {},
     "output_type": "execute_result"
    }
   ],
   "source": [
    "# these are the resulting tensors based on the torch.where condition\n",
    "torch.where(trgts==1, 1-prds, prds)"
   ]
  },
  {
   "cell_type": "code",
   "execution_count": 76,
   "metadata": {},
   "outputs": [
    {
     "data": {
      "text/plain": [
       "tensor(0.4333)"
      ]
     },
     "execution_count": 76,
     "metadata": {},
     "output_type": "execute_result"
    }
   ],
   "source": [
    "# this is the loss for prds when compared to trgts\n",
    "mnist_loss(prds,trgts)"
   ]
  },
  {
   "cell_type": "code",
   "execution_count": 79,
   "metadata": {},
   "outputs": [
    {
     "data": {
      "text/plain": [
       "tensor(0.2333)"
      ]
     },
     "execution_count": 79,
     "metadata": {},
     "output_type": "execute_result"
    }
   ],
   "source": [
    "# now try a better set of prds, where the 3rd pred is much closer, we get a lower loss :-D\n",
    "mnist_loss(tensor([0.9, 0.4, 0.8]),trgts)"
   ]
  },
  {
   "cell_type": "markdown",
   "metadata": {},
   "source": [
    "### Sigmoid"
   ]
  },
  {
   "cell_type": "code",
   "execution_count": 80,
   "metadata": {},
   "outputs": [],
   "source": [
    "# Sigmoid always outputs a number between 0 and 1\n",
    "\n",
    "def sigmoid(x): return 1/(1+torch.exp(-x))"
   ]
  },
  {
   "cell_type": "code",
   "execution_count": 81,
   "metadata": {
    "collapsed": true,
    "jupyter": {
     "outputs_hidden": true
    },
    "tags": []
   },
   "outputs": [
    {
     "data": {
      "image/png": "[encoded data removed]",
      "text/plain": [
       "<Figure size 432x288 with 1 Axes>"
      ]
     },
     "metadata": {
      "needs_background": "light"
     },
     "output_type": "display_data"
    }
   ],
   "source": [
    "plot_function(torch.sigmoid, title='Sigmoid', min=-4, max=4)\n"
   ]
  },
  {
   "cell_type": "code",
   "execution_count": 83,
   "metadata": {},
   "outputs": [],
   "source": [
    "def mnist_loss(predictions, targets):\n",
    "    # this below forces the predictions beween 0 and 1 so it plays nice with torch.where(a,b,c)\n",
    "    predictions = predictions.sigmoid()\n",
    "    return torch.where(targets==1, 1-predictions, predictions).mean()"
   ]
  },
  {
   "cell_type": "code",
   "execution_count": null,
   "metadata": {},
   "outputs": [],
   "source": [
    "# metric is for human understanding\n",
    "# loss is to drive automated learning\n",
    "#     For that to work, the loss must be a fcn w/ a meaningful deriv\n",
    "#     it can't have big flat sections and large jumps,\n",
    "        # this is what happened when we looked at ACCURACY earlier of just true/false preds\n",
    "#     but instead must be reasonably smooth\n",
    "    \n",
    "# the loss fcn is calc'd for each item in our dataset\n",
    "# then at the end of an epoch, the loss values are all averaged and reported\n",
    "\n",
    "# Metrics are what we really care about, so focus on these instead of loss when judging the perf of a model"
   ]
  },
  {
   "cell_type": "markdown",
   "metadata": {},
   "source": [
    "### SGD and Mini-Batches"
   ]
  },
  {
   "cell_type": "code",
   "execution_count": null,
   "metadata": {},
   "outputs": [],
   "source": [
    "# OPTIMIZATION STEP\n",
    "# now we want to tweak the weights based on loss fcn values, until we get the best model\n",
    "# But how...?\n",
    "# Do we want to calc loss for the entire dataset?  <- not enough time/$\n",
    "# or just a single piece?  <- not good enough\n",
    "# or a subset/miniBatch?  <- yes!\n",
    "\n",
    "# ok, how to choose batch size?\n",
    "# also, we shuffle the batches on each subseq step, instead of recycling the same set.\n",
    "# PyTorch & fastAI provides a class called \"DataLoader\" \n",
    "# ... to do the shuffling & mini-batch collation for us\n"
   ]
  },
  {
   "cell_type": "code",
   "execution_count": 92,
   "metadata": {
    "collapsed": true,
    "jupyter": {
     "outputs_hidden": true
    },
    "tags": []
   },
   "outputs": [
    {
     "data": {
      "text/plain": [
       "[tensor([10, 12,  9, 14,  2]),\n",
       " tensor([ 3,  4,  6, 13,  7]),\n",
       " tensor([ 8, 11,  0,  5,  1])]"
      ]
     },
     "execution_count": 92,
     "metadata": {},
     "output_type": "execute_result"
    }
   ],
   "source": [
    "# a DataLoader takes any python collection and turns it into an iterator over many batches:\n",
    "\n",
    "coll = range(15)\n",
    "dl = DataLoader(coll, batch_size=5, shuffle=True)\n",
    "list(dl)\n",
    "# see the ints 0 to 14 are made into batches where there's 5 members each"
   ]
  },
  {
   "cell_type": "code",
   "execution_count": 93,
   "metadata": {},
   "outputs": [
    {
     "data": {
      "text/plain": [
       "(#26) [(0, 'a'),(1, 'b'),(2, 'c'),(3, 'd'),(4, 'e'),(5, 'f'),(6, 'g'),(7, 'h'),(8, 'i'),(9, 'j')...]"
      ]
     },
     "execution_count": 93,
     "metadata": {},
     "output_type": "execute_result"
    }
   ],
   "source": [
    "# For training a model, we don't want any python collection,\n",
    "# we want a collection containing both indie & depend vars... we want a dataset!\n",
    "# so we use pyTorch's Dataset!\n",
    "ds = L(enumerate(string.ascii_lowercase))\n",
    "ds"
   ]
  },
  {
   "cell_type": "code",
   "execution_count": 94,
   "metadata": {},
   "outputs": [
    {
     "data": {
      "text/plain": [
       "[(tensor([ 5,  9,  8, 15,  4, 24]), ('f', 'j', 'i', 'p', 'e', 'y')),\n",
       " (tensor([ 0, 18, 12, 10,  6, 20]), ('a', 's', 'm', 'k', 'g', 'u')),\n",
       " (tensor([17, 16, 23, 13,  3, 14]), ('r', 'q', 'x', 'n', 'd', 'o')),\n",
       " (tensor([21, 22,  7, 19,  1,  2]), ('v', 'w', 'h', 't', 'b', 'c')),\n",
       " (tensor([11, 25]), ('l', 'z'))]"
      ]
     },
     "execution_count": 94,
     "metadata": {},
     "output_type": "execute_result"
    }
   ],
   "source": [
    "dl = DataLoader(ds, batch_size=6, shuffle=True)\n",
    "list(dl)"
   ]
  },
  {
   "cell_type": "markdown",
   "metadata": {},
   "source": [
    "## Putting It All Together"
   ]
  },
  {
   "cell_type": "code",
   "execution_count": null,
   "metadata": {},
   "outputs": [],
   "source": [
    "##### For each epoch/passthrough, we basically want to do this #####\n",
    "for x, y in dl:\n",
    "    pred = model(x)\n",
    "    loss = loss_func(pred, y)\n",
    "    loss.backward()\n",
    "    parameters -= parameters.grad * lr\n",
    "    \n",
    "    \n",
    "# Example: As seen previously...\n",
    "def apply_step(params, lr=1e-5, prn=True):\n",
    "    # Make prediction w/ given params\n",
    "    preds = f(time, params)\n",
    "    # Calc loss fcn value from prediction\n",
    "    loss = mse(preds, speed)\n",
    "    # Calc GRADIENT on that loss fcn value\n",
    "    loss.backward()\n",
    "    # We could show params.grad and see how our slope/deriv is hopefully flatter now, but not gonna bother\n",
    "    # Adjust per Learning Rate\n",
    "    params.data -= lr * params.grad.data\n",
    "    # Wipe params.grad for next gradient calc\n",
    "    params.grad = None\n",
    "    if prn: \n",
    "        print(loss.item())\n",
    "        # show_preds(preds)  # graphs might not look all that diff from each other bc LR is so small\n",
    "    return preds"
   ]
  },
  {
   "cell_type": "code",
   "execution_count": 96,
   "metadata": {},
   "outputs": [],
   "source": [
    "# First, reinitialize our params\n",
    "weights = init_params((28*28,1))\n",
    "bias = init_params(1)"
   ]
  },
  {
   "cell_type": "code",
   "execution_count": 101,
   "metadata": {},
   "outputs": [
    {
     "name": "stdout",
     "output_type": "stream",
     "text": [
      "dataset size = 12396 training images\n"
     ]
    },
    {
     "data": {
      "text/plain": [
       "(torch.Size([256, 784]), torch.Size([256, 1]))"
      ]
     },
     "execution_count": 101,
     "metadata": {},
     "output_type": "execute_result"
    }
   ],
   "source": [
    "# Then create a DataLoader from a Dataset:\n",
    "# remember earlier we made a dset of 12396 of training images of 3s followed by 7s, plus their 1/0 labels for 3-ness\n",
    "print(f\"dataset size = {len(dset)} training images\")\n",
    "\n",
    "dl = DataLoader(dset, batch_size=256)\n",
    "xb,yb = first(dl)\n",
    "xb.shape,yb.shape"
   ]
  },
  {
   "cell_type": "code",
   "execution_count": 102,
   "metadata": {},
   "outputs": [],
   "source": [
    "# Also create a DataLoader from the validation Dataset\n",
    "valid_dl = DataLoader(valid_dset, batch_size=256)"
   ]
  },
  {
   "cell_type": "code",
   "execution_count": 173,
   "metadata": {},
   "outputs": [
    {
     "data": {
      "text/plain": [
       "torch.Size([4, 784])"
      ]
     },
     "execution_count": 173,
     "metadata": {},
     "output_type": "execute_result"
    }
   ],
   "source": [
    "# create a mini-batch of our training imgs\n",
    "batch = train_x[:4]\n",
    "batch.shape"
   ]
  },
  {
   "cell_type": "code",
   "execution_count": 151,
   "metadata": {
    "tags": []
   },
   "outputs": [
    {
     "data": {
      "text/plain": [
       "tensor([[ 7.0977],\n",
       "        [14.7238],\n",
       "        [ 4.7524],\n",
       "        [ 0.9658]], grad_fn=<AddBackward0>)"
      ]
     },
     "execution_count": 151,
     "metadata": {},
     "output_type": "execute_result"
    }
   ],
   "source": [
    "# part 1: make preds\n",
    "preds = linear1(batch)\n",
    "preds"
   ]
  },
  {
   "cell_type": "code",
   "execution_count": 152,
   "metadata": {
    "tags": []
   },
   "outputs": [
    {
     "data": {
      "text/plain": [
       "tensor(0.0713, grad_fn=<MeanBackward0>)"
      ]
     },
     "execution_count": 152,
     "metadata": {},
     "output_type": "execute_result"
    }
   ],
   "source": [
    "# part 2: calc loss\n",
    "loss = mnist_loss(preds, train_y[:4])\n",
    "loss"
   ]
  },
  {
   "cell_type": "code",
   "execution_count": 153,
   "metadata": {
    "tags": []
   },
   "outputs": [
    {
     "data": {
      "text/plain": [
       "(torch.Size([784, 1]), tensor(-0.0638), tensor([-0.3658]))"
      ]
     },
     "execution_count": 153,
     "metadata": {},
     "output_type": "execute_result"
    }
   ],
   "source": [
    "# part 3: calc gradient\n",
    "loss.backward()\n",
    "# weights have changed\n",
    "weights.grad.shape,weights.grad.mean(),bias.grad"
   ]
  },
  {
   "cell_type": "code",
   "execution_count": 174,
   "metadata": {},
   "outputs": [],
   "source": [
    "# put all 3 parts into 1 fcn\n",
    "def calc_grad(xb, yb, model):\n",
    "    preds = model(xb)\n",
    "    loss = mnist_loss(preds, yb)\n",
    "    loss.backward()"
   ]
  },
  {
   "cell_type": "code",
   "execution_count": 154,
   "metadata": {},
   "outputs": [
    {
     "name": "stdout",
     "output_type": "stream",
     "text": [
      "weights.grad.mean = -0.07291088998317719\n",
      "\tbias.grad = tensor([-0.4180])\n",
      "\n",
      "run again...\n",
      "weights.grad.mean = -0.08202475309371948\n",
      "\tbias.grad = tensor([-0.4703])\n"
     ]
    }
   ],
   "source": [
    "# run calc_grad() on our mini batch\n",
    "calc_grad(batch, train_y[:4], linear1)\n",
    "print(f\"weights.grad.mean = {weights.grad.mean()}\\n\\tbias.grad = {bias.grad}\")\n",
    "\n",
    "print(f\"\\nrun again... didn't do another step, so i should get the same gradients for weight & bias, right?\")\n",
    "calc_grad(batch, train_y[:4], linear1)\n",
    "print(f\"weights.grad.mean = {weights.grad.mean()}\\n\\tbias.grad = {bias.grad}\")\n",
    "print(\"NOPE!  but that's bc loss.backward() adds onto whatever grads that are curr stored, and we didn't RESET gradients between steps -_-\")\n",
    "\n",
    "### NO NO NO!\n",
    "# gradients have changed! Bc loss.backward() ADDS the gradients of loss to any grads taht are curr stored.\n",
    "# So we NEED TO RESET curr gradients for our params (weights & bias) to 0 between steps!!!!!"
   ]
  },
  {
   "cell_type": "code",
   "execution_count": 175,
   "metadata": {},
   "outputs": [],
   "source": [
    "# REMEMBER TO RESET gradients for weights & bias!!! beween steps!!!\n",
    "weights.grad.zero_()\n",
    "bias.grad.zero_();"
   ]
  },
  {
   "cell_type": "code",
   "execution_count": 176,
   "metadata": {},
   "outputs": [],
   "source": [
    "def train_epoch(model, lr, params):\n",
    "    for xb,yb in dl:\n",
    "        calc_grad(xb, yb, model)\n",
    "        for p in params:\n",
    "            p.data -= p.grad*lr\n",
    "            p.grad.zero_()\n",
    "            \n",
    "# this is the same as what we saw in apply_step() previously!\n",
    "# where after we calc'd the grad w/ backward(), \n",
    "#   for weight & bias in \"params\", \n",
    "#   we adjusted the data w/ LearningRate\n",
    "#   and also wiped prev gradient clean\n",
    "\n",
    "\n",
    "# Stochastic Gradient Descent VS Gradient Descent\n",
    "# regular GD doesn't have the \"for xb,yb in dl:\" loop, \n",
    "    # it just applies the step changes to the whole dataset\n",
    "# SGD applies the steps to the dl batches\n",
    "    # this is the shuffling & applying steps to mini batches that's mentioned under \"SGD and Mini Batches\"!!"
   ]
  },
  {
   "cell_type": "code",
   "execution_count": 155,
   "metadata": {},
   "outputs": [
    {
     "data": {
      "text/plain": [
       "tensor([[True],\n",
       "        [True],\n",
       "        [True],\n",
       "        [True]])"
      ]
     },
     "execution_count": 155,
     "metadata": {},
     "output_type": "execute_result"
    }
   ],
   "source": [
    "# Look at ACCURACY\n",
    "(preds>0.0).float() == train_y[:4]"
   ]
  },
  {
   "cell_type": "code",
   "execution_count": 177,
   "metadata": {},
   "outputs": [],
   "source": [
    "def batch_accuracy(xb_preds, yb):\n",
    "    preds = xb_preds.sigmoid()\n",
    "    correct = (preds>0.5) == yb\n",
    "    return correct.float().mean()"
   ]
  },
  {
   "cell_type": "code",
   "execution_count": 159,
   "metadata": {},
   "outputs": [
    {
     "data": {
      "text/plain": [
       "tensor(1.)"
      ]
     },
     "execution_count": 159,
     "metadata": {},
     "output_type": "execute_result"
    }
   ],
   "source": [
    "batch_accuracy(linear1(batch), train_y[:4])"
   ]
  },
  {
   "cell_type": "code",
   "execution_count": 178,
   "metadata": {},
   "outputs": [],
   "source": [
    "def validate_epoch(model):\n",
    "    accs = [batch_accuracy(model(xb), yb) for xb,yb in valid_dl]\n",
    "    return round(torch.stack(accs).mean().item(), 4)"
   ]
  },
  {
   "cell_type": "code",
   "execution_count": 179,
   "metadata": {},
   "outputs": [
    {
     "data": {
      "text/plain": [
       "0.9789"
      ]
     },
     "execution_count": 179,
     "metadata": {},
     "output_type": "execute_result"
    }
   ],
   "source": [
    "# This is the model's avg accuracy on our valid dataset\n",
    "validate_epoch(linear1)"
   ]
  },
  {
   "cell_type": "code",
   "execution_count": 180,
   "metadata": {},
   "outputs": [
    {
     "data": {
      "text/plain": [
       "0.9799"
      ]
     },
     "execution_count": 180,
     "metadata": {},
     "output_type": "execute_result"
    }
   ],
   "source": [
    "# let's train_epoch() 1 more time and see if accuracy impvoes on the validation set\n",
    "\n",
    "lr = 1.\n",
    "params = weights,bias\n",
    "train_epoch(linear1, lr, params)\n",
    "validate_epoch(linear1)"
   ]
  },
  {
   "cell_type": "code",
   "execution_count": 181,
   "metadata": {},
   "outputs": [
    {
     "name": "stdout",
     "output_type": "stream",
     "text": [
      "0.9795 0.9795 0.9795 0.9795 0.9799 0.9799 0.9799 0.9799 0.9799 0.9799 0.9799 0.9799 0.9799 0.9804 0.9804 0.9809 0.9809 0.9804 0.9804 0.9804 "
     ]
    }
   ],
   "source": [
    "# now do this for 20 epochs more, should see accuracy keeps going up\n",
    "\n",
    "for i in range(20):\n",
    "    train_epoch(linear1, lr, params)\n",
    "    print(validate_epoch(linear1), end=' ')"
   ]
  },
  {
   "cell_type": "markdown",
   "metadata": {},
   "source": [
    "### Creating an Optimizer"
   ]
  },
  {
   "cell_type": "code",
   "execution_count": 182,
   "metadata": {},
   "outputs": [
    {
     "name": "stdout",
     "output_type": "stream",
     "text": [
      "what's in linear_model?\n"
     ]
    },
    {
     "data": {
      "text/plain": [
       "(torch.Size([1, 784]), torch.Size([1]))"
      ]
     },
     "execution_count": 182,
     "metadata": {},
     "output_type": "execute_result"
    }
   ],
   "source": [
    "# Guess what?! PyTorch has a nn.Linear module, so we can replace our linear1 with it\n",
    "\n",
    "### BEFORE ###\n",
    "def linear1(xb): return xb@weights + bias\n",
    "# the weights & bias had to be initialized separately thusly:\n",
    "weights = init_params((28*28,1))\n",
    "bias = init_params(1)\n",
    "\n",
    "### NOW, with nn.Linear ###\n",
    "# nn.Linear will combine the stuff above into 1 line:\n",
    "linear_model = nn.Linear(28*28,1)\n",
    "\n",
    "\n",
    "print(f\"what's in linear_model?\")\n",
    "w,b = linear_model.parameters()\n",
    "w.shape, b.shape"
   ]
  },
  {
   "cell_type": "code",
   "execution_count": null,
   "metadata": {},
   "outputs": [],
   "source": [
    "# We can use this to create an optimizer..."
   ]
  },
  {
   "cell_type": "code",
   "execution_count": 184,
   "metadata": {},
   "outputs": [],
   "source": [
    "class BasicOptim:\n",
    "    def __init__(self,params,lr): self.params,self.lr = list(params),lr\n",
    "\n",
    "    def step(self, *args, **kwargs):\n",
    "        for p in self.params: p.data -= p.grad.data * self.lr\n",
    "\n",
    "    def zero_grad(self, *args, **kwargs):\n",
    "        for p in self.params: p.grad = None"
   ]
  },
  {
   "cell_type": "code",
   "execution_count": 185,
   "metadata": {},
   "outputs": [],
   "source": [
    "opt = BasicOptim(linear_model.parameters(), lr)"
   ]
  },
  {
   "cell_type": "code",
   "execution_count": 186,
   "metadata": {},
   "outputs": [],
   "source": [
    "# rewrite train_epoch() to use BasicOptim\n",
    "\n",
    "def train_epoch(model):\n",
    "    for xb,yb in dl:\n",
    "        calc_grad(xb, yb, model)\n",
    "        opt.step()\n",
    "        opt.zero_grad()"
   ]
  },
  {
   "cell_type": "code",
   "execution_count": 187,
   "metadata": {},
   "outputs": [
    {
     "data": {
      "text/plain": [
       "0.2331"
      ]
     },
     "execution_count": 187,
     "metadata": {},
     "output_type": "execute_result"
    }
   ],
   "source": [
    "validate_epoch(linear_model)"
   ]
  },
  {
   "cell_type": "code",
   "execution_count": 190,
   "metadata": {},
   "outputs": [],
   "source": [
    "def train_model(model, epochs):\n",
    "    for i in range(epochs):\n",
    "        train_epoch(model)  # this is where we apply step chgs while rotating thru batches\n",
    "        print(validate_epoch(model), end=' -> ')"
   ]
  },
  {
   "cell_type": "code",
   "execution_count": 191,
   "metadata": {},
   "outputs": [
    {
     "name": "stdout",
     "output_type": "stream",
     "text": [
      "0.979 -> 0.979 -> 0.9795 -> 0.9795 -> 0.98 -> 0.9795 -> 0.98 -> 0.9804 -> 0.9809 -> 0.9814 -> 0.9819 -> 0.9814 -> 0.9809 -> 0.9809 -> 0.9809 -> 0.9809 -> 0.9809 -> 0.9814 -> 0.9814 -> 0.9814 -> "
     ]
    }
   ],
   "source": [
    "train_model(linear_model, 20)"
   ]
  },
  {
   "cell_type": "code",
   "execution_count": 192,
   "metadata": {},
   "outputs": [
    {
     "name": "stdout",
     "output_type": "stream",
     "text": [
      "0.4932 -> 0.8715 -> 0.8208 -> 0.9097 -> 0.9306 -> 0.9458 -> 0.956 -> 0.9619 -> 0.9658 -> 0.9678 -> 0.9687 -> 0.9712 -> 0.9736 -> 0.9746 -> 0.9761 -> 0.9761 -> 0.9775 -> 0.9775 -> 0.978 -> 0.9785 -> "
     ]
    }
   ],
   "source": [
    "# Guess what?!  FastAi's SGD class is the same as our BasicOptim class! \n",
    "\n",
    "linear_model = nn.Linear(28*28,1)\n",
    "opt = SGD(linear_model.parameters(), lr)\n",
    "train_model(linear_model, 20)"
   ]
  },
  {
   "cell_type": "code",
   "execution_count": null,
   "metadata": {},
   "outputs": [],
   "source": [
    "# Guess what?! FastAi's Learner.fit does the same as our train_model()!\n",
    "\n",
    "# To create a Learner, we'll need the DataLoaders for our training & validation datasets!\n",
    "# remember earlier we already had this:\n",
    "  dl = DataLoader(dset, batch_size=256)  # training set\n",
    "  valid_dl = DataLoader(valid_dset, batch_size=256) # validation set\n",
    "# where the dset & valid_dset were made by zipping together the images and their labels"
   ]
  },
  {
   "cell_type": "code",
   "execution_count": 193,
   "metadata": {},
   "outputs": [],
   "source": [
    "# make a DataLoaderS of those 2 DataLoader instances\n",
    "dls = DataLoaders(dl, valid_dl)"
   ]
  },
  {
   "cell_type": "code",
   "execution_count": 194,
   "metadata": {},
   "outputs": [],
   "source": [
    "learn = Learner(dls,\n",
    "                nn.Linear(28*28,1), \n",
    "                opt_func=SGD,\n",
    "                loss_func=mnist_loss, \n",
    "                metrics=batch_accuracy)\n",
    "# Learner() args\n",
    "# arg1 = DataLoaderS(training_DataLoader, validation_DataLoader)\n",
    "        # where each DataLoader is the dataset split into batches\n",
    "        # ex: valid_dl = DataLoader(valid_dset, batch_size=256)\n",
    "# arg2 = model, like nn.Linear(size, size) or our own linear1\n",
    "# arg3 = optimizer fcn, like SGD or our own BasicOptim\n",
    "        # remember that it applies step changes to each batch, not the whole training dset\n",
    "# arg4 = loss fcn\n",
    "        # calc'd on 1 batch in training_DataLoader per epoch\n",
    "# arg5 = metrics fcn\n",
    "        # this is applied to the whole valid_dset for each epoch"
   ]
  },
  {
   "cell_type": "code",
   "execution_count": 1,
   "metadata": {
    "collapsed": true,
    "jupyter": {
     "outputs_hidden": true
    },
    "tags": []
   },
   "outputs": [
    {
     "ename": "SyntaxError",
     "evalue": "invalid syntax (2264909836.py, line 1)",
     "output_type": "error",
     "traceback": [
      "\u001b[0;36m  File \u001b[0;32m\"/tmp/ipykernel_10136/2264909836.py\"\u001b[0;36m, line \u001b[0;32m1\u001b[0m\n\u001b[0;31m    Side Q at 59:00 video mark\u001b[0m\n\u001b[0m         ^\u001b[0m\n\u001b[0;31mSyntaxError\u001b[0m\u001b[0;31m:\u001b[0m invalid syntax\n"
     ]
    }
   ],
   "source": [
    "# Side Q at 59:00 video mark\n",
    "\n",
    "# Q = Won't using RELU fcn that makes the neg output zero, end up with many gradients zero, \n",
    "# and stop the computation process due to many 0 gradients?\n",
    " \n",
    "# A = yes it can.  But not all the inputs in all the batches will end up this way.  \n",
    "# If we get a model where a lot of inputs are ending up with 0 grads, \n",
    "# then yes we got dead neurons, which means yes we're wasting computation.\n",
    "# 1 way to fix it is to use a \"leaky RELU, that gives a small pos number instead of 0ing out.\n"
   ]
  },
  {
   "cell_type": "code",
   "execution_count": 195,
   "metadata": {},
   "outputs": [
    {
     "data": {
      "text/html": [
       "\n",
       "<style>\n",
       "    /* Turns off some styling */\n",
       "    progress {\n",
       "        /* gets rid of default border in Firefox and Opera. */\n",
       "        border: none;\n",
       "        /* Needs to be in here for Safari polyfill so background images work as expected. */\n",
       "        background-size: auto;\n",
       "    }\n",
       "    .progress-bar-interrupted, .progress-bar-interrupted::-webkit-progress-bar {\n",
       "        background: #F44336;\n",
       "    }\n",
       "</style>\n"
      ],
      "text/plain": [
       "<IPython.core.display.HTML object>"
      ]
     },
     "metadata": {},
     "output_type": "display_data"
    },
    {
     "data": {
      "text/html": [
       "<table border=\"1\" class=\"dataframe\">\n",
       "  <thead>\n",
       "    <tr style=\"text-align: left;\">\n",
       "      <th>epoch</th>\n",
       "      <th>train_loss</th>\n",
       "      <th>valid_loss</th>\n",
       "      <th>batch_accuracy</th>\n",
       "      <th>time</th>\n",
       "    </tr>\n",
       "  </thead>\n",
       "  <tbody>\n",
       "    <tr>\n",
       "      <td>0</td>\n",
       "      <td>0.637241</td>\n",
       "      <td>0.503066</td>\n",
       "      <td>0.495584</td>\n",
       "      <td>00:00</td>\n",
       "    </tr>\n",
       "    <tr>\n",
       "      <td>1</td>\n",
       "      <td>0.415455</td>\n",
       "      <td>0.269776</td>\n",
       "      <td>0.745829</td>\n",
       "      <td>00:00</td>\n",
       "    </tr>\n",
       "    <tr>\n",
       "      <td>2</td>\n",
       "      <td>0.156930</td>\n",
       "      <td>0.157450</td>\n",
       "      <td>0.858685</td>\n",
       "      <td>00:00</td>\n",
       "    </tr>\n",
       "    <tr>\n",
       "      <td>3</td>\n",
       "      <td>0.071057</td>\n",
       "      <td>0.097851</td>\n",
       "      <td>0.917076</td>\n",
       "      <td>00:00</td>\n",
       "    </tr>\n",
       "    <tr>\n",
       "      <td>4</td>\n",
       "      <td>0.039256</td>\n",
       "      <td>0.073343</td>\n",
       "      <td>0.935231</td>\n",
       "      <td>00:00</td>\n",
       "    </tr>\n",
       "    <tr>\n",
       "      <td>5</td>\n",
       "      <td>0.026727</td>\n",
       "      <td>0.059644</td>\n",
       "      <td>0.951423</td>\n",
       "      <td>00:00</td>\n",
       "    </tr>\n",
       "    <tr>\n",
       "      <td>6</td>\n",
       "      <td>0.021512</td>\n",
       "      <td>0.050991</td>\n",
       "      <td>0.956330</td>\n",
       "      <td>00:00</td>\n",
       "    </tr>\n",
       "    <tr>\n",
       "      <td>7</td>\n",
       "      <td>0.019145</td>\n",
       "      <td>0.045160</td>\n",
       "      <td>0.963690</td>\n",
       "      <td>00:00</td>\n",
       "    </tr>\n",
       "    <tr>\n",
       "      <td>8</td>\n",
       "      <td>0.017908</td>\n",
       "      <td>0.041008</td>\n",
       "      <td>0.966143</td>\n",
       "      <td>00:00</td>\n",
       "    </tr>\n",
       "    <tr>\n",
       "      <td>9</td>\n",
       "      <td>0.017141</td>\n",
       "      <td>0.037916</td>\n",
       "      <td>0.968106</td>\n",
       "      <td>00:00</td>\n",
       "    </tr>\n",
       "  </tbody>\n",
       "</table>"
      ],
      "text/plain": [
       "<IPython.core.display.HTML object>"
      ]
     },
     "metadata": {},
     "output_type": "display_data"
    }
   ],
   "source": [
    "# NEATO!!!\n",
    "\n",
    "learn.fit(10, lr=lr)"
   ]
  },
  {
   "cell_type": "markdown",
   "metadata": {},
   "source": [
    "## Adding a Nonlinearity"
   ]
  },
  {
   "cell_type": "code",
   "execution_count": 197,
   "metadata": {
    "collapsed": true,
    "jupyter": {
     "outputs_hidden": true
    },
    "tags": []
   },
   "outputs": [
    {
     "data": {
      "image/png": "[encoded data removed]",
      "text/plain": [
       "<Figure size 432x288 with 1 Axes>"
      ]
     },
     "metadata": {
      "needs_background": "light"
     },
     "output_type": "display_data"
    }
   ],
   "source": [
    "# A basic neural network:\n",
    "# we have in simple_net 2 linear classifiers\n",
    "#   each linear eq has its own weights & biases, which were randomly init'd cell)\n",
    "\n",
    "w1 = init_params((28*28,30))\n",
    "b1 = init_params(30)\n",
    "w2 = init_params((30,1))\n",
    "b2 = init_params(1)\n",
    "\n",
    "# w1 has 30 output activations, so w2 must match\n",
    "# this means the 1st layer can construct 30 diff features, each repping some diff mix of pixels\n",
    "# why?\n",
    "# bc w/ more linear layers means more computation and model more complex fcns...\n",
    "# and we can just multiply things together and add them up just once like here!\n",
    "# A series of any # of linear layers in a row can be replaced w/ a single linear layer w/ a diff set of params\n",
    "# But if we put a nonlinear fcn between the linear layers (such as .max),\n",
    "# then each layer is decoupled from each other and can do its own thing.\n",
    "# .... Universal Approx Theorem!\n",
    "\n",
    "def simple_net(xb): \n",
    "    res = xb@w1 + b1\n",
    "    res = res.max(tensor(0.0))  # ReLU\n",
    "    res = res@w2 + b2\n",
    "    return res\n",
    "\n",
    "\n",
    "# ReLU = rectified linear unit\n",
    "# it just replaces every neg number w/ a zero\n",
    "# it's also avail via pyTorch as F.relu\n",
    "\n",
    "# see it turns all neg numbers to a zero\n",
    "plot_function(F.relu)"
   ]
  },
  {
   "cell_type": "code",
   "execution_count": null,
   "metadata": {
    "tags": []
   },
   "outputs": [],
   "source": [
    "### UNIVERSAL APPROXIMATION THEOREM ###\n",
    " # For any arbitrarily wiggly function, \n",
    " #    we can approximate it as a bunch of lines joined together; \n",
    " #    to make it closer to the wiggly function, we just have to use shorter lines. \n",
    " # This is known as the universal approximation theorem.\n",
    "\n",
    "# the 3 lines of code in simple_net() are the LAYERs\n",
    "# 1st & 3rd lines are teh LINEAR LAYERS\n",
    "# 2nd line is the NONLINEARITY, or ACTIVATION FCN"
   ]
  },
  {
   "cell_type": "code",
   "execution_count": 198,
   "metadata": {
    "tags": []
   },
   "outputs": [],
   "source": [
    "# Guess what?! PyTorch built-ins got yo back!\n",
    "\n",
    "simple_net = nn.Sequential(\n",
    "    nn.Linear(28*28,30),\n",
    "    nn.ReLU(),\n",
    "    nn.Linear(30,1)\n",
    ")\n",
    "\n",
    "# nn.Sequential() createas a module that calls each of th listed layers/fcns in turn\n",
    "# nn.ReLU is a pyTorch module that does the same thing as F.relu\n",
    "    # but nn.Sequential is a module, and thus req the module version of nn.ReLU()\n",
    "# bc nn.Sequential is a module, we can get its parameters, \n",
    "# which returns a list of all the params of all the modules it contains"
   ]
  },
  {
   "cell_type": "code",
   "execution_count": 205,
   "metadata": {
    "collapsed": true,
    "jupyter": {
     "outputs_hidden": true
    },
    "tags": []
   },
   "outputs": [
    {
     "name": "stdout",
     "output_type": "stream",
     "text": [
      "30\n",
      "30\n",
      "1\n",
      "1\n",
      "Parameter containing:\n",
      "tensor([[-0.1091, -0.1820,  0.1113,  0.1249, -0.0549,  0.1087,  0.0798, -0.0542,  0.0096,  0.1690, -0.1086,  0.0754,  0.1136, -0.0290, -0.1241,  0.0509, -0.1266, -0.1582,  0.0954,  0.1238, -0.1689,\n",
      "          0.1072, -0.0688, -0.0100, -0.0453,  0.0080, -0.1073,  0.1608,  0.0826, -0.1494]], requires_grad=True)\n",
      "Parameter containing:\n",
      "tensor([-0.1238], requires_grad=True)\n"
     ]
    }
   ],
   "source": [
    "allParams = list(simple_net.parameters())\n",
    "for param in allParams:\n",
    "    print(len(param))\n",
    "print(allParams[2])\n",
    "print(allParams[3])\n",
    "# yeah IDK what this is"
   ]
  },
  {
   "cell_type": "code",
   "execution_count": null,
   "metadata": {},
   "outputs": [],
   "source": [
    "# Hey it's Learner again!  \n",
    "# This time instead of the nn.Linear() linear_model \n",
    "   # linear_model = nn.Linear(int, int)\n",
    "# we're using nn.Sequential() simple_net model!\n",
    "   # simple_net = nn.Sequential(nn.Linear(int, int), nn.ReLU(), nn.Linear(int, int))\n",
    "\n",
    "learn = Learner(dls, \n",
    "                simple_net, \n",
    "                opt_func=SGD,\n",
    "                loss_func=mnist_loss, \n",
    "                metrics=batch_accuracy)"
   ]
  },
  {
   "cell_type": "code",
   "execution_count": 199,
   "metadata": {
    "collapsed": true,
    "jupyter": {
     "outputs_hidden": true
    },
    "tags": []
   },
   "outputs": [
    {
     "data": {
      "text/html": [
       "\n",
       "<style>\n",
       "    /* Turns off some styling */\n",
       "    progress {\n",
       "        /* gets rid of default border in Firefox and Opera. */\n",
       "        border: none;\n",
       "        /* Needs to be in here for Safari polyfill so background images work as expected. */\n",
       "        background-size: auto;\n",
       "    }\n",
       "    .progress-bar-interrupted, .progress-bar-interrupted::-webkit-progress-bar {\n",
       "        background: #F44336;\n",
       "    }\n",
       "</style>\n"
      ],
      "text/plain": [
       "<IPython.core.display.HTML object>"
      ]
     },
     "metadata": {},
     "output_type": "display_data"
    },
    {
     "data": {
      "text/html": [
       "<table border=\"1\" class=\"dataframe\">\n",
       "  <thead>\n",
       "    <tr style=\"text-align: left;\">\n",
       "      <th>epoch</th>\n",
       "      <th>train_loss</th>\n",
       "      <th>valid_loss</th>\n",
       "      <th>batch_accuracy</th>\n",
       "      <th>time</th>\n",
       "    </tr>\n",
       "  </thead>\n",
       "  <tbody>\n",
       "    <tr>\n",
       "      <td>0</td>\n",
       "      <td>0.026140</td>\n",
       "      <td>0.030233</td>\n",
       "      <td>0.974485</td>\n",
       "      <td>00:00</td>\n",
       "    </tr>\n",
       "    <tr>\n",
       "      <td>1</td>\n",
       "      <td>0.023481</td>\n",
       "      <td>0.028334</td>\n",
       "      <td>0.976448</td>\n",
       "      <td>00:00</td>\n",
       "    </tr>\n",
       "    <tr>\n",
       "      <td>2</td>\n",
       "      <td>0.022174</td>\n",
       "      <td>0.027766</td>\n",
       "      <td>0.978901</td>\n",
       "      <td>00:00</td>\n",
       "    </tr>\n",
       "    <tr>\n",
       "      <td>3</td>\n",
       "      <td>0.021561</td>\n",
       "      <td>0.027562</td>\n",
       "      <td>0.977920</td>\n",
       "      <td>00:00</td>\n",
       "    </tr>\n",
       "    <tr>\n",
       "      <td>4</td>\n",
       "      <td>0.021275</td>\n",
       "      <td>0.027454</td>\n",
       "      <td>0.977920</td>\n",
       "      <td>00:00</td>\n",
       "    </tr>\n",
       "    <tr>\n",
       "      <td>5</td>\n",
       "      <td>0.021128</td>\n",
       "      <td>0.027367</td>\n",
       "      <td>0.977429</td>\n",
       "      <td>00:00</td>\n",
       "    </tr>\n",
       "    <tr>\n",
       "      <td>6</td>\n",
       "      <td>0.021032</td>\n",
       "      <td>0.027281</td>\n",
       "      <td>0.976938</td>\n",
       "      <td>00:00</td>\n",
       "    </tr>\n",
       "    <tr>\n",
       "      <td>7</td>\n",
       "      <td>0.020950</td>\n",
       "      <td>0.027192</td>\n",
       "      <td>0.976938</td>\n",
       "      <td>00:00</td>\n",
       "    </tr>\n",
       "    <tr>\n",
       "      <td>8</td>\n",
       "      <td>0.020870</td>\n",
       "      <td>0.027101</td>\n",
       "      <td>0.976938</td>\n",
       "      <td>00:00</td>\n",
       "    </tr>\n",
       "    <tr>\n",
       "      <td>9</td>\n",
       "      <td>0.020789</td>\n",
       "      <td>0.027009</td>\n",
       "      <td>0.977920</td>\n",
       "      <td>00:00</td>\n",
       "    </tr>\n",
       "    <tr>\n",
       "      <td>10</td>\n",
       "      <td>0.020707</td>\n",
       "      <td>0.026917</td>\n",
       "      <td>0.977920</td>\n",
       "      <td>00:00</td>\n",
       "    </tr>\n",
       "    <tr>\n",
       "      <td>11</td>\n",
       "      <td>0.020624</td>\n",
       "      <td>0.026825</td>\n",
       "      <td>0.977920</td>\n",
       "      <td>00:00</td>\n",
       "    </tr>\n",
       "    <tr>\n",
       "      <td>12</td>\n",
       "      <td>0.020542</td>\n",
       "      <td>0.026735</td>\n",
       "      <td>0.978410</td>\n",
       "      <td>00:00</td>\n",
       "    </tr>\n",
       "    <tr>\n",
       "      <td>13</td>\n",
       "      <td>0.020461</td>\n",
       "      <td>0.026645</td>\n",
       "      <td>0.978901</td>\n",
       "      <td>00:00</td>\n",
       "    </tr>\n",
       "    <tr>\n",
       "      <td>14</td>\n",
       "      <td>0.020380</td>\n",
       "      <td>0.026556</td>\n",
       "      <td>0.978901</td>\n",
       "      <td>00:00</td>\n",
       "    </tr>\n",
       "    <tr>\n",
       "      <td>15</td>\n",
       "      <td>0.020301</td>\n",
       "      <td>0.026469</td>\n",
       "      <td>0.979392</td>\n",
       "      <td>00:00</td>\n",
       "    </tr>\n",
       "    <tr>\n",
       "      <td>16</td>\n",
       "      <td>0.020224</td>\n",
       "      <td>0.026384</td>\n",
       "      <td>0.979392</td>\n",
       "      <td>00:00</td>\n",
       "    </tr>\n",
       "    <tr>\n",
       "      <td>17</td>\n",
       "      <td>0.020147</td>\n",
       "      <td>0.026299</td>\n",
       "      <td>0.979882</td>\n",
       "      <td>00:00</td>\n",
       "    </tr>\n",
       "    <tr>\n",
       "      <td>18</td>\n",
       "      <td>0.020073</td>\n",
       "      <td>0.026216</td>\n",
       "      <td>0.979882</td>\n",
       "      <td>00:00</td>\n",
       "    </tr>\n",
       "    <tr>\n",
       "      <td>19</td>\n",
       "      <td>0.019999</td>\n",
       "      <td>0.026134</td>\n",
       "      <td>0.979882</td>\n",
       "      <td>00:00</td>\n",
       "    </tr>\n",
       "    <tr>\n",
       "      <td>20</td>\n",
       "      <td>0.019927</td>\n",
       "      <td>0.026054</td>\n",
       "      <td>0.979882</td>\n",
       "      <td>00:00</td>\n",
       "    </tr>\n",
       "    <tr>\n",
       "      <td>21</td>\n",
       "      <td>0.019856</td>\n",
       "      <td>0.025975</td>\n",
       "      <td>0.980373</td>\n",
       "      <td>00:00</td>\n",
       "    </tr>\n",
       "    <tr>\n",
       "      <td>22</td>\n",
       "      <td>0.019786</td>\n",
       "      <td>0.025897</td>\n",
       "      <td>0.980373</td>\n",
       "      <td>00:00</td>\n",
       "    </tr>\n",
       "    <tr>\n",
       "      <td>23</td>\n",
       "      <td>0.019718</td>\n",
       "      <td>0.025821</td>\n",
       "      <td>0.980373</td>\n",
       "      <td>00:00</td>\n",
       "    </tr>\n",
       "    <tr>\n",
       "      <td>24</td>\n",
       "      <td>0.019651</td>\n",
       "      <td>0.025746</td>\n",
       "      <td>0.980864</td>\n",
       "      <td>00:00</td>\n",
       "    </tr>\n",
       "    <tr>\n",
       "      <td>25</td>\n",
       "      <td>0.019585</td>\n",
       "      <td>0.025672</td>\n",
       "      <td>0.980864</td>\n",
       "      <td>00:00</td>\n",
       "    </tr>\n",
       "    <tr>\n",
       "      <td>26</td>\n",
       "      <td>0.019520</td>\n",
       "      <td>0.025599</td>\n",
       "      <td>0.980864</td>\n",
       "      <td>00:00</td>\n",
       "    </tr>\n",
       "    <tr>\n",
       "      <td>27</td>\n",
       "      <td>0.019456</td>\n",
       "      <td>0.025527</td>\n",
       "      <td>0.980864</td>\n",
       "      <td>00:00</td>\n",
       "    </tr>\n",
       "    <tr>\n",
       "      <td>28</td>\n",
       "      <td>0.019393</td>\n",
       "      <td>0.025456</td>\n",
       "      <td>0.980864</td>\n",
       "      <td>00:00</td>\n",
       "    </tr>\n",
       "    <tr>\n",
       "      <td>29</td>\n",
       "      <td>0.019332</td>\n",
       "      <td>0.025387</td>\n",
       "      <td>0.980864</td>\n",
       "      <td>00:00</td>\n",
       "    </tr>\n",
       "    <tr>\n",
       "      <td>30</td>\n",
       "      <td>0.019271</td>\n",
       "      <td>0.025319</td>\n",
       "      <td>0.980864</td>\n",
       "      <td>00:00</td>\n",
       "    </tr>\n",
       "    <tr>\n",
       "      <td>31</td>\n",
       "      <td>0.019211</td>\n",
       "      <td>0.025251</td>\n",
       "      <td>0.980864</td>\n",
       "      <td>00:00</td>\n",
       "    </tr>\n",
       "    <tr>\n",
       "      <td>32</td>\n",
       "      <td>0.019152</td>\n",
       "      <td>0.025185</td>\n",
       "      <td>0.980864</td>\n",
       "      <td>00:00</td>\n",
       "    </tr>\n",
       "    <tr>\n",
       "      <td>33</td>\n",
       "      <td>0.019094</td>\n",
       "      <td>0.025120</td>\n",
       "      <td>0.980864</td>\n",
       "      <td>00:00</td>\n",
       "    </tr>\n",
       "    <tr>\n",
       "      <td>34</td>\n",
       "      <td>0.019037</td>\n",
       "      <td>0.025056</td>\n",
       "      <td>0.980864</td>\n",
       "      <td>00:00</td>\n",
       "    </tr>\n",
       "    <tr>\n",
       "      <td>35</td>\n",
       "      <td>0.018981</td>\n",
       "      <td>0.024992</td>\n",
       "      <td>0.980864</td>\n",
       "      <td>00:00</td>\n",
       "    </tr>\n",
       "    <tr>\n",
       "      <td>36</td>\n",
       "      <td>0.018925</td>\n",
       "      <td>0.024930</td>\n",
       "      <td>0.980864</td>\n",
       "      <td>00:00</td>\n",
       "    </tr>\n",
       "    <tr>\n",
       "      <td>37</td>\n",
       "      <td>0.018871</td>\n",
       "      <td>0.024869</td>\n",
       "      <td>0.980864</td>\n",
       "      <td>00:00</td>\n",
       "    </tr>\n",
       "    <tr>\n",
       "      <td>38</td>\n",
       "      <td>0.018817</td>\n",
       "      <td>0.024808</td>\n",
       "      <td>0.980864</td>\n",
       "      <td>00:00</td>\n",
       "    </tr>\n",
       "    <tr>\n",
       "      <td>39</td>\n",
       "      <td>0.018764</td>\n",
       "      <td>0.024749</td>\n",
       "      <td>0.980864</td>\n",
       "      <td>00:00</td>\n",
       "    </tr>\n",
       "  </tbody>\n",
       "</table>"
      ],
      "text/plain": [
       "<IPython.core.display.HTML object>"
      ]
     },
     "metadata": {},
     "output_type": "display_data"
    }
   ],
   "source": [
    "# Let's go!\n",
    "learn.fit(40, lr=0.1)"
   ]
  },
  {
   "cell_type": "code",
   "execution_count": 222,
   "metadata": {},
   "outputs": [
    {
     "data": {
      "image/png": "[encoded data removed]",
      "text/plain": [
       "<Figure size 432x288 with 1 Axes>"
      ]
     },
     "metadata": {
      "needs_background": "light"
     },
     "output_type": "display_data"
    }
   ],
   "source": [
    "# learn.recorder saved the results in its .values\n",
    "# print(L(learn.recorder.values))\n",
    "# ^ prints out for an array of 40 arrays/epochs\n",
    "# each epoch array has [train_loss, valid_loss, batch_accuracy]\n",
    "# so the plot below prints out the batch_accuracy over the 40 epochs for humans\n",
    "\n",
    "plt.plot(L(learn.recorder.values).itemgot(2));"
   ]
  },
  {
   "cell_type": "code",
   "execution_count": 223,
   "metadata": {
    "collapsed": true,
    "jupyter": {
     "outputs_hidden": true
    },
    "tags": []
   },
   "outputs": [
    {
     "data": {
      "text/plain": [
       "0.9808635711669922"
      ]
     },
     "execution_count": 223,
     "metadata": {},
     "output_type": "execute_result"
    }
   ],
   "source": [
    "# this is the batch_accuracy for the latest epoch\n",
    "learn.recorder.values[-1][2]"
   ]
  },
  {
   "cell_type": "markdown",
   "metadata": {},
   "source": [
    "### Going Deeper"
   ]
  },
  {
   "cell_type": "code",
   "execution_count": null,
   "metadata": {},
   "outputs": [],
   "source": [
    "# We can have nn.Sequential() pack as many linear layers as we want, \n",
    "# as long as we add a nonlinearity/activationFcn in between.\n",
    "\n",
    "# But the deeper the model gets the harder it is to optimize the parameters in practice.\n",
    "# There'll be some techniques intro'd later though.\n",
    "\n",
    "# We already know that a single nonlinearity with two linear layers is enough to approximate any function. \n",
    "# So why would we use deeper models? The reason is performance. \n",
    "# With a deeper model (that is, one with more layers) we do not need to use as many parameters; \n",
    "# it turns out that we can use smaller matrices with more layers, \n",
    "# and get better results than we would get with larger matrices and few layers.\n",
    "# Also means we can train model quicker, w/ less memory, yay.\n",
    "\n"
   ]
  },
  {
   "cell_type": "code",
   "execution_count": 38,
   "metadata": {},
   "outputs": [
    {
     "data": {
      "text/html": [
       "\n",
       "<style>\n",
       "    /* Turns off some styling */\n",
       "    progress {\n",
       "        /* gets rid of default border in Firefox and Opera. */\n",
       "        border: none;\n",
       "        /* Needs to be in here for Safari polyfill so background images work as expected. */\n",
       "        background-size: auto;\n",
       "    }\n",
       "    .progress-bar-interrupted, .progress-bar-interrupted::-webkit-progress-bar {\n",
       "        background: #F44336;\n",
       "    }\n",
       "</style>\n"
      ],
      "text/plain": [
       "<IPython.core.display.HTML object>"
      ]
     },
     "metadata": {},
     "output_type": "display_data"
    },
    {
     "data": {
      "text/html": [
       "<table border=\"1\" class=\"dataframe\">\n",
       "  <thead>\n",
       "    <tr style=\"text-align: left;\">\n",
       "      <th>epoch</th>\n",
       "      <th>train_loss</th>\n",
       "      <th>valid_loss</th>\n",
       "      <th>accuracy</th>\n",
       "      <th>time</th>\n",
       "    </tr>\n",
       "  </thead>\n",
       "  <tbody>\n",
       "    <tr>\n",
       "      <td>0</td>\n",
       "      <td>0.088684</td>\n",
       "      <td>0.013347</td>\n",
       "      <td>0.995093</td>\n",
       "      <td>01:15</td>\n",
       "    </tr>\n",
       "  </tbody>\n",
       "</table>"
      ],
      "text/plain": [
       "<IPython.core.display.HTML object>"
      ]
     },
     "metadata": {},
     "output_type": "display_data"
    }
   ],
   "source": [
    "# Check this out, an 18-layer model is actually pretty fast\n",
    "# look at that ~100% accuracy!  \n",
    "# Compare that to how many epochs it took our simple_net model above!\n",
    "\n",
    "dls = ImageDataLoaders.from_folder(path)\n",
    "learn = cnn_learner(dls, \n",
    "                    resnet18, \n",
    "                    pretrained=False,\n",
    "                    loss_func=F.cross_entropy, \n",
    "                    metrics=accuracy)\n",
    "learn.fit_one_cycle(1, 0.1)"
   ]
  },
  {
   "cell_type": "code",
   "execution_count": 44,
   "metadata": {
    "collapsed": true,
    "jupyter": {
     "outputs_hidden": true
    },
    "tags": []
   },
   "outputs": [
    {
     "data": {
      "text/plain": [
       "tensor([[  0,   0,   0,   0,   0,   0,   0,   0,   0,   0,   0,   0,   0,   0,   0,   0,   0,   0,   0,   0,   0,   0,   0,   0,   0,   0,   0,   0],\n",
       "        [  0,   0,   0,   0,   0,   0,   0,   0,   0,   0,   0,   0,   0,   0,   0,   0,   0,   0,   0,   0,   0,   0,   0,   0,   0,   0,   0,   0],\n",
       "        [  0,   0,   0,   0,   0,   0,   0,   0,   0,   0,   0,   0,   0,   0,   0,   0,   0,   0,   0,   0,   0,   0,   0,   0,   0,   0,   0,   0],\n",
       "        [  0,   0,   0,   0,   0,   0,   0,   0,   0,   0,   0,   0,   0,   0,   0,   0,   0,   0,   0,   0,   0,   0,   0,   0,   0,   0,   0,   0],\n",
       "        [  0,   0,   0,   0,   0,   0,   0,   0,   0,   0,   0,  42, 118, 219, 166, 118, 118,   6,   0,   0,   0,   0,   0,   0,   0,   0,   0,   0],\n",
       "        [  0,   0,   0,   0,   0,   0,   0,   0,   0,   0, 103, 242, 254, 254, 254, 254, 254,  66,   0,   0,   0,   0,   0,   0,   0,   0,   0,   0],\n",
       "        [  0,   0,   0,   0,   0,   0,   0,   0,   0,   0,  18, 232, 254, 254, 254, 254, 254, 238,  70,   0,   0,   0,   0,   0,   0,   0,   0,   0],\n",
       "        [  0,   0,   0,   0,   0,   0,   0,   0,   0,   0,   0, 104, 244, 254, 224, 254, 254, 254, 141,   0,   0,   0,   0,   0,   0,   0,   0,   0],\n",
       "        [  0,   0,   0,   0,   0,   0,   0,   0,   0,   0,   0,   0, 207, 254, 210, 254, 254, 254,  34,   0,   0,   0,   0,   0,   0,   0,   0,   0],\n",
       "        [  0,   0,   0,   0,   0,   0,   0,   0,   0,   0,   0,   0,  84, 206, 254, 254, 254, 254,  41,   0,   0,   0,   0,   0,   0,   0,   0,   0],\n",
       "        [  0,   0,   0,   0,   0,   0,   0,   0,   0,   0,   0,   0,   0,  24, 209, 254, 254, 254, 171,   0,   0,   0,   0,   0,   0,   0,   0,   0],\n",
       "        [  0,   0,   0,   0,   0,   0,   0,   0,   0,   0,   0,   0,  91, 137, 253, 254, 254, 254, 112,   0,   0,   0,   0,   0,   0,   0,   0,   0],\n",
       "        [  0,   0,   0,   0,   0,   0,   0,   0,   0,   0,  40, 214, 250, 254, 254, 254, 254, 254,  34,   0,   0,   0,   0,   0,   0,   0,   0,   0],\n",
       "        [  0,   0,   0,   0,   0,   0,   0,   0,   0,   0,  81, 247, 254, 254, 254, 254, 254, 254, 146,   0,   0,   0,   0,   0,   0,   0,   0,   0],\n",
       "        [  0,   0,   0,   0,   0,   0,   0,   0,   0,   0,   0, 110, 246, 254, 254, 254, 254, 254, 171,   0,   0,   0,   0,   0,   0,   0,   0,   0],\n",
       "        [  0,   0,   0,   0,   0,   0,   0,   0,   0,   0,   0,   0,  73,  89,  89,  93, 240, 254, 171,   0,   0,   0,   0,   0,   0,   0,   0,   0],\n",
       "        [  0,   0,   0,   0,   0,   0,   0,   0,   0,   0,   0,   0,   0,   0,   0,   1, 128, 254, 219,  31,   0,   0,   0,   0,   0,   0,   0,   0],\n",
       "        [  0,   0,   0,   0,   0,   0,   0,   0,   0,   0,   0,   0,   0,   0,   0,   7, 254, 254, 214,  28,   0,   0,   0,   0,   0,   0,   0,   0],\n",
       "        [  0,   0,   0,   0,   0,   0,   0,   0,   0,   0,   0,   0,   0,   0,   0, 138, 254, 254, 116,   0,   0,   0,   0,   0,   0,   0,   0,   0],\n",
       "        [  0,   0,   0,   0,   0,   0,  19, 177,  90,   0,   0,   0,   0,   0,  25, 240, 254, 254,  34,   0,   0,   0,   0,   0,   0,   0,   0,   0],\n",
       "        [  0,   0,   0,   0,   0,   0, 164, 254, 215,  63,  36,   0,  51,  89, 206, 254, 254, 139,   8,   0,   0,   0,   0,   0,   0,   0,   0,   0],\n",
       "        [  0,   0,   0,   0,   0,   0,  57, 197, 254, 254, 222, 180, 241, 254, 254, 253, 213,  11,   0,   0,   0,   0,   0,   0,   0,   0,   0,   0],\n",
       "        [  0,   0,   0,   0,   0,   0,   0, 140, 105, 254, 254, 254, 254, 254, 254, 236,   0,   0,   0,   0,   0,   0,   0,   0,   0,   0,   0,   0],\n",
       "        [  0,   0,   0,   0,   0,   0,   0,   0,   7, 117, 117, 165, 254, 254, 239,  50,   0,   0,   0,   0,   0,   0,   0,   0,   0,   0,   0,   0],\n",
       "        [  0,   0,   0,   0,   0,   0,   0,   0,   0,   0,   0,   0,   0,   0,   0,   0,   0,   0,   0,   0,   0,   0,   0,   0,   0,   0,   0,   0],\n",
       "        [  0,   0,   0,   0,   0,   0,   0,   0,   0,   0,   0,   0,   0,   0,   0,   0,   0,   0,   0,   0,   0,   0,   0,   0,   0,   0,   0,   0],\n",
       "        [  0,   0,   0,   0,   0,   0,   0,   0,   0,   0,   0,   0,   0,   0,   0,   0,   0,   0,   0,   0,   0,   0,   0,   0,   0,   0,   0,   0],\n",
       "        [  0,   0,   0,   0,   0,   0,   0,   0,   0,   0,   0,   0,   0,   0,   0,   0,   0,   0,   0,   0,   0,   0,   0,   0,   0,   0,   0,   0]], dtype=torch.uint8)"
      ]
     },
     "execution_count": 44,
     "metadata": {},
     "output_type": "execute_result"
    }
   ],
   "source": [
    "# I guess, as seen in 01_intro.ipynb, if we want to predict a specific input...\n",
    "\n",
    "# not sure what I need to pjt into learn.predict() but these 3 below were wrong type...\n",
    "# im3_path = threes[1]\n",
    "# im3 = Image.open(im3_path)\n",
    "# three_tensors[0]\n",
    "learn.predict(\"SOMETHING\")"
   ]
  },
  {
   "cell_type": "markdown",
   "metadata": {},
   "source": [
    "## Jargon Recap"
   ]
  },
  {
   "cell_type": "code",
   "execution_count": 225,
   "metadata": {},
   "outputs": [],
   "source": [
    "# A neural network contains a lot of numbers, but they are only of two types: numbers that are calculated, and the parameters that these numbers are calculated from. This gives us the two most important pieces of jargon to learn:\n",
    "\n",
    "# Activations:: Numbers that are calculated (both by linear and nonlinear layers)\n",
    "# Parameters:: Numbers that are randomly initialized, and optimized (that is, the numbers that define the model)\n",
    "\n",
    "# remember Activations & Parameters are ACTUAL NUMBERS!!!\n",
    "# they're contained in TENSORS\n",
    "# which are simply regularly shaped arrays (such as a matrix)\n",
    "\n",
    "# matrices have rows & cols, aka axes or dimensions.\n",
    "# number of dimensions of a tensor is its RANK\n",
    "\n",
    "# Rank 0 tensor = SCALAR\n",
    "# Rank 1 tensor = VECTOR\n",
    "# Rank 2 tensor = MATRIX\n",
    "\n",
    "# A neural network contains a bunch of layers.\n",
    "# each layer is either linear OR nonlinear/ActivationFcn. \n",
    "# we generaly alternate between these 2 kinds.\n",
    "# Some ppl will refer to a linear layer + its subseq nonlinearity as a single layer -_-\n",
    "\n",
    "\n",
    "\n",
    "# |ReLU | Function that returns 0 for negative numbers and doesn't change positive numbers.\n",
    "# |Mini-batch | A small group of inputs and labels gathered together in two arrays. A gradient descent step is updated on this batch (rather than a whole epoch).\n",
    "# |Forward pass | Applying the model to some input and computing the predictions.\n",
    "# |Loss | A value that represents how well (or badly) our model is doing.\n",
    "# |Gradient | The derivative of the loss with respect to some parameter of the model.\n",
    "# |Backward pass | Computing the gradients of the loss with respect to all model parameters.\n",
    "# |Gradient descent | Taking a step in the directions opposite to the gradients to make the model parameters a little bit better.\n",
    "# |Learning rate | The size of the step we take when applying SGD to update the parameters of the model.\n",
    "\n",
    "\n",
    "# Q = how to choose the nonlinearity?\n",
    "# A = just regular RELU or leaky RELU is fine\n",
    "\n"
   ]
  },
  {
   "cell_type": "markdown",
   "metadata": {},
   "source": [
    "## Questionnaire"
   ]
  },
  {
   "cell_type": "markdown",
   "metadata": {},
   "source": [
    "1. How is a grayscale image represented on a computer? How about a color image?\n",
    "1. How are the files and folders in the `MNIST_SAMPLE` dataset structured? Why?\n",
    "1. Explain how the \"pixel similarity\" approach to classifying digits works.\n",
    "1. What is a list comprehension? Create one now that selects odd numbers from a list and doubles them.\n",
    "1. What is a \"rank-3 tensor\"?\n",
    "1. What is the difference between tensor rank and shape? How do you get the rank from the shape?\n",
    "1. What are RMSE and L1 norm?\n",
    "1. How can you apply a calculation on thousands of numbers at once, many thousands of times faster than a Python loop?\n",
    "1. Create a 3×3 tensor or array containing the numbers from 1 to 9. Double it. Select the bottom-right four numbers.\n",
    "1. What is broadcasting?\n",
    "1. Are metrics generally calculated using the training set, or the validation set? Why?\n",
    "1. What is SGD?\n",
    "1. Why does SGD use mini-batches?\n",
    "1. What are the seven steps in SGD for machine learning?\n",
    "1. How do we initialize the weights in a model?\n",
    "1. What is \"loss\"?\n",
    "1. Why can't we always use a high learning rate?\n",
    "1. What is a \"gradient\"?\n",
    "1. Do you need to know how to calculate gradients yourself?\n",
    "1. Why can't we use accuracy as a loss function?\n",
    "1. Draw the sigmoid function. What is special about its shape?\n",
    "1. What is the difference between a loss function and a metric?\n",
    "1. What is the function to calculate new weights using a learning rate?\n",
    "1. What does the `DataLoader` class do?\n",
    "1. Write pseudocode showing the basic steps taken in each epoch for SGD.\n",
    "1. Create a function that, if passed two arguments `[1,2,3,4]` and `'abcd'`, returns `[(1, 'a'), (2, 'b'), (3, 'c'), (4, 'd')]`. What is special about that output data structure?\n",
    "1. What does `view` do in PyTorch?\n",
    "1. What are the \"bias\" parameters in a neural network? Why do we need them?\n",
    "1. What does the `@` operator do in Python?\n",
    "1. What does the `backward` method do?\n",
    "1. Why do we have to zero the gradients?\n",
    "1. What information do we have to pass to `Learner`?\n",
    "1. Show Python or pseudocode for the basic steps of a training loop.\n",
    "1. What is \"ReLU\"? Draw a plot of it for values from `-2` to `+2`.\n",
    "1. What is an \"activation function\"?\n",
    "1. What's the difference between `F.relu` and `nn.ReLU`?\n",
    "1. The universal approximation theorem shows that any function can be approximated as closely as needed using just one nonlinearity. So why do we normally use more?"
   ]
  },
  {
   "cell_type": "code",
   "execution_count": null,
   "metadata": {},
   "outputs": [],
   "source": [
    "# https://forums.fast.ai/t/fastbook-chapter-4-questionnaire-solutions-wiki/67253"
   ]
  },
  {
   "cell_type": "markdown",
   "metadata": {},
   "source": [
    "### Further Research"
   ]
  },
  {
   "cell_type": "markdown",
   "metadata": {},
   "source": [
    "1. Create your own implementation of `Learner` from scratch, based on the training loop shown in this chapter.\n",
    "1. Complete all the steps in this chapter using the full MNIST datasets (that is, for all digits, not just 3s and 7s). This is a significant project and will take you quite a bit of time to complete! You'll need to do some of your own research to figure out how to overcome some obstacles you'll meet on the way."
   ]
  },
  {
   "cell_type": "code",
   "execution_count": 20,
   "metadata": {},
   "outputs": [
    {
     "name": "stdout",
     "output_type": "stream",
     "text": [
      "tensor([1., 2., 3., 4., 5., 6., 7., 8., 9.])\n",
      "tensor([[1., 2., 3.],\n",
      "        [4., 5., 6.],\n",
      "        [7., 8., 9.]])\n",
      "tensor([[ 2.,  4.,  6.],\n",
      "        [ 8., 10., 12.],\n",
      "        [14., 16., 18.]])\n"
     ]
    },
    {
     "data": {
      "text/plain": [
       "tensor([[10., 12.],\n",
       "        [16., 18.]])"
      ]
     },
     "execution_count": 20,
     "metadata": {},
     "output_type": "execute_result"
    }
   ],
   "source": [
    "one_to_nine = torch.Tensor(list(range(1,10)))\n",
    "print(one_to_nine)\n",
    "a = one_to_nine.view(3,3)\n",
    "print(a) \n",
    "\n",
    "tns = tensor([[1,2,3],[4,5,6],[7,8,9]])\n",
    "tns\n",
    "\n",
    "b = 2*a\n",
    "print(b)\n",
    "\n",
    "b[1:,1:]"
   ]
  },
  {
   "cell_type": "code",
   "execution_count": null,
   "metadata": {},
   "outputs": [],
   "source": []
  }
 ],
 "metadata": {
  "environment": {
   "kernel": "python3",
   "name": "pytorch-gpu.1-10.m90",
   "type": "gcloud",
   "uri": "gcr.io/deeplearning-platform-release/pytorch-gpu.1-10:m90"
  },
  "jupytext": {
   "split_at_heading": true
  },
  "kernelspec": {
   "display_name": "Python 3",
   "language": "python",
   "name": "python3"
  },
  "language_info": {
   "codemirror_mode": {
    "name": "ipython",
    "version": 3
   },
   "file_extension": ".py",
   "mimetype": "text/x-python",
   "name": "python",
   "nbconvert_exporter": "python",
   "pygments_lexer": "ipython3",
   "version": "3.7.12"
  }
 },
 "nbformat": 4,
 "nbformat_minor": 4
}
